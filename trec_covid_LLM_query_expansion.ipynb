{
 "cells": [
  {
   "cell_type": "code",
   "execution_count": 89,
   "id": "f97876b4",
   "metadata": {},
   "outputs": [],
   "source": [
    "import pandas as pd\n",
    "import pickle\n",
    "import numpy as np\n",
    "\n",
    "import json\n",
    "\n",
    "import time\n",
    "\n",
    "import re"
   ]
  },
  {
   "cell_type": "code",
   "execution_count": 2,
   "id": "d1b41bab",
   "metadata": {},
   "outputs": [],
   "source": [
    "TREC_COVID_MERGED_FILE=\"trec_covid_merged_data.tsv\"\n",
    "TREC_COVID_DOCUMENTS_FILE=\"trec_covid_original_title_text_merged.tsv\"\n",
    "\n",
    "TREC_COVID_QRELS=\"trec_covid_qrels.tsv\""
   ]
  },
  {
   "cell_type": "code",
   "execution_count": 35,
   "id": "f4133e66",
   "metadata": {},
   "outputs": [],
   "source": [
    "API_KEYS_FILE=\"../api_keys_20230324.json\""
   ]
  },
  {
   "cell_type": "code",
   "execution_count": 13,
   "id": "6d7006b3",
   "metadata": {},
   "outputs": [],
   "source": [
    "pd.set_option('display.max_colwidth', None)"
   ]
  },
  {
   "cell_type": "markdown",
   "id": "2d38a390",
   "metadata": {},
   "source": [
    "## Set the random seed"
   ]
  },
  {
   "cell_type": "code",
   "execution_count": 15,
   "id": "42e88e4e",
   "metadata": {},
   "outputs": [],
   "source": [
    "RANDOM_SEED = 6"
   ]
  },
  {
   "cell_type": "code",
   "execution_count": 16,
   "id": "4f7911d0",
   "metadata": {},
   "outputs": [],
   "source": [
    "rng = np.random.default_rng(RANDOM_SEED)"
   ]
  },
  {
   "cell_type": "markdown",
   "id": "86d89541",
   "metadata": {},
   "source": [
    "## Explore TREC COVID documents with questions"
   ]
  },
  {
   "cell_type": "code",
   "execution_count": null,
   "id": "37d10728",
   "metadata": {},
   "outputs": [],
   "source": [
    "merged_df = pd.read_csv(TREC_COVID_MERGED_FILE, sep=\"\\t\")"
   ]
  },
  {
   "cell_type": "code",
   "execution_count": 4,
   "id": "18faa646",
   "metadata": {},
   "outputs": [
    {
     "data": {
      "text/html": [
       "<div>\n",
       "<style scoped>\n",
       "    .dataframe tbody tr th:only-of-type {\n",
       "        vertical-align: middle;\n",
       "    }\n",
       "\n",
       "    .dataframe tbody tr th {\n",
       "        vertical-align: top;\n",
       "    }\n",
       "\n",
       "    .dataframe thead th {\n",
       "        text-align: right;\n",
       "    }\n",
       "</style>\n",
       "<table border=\"1\" class=\"dataframe\">\n",
       "  <thead>\n",
       "    <tr style=\"text-align: right;\">\n",
       "      <th></th>\n",
       "      <th>query-id</th>\n",
       "      <th>corpus-id</th>\n",
       "      <th>score</th>\n",
       "      <th>query-text</th>\n",
       "      <th>corpus-title</th>\n",
       "      <th>corpus-text</th>\n",
       "      <th>query-metadata</th>\n",
       "      <th>corpus-metadata</th>\n",
       "    </tr>\n",
       "  </thead>\n",
       "  <tbody>\n",
       "    <tr>\n",
       "      <th>0</th>\n",
       "      <td>1</td>\n",
       "      <td>005b2j4b</td>\n",
       "      <td>2</td>\n",
       "      <td>what is the origin of COVID-19</td>\n",
       "      <td>Monophyletic Relationship between Severe Acute...</td>\n",
       "      <td>Although primary genomic analysis has revealed...</td>\n",
       "      <td>{'query': 'coronavirus origin', 'narrative': \"...</td>\n",
       "      <td>{'url': 'https://www.ncbi.nlm.nih.gov/pubmed/1...</td>\n",
       "    </tr>\n",
       "    <tr>\n",
       "      <th>1</th>\n",
       "      <td>16</td>\n",
       "      <td>005b2j4b</td>\n",
       "      <td>0</td>\n",
       "      <td>how long does coronavirus remain stable  on su...</td>\n",
       "      <td>Monophyletic Relationship between Severe Acute...</td>\n",
       "      <td>Although primary genomic analysis has revealed...</td>\n",
       "      <td>{'query': 'how long does coronavirus survive o...</td>\n",
       "      <td>{'url': 'https://www.ncbi.nlm.nih.gov/pubmed/1...</td>\n",
       "    </tr>\n",
       "    <tr>\n",
       "      <th>2</th>\n",
       "      <td>32</td>\n",
       "      <td>005b2j4b</td>\n",
       "      <td>0</td>\n",
       "      <td>Does SARS-CoV-2 have any subtypes, and if so w...</td>\n",
       "      <td>Monophyletic Relationship between Severe Acute...</td>\n",
       "      <td>Although primary genomic analysis has revealed...</td>\n",
       "      <td>{'query': 'coronavirus subtypes', 'narrative':...</td>\n",
       "      <td>{'url': 'https://www.ncbi.nlm.nih.gov/pubmed/1...</td>\n",
       "    </tr>\n",
       "    <tr>\n",
       "      <th>3</th>\n",
       "      <td>37</td>\n",
       "      <td>005b2j4b</td>\n",
       "      <td>0</td>\n",
       "      <td>What is the result of phylogenetic analysis of...</td>\n",
       "      <td>Monophyletic Relationship between Severe Acute...</td>\n",
       "      <td>Although primary genomic analysis has revealed...</td>\n",
       "      <td>{'query': 'SARS-CoV-2 phylogenetic analysis', ...</td>\n",
       "      <td>{'url': 'https://www.ncbi.nlm.nih.gov/pubmed/1...</td>\n",
       "    </tr>\n",
       "    <tr>\n",
       "      <th>4</th>\n",
       "      <td>1</td>\n",
       "      <td>00fmeepz</td>\n",
       "      <td>1</td>\n",
       "      <td>what is the origin of COVID-19</td>\n",
       "      <td>Comprehensive overview of COVID-19 based on cu...</td>\n",
       "      <td>In December 2019, twenty-seven pneumonia patie...</td>\n",
       "      <td>{'query': 'coronavirus origin', 'narrative': \"...</td>\n",
       "      <td>{'url': '', 'pubmed_id': ''}</td>\n",
       "    </tr>\n",
       "    <tr>\n",
       "      <th>...</th>\n",
       "      <td>...</td>\n",
       "      <td>...</td>\n",
       "      <td>...</td>\n",
       "      <td>...</td>\n",
       "      <td>...</td>\n",
       "      <td>...</td>\n",
       "      <td>...</td>\n",
       "      <td>...</td>\n",
       "    </tr>\n",
       "    <tr>\n",
       "      <th>66331</th>\n",
       "      <td>50</td>\n",
       "      <td>zn10rnrm</td>\n",
       "      <td>1</td>\n",
       "      <td>what is known about an mRNA vaccine for the SA...</td>\n",
       "      <td>Characterization of RNA in Saliva</td>\n",
       "      <td>Background: We have previously shown that huma...</td>\n",
       "      <td>{'query': 'mRNA vaccine coronavirus', 'narrati...</td>\n",
       "      <td>{'url': 'https://www.ncbi.nlm.nih.gov/pmc/arti...</td>\n",
       "    </tr>\n",
       "    <tr>\n",
       "      <th>66332</th>\n",
       "      <td>50</td>\n",
       "      <td>zstmdt4n</td>\n",
       "      <td>0</td>\n",
       "      <td>what is known about an mRNA vaccine for the SA...</td>\n",
       "      <td>Coordinate induction of IFN-α and -γ by SARS-C...</td>\n",
       "      <td>Abstract Background: Severe acute respiratory ...</td>\n",
       "      <td>{'query': 'mRNA vaccine coronavirus', 'narrati...</td>\n",
       "      <td>{'url': 'https://api.elsevier.com/content/arti...</td>\n",
       "    </tr>\n",
       "    <tr>\n",
       "      <th>66333</th>\n",
       "      <td>50</td>\n",
       "      <td>zth8ffy3</td>\n",
       "      <td>0</td>\n",
       "      <td>what is known about an mRNA vaccine for the SA...</td>\n",
       "      <td>Vasculopathy and Coagulopathy Associated with ...</td>\n",
       "      <td>The emergence of severe acute respiratory synd...</td>\n",
       "      <td>{'query': 'mRNA vaccine coronavirus', 'narrati...</td>\n",
       "      <td>{'url': '', 'pubmed_id': ''}</td>\n",
       "    </tr>\n",
       "    <tr>\n",
       "      <th>66334</th>\n",
       "      <td>50</td>\n",
       "      <td>zv4nbz9p</td>\n",
       "      <td>2</td>\n",
       "      <td>what is known about an mRNA vaccine for the SA...</td>\n",
       "      <td>Emerging Technologies for Use in the Study, Di...</td>\n",
       "      <td>INTRODUCTION: The COVID-19 pandemic has caused...</td>\n",
       "      <td>{'query': 'mRNA vaccine coronavirus', 'narrati...</td>\n",
       "      <td>{'url': 'https://doi.org/10.1007/s12195-020-00...</td>\n",
       "    </tr>\n",
       "    <tr>\n",
       "      <th>66335</th>\n",
       "      <td>50</td>\n",
       "      <td>zvop8bxh</td>\n",
       "      <td>2</td>\n",
       "      <td>what is known about an mRNA vaccine for the SA...</td>\n",
       "      <td>Antiviral RNAi therapy: emerging approaches fo...</td>\n",
       "      <td>The field of directed RNA interference (RNAi) ...</td>\n",
       "      <td>{'query': 'mRNA vaccine coronavirus', 'narrati...</td>\n",
       "      <td>{'url': 'https://www.ncbi.nlm.nih.gov/pubmed/1...</td>\n",
       "    </tr>\n",
       "  </tbody>\n",
       "</table>\n",
       "<p>66336 rows × 8 columns</p>\n",
       "</div>"
      ],
      "text/plain": [
       "       query-id corpus-id  score  \\\n",
       "0             1  005b2j4b      2   \n",
       "1            16  005b2j4b      0   \n",
       "2            32  005b2j4b      0   \n",
       "3            37  005b2j4b      0   \n",
       "4             1  00fmeepz      1   \n",
       "...         ...       ...    ...   \n",
       "66331        50  zn10rnrm      1   \n",
       "66332        50  zstmdt4n      0   \n",
       "66333        50  zth8ffy3      0   \n",
       "66334        50  zv4nbz9p      2   \n",
       "66335        50  zvop8bxh      2   \n",
       "\n",
       "                                              query-text  \\\n",
       "0                         what is the origin of COVID-19   \n",
       "1      how long does coronavirus remain stable  on su...   \n",
       "2      Does SARS-CoV-2 have any subtypes, and if so w...   \n",
       "3      What is the result of phylogenetic analysis of...   \n",
       "4                         what is the origin of COVID-19   \n",
       "...                                                  ...   \n",
       "66331  what is known about an mRNA vaccine for the SA...   \n",
       "66332  what is known about an mRNA vaccine for the SA...   \n",
       "66333  what is known about an mRNA vaccine for the SA...   \n",
       "66334  what is known about an mRNA vaccine for the SA...   \n",
       "66335  what is known about an mRNA vaccine for the SA...   \n",
       "\n",
       "                                            corpus-title  \\\n",
       "0      Monophyletic Relationship between Severe Acute...   \n",
       "1      Monophyletic Relationship between Severe Acute...   \n",
       "2      Monophyletic Relationship between Severe Acute...   \n",
       "3      Monophyletic Relationship between Severe Acute...   \n",
       "4      Comprehensive overview of COVID-19 based on cu...   \n",
       "...                                                  ...   \n",
       "66331                  Characterization of RNA in Saliva   \n",
       "66332  Coordinate induction of IFN-α and -γ by SARS-C...   \n",
       "66333  Vasculopathy and Coagulopathy Associated with ...   \n",
       "66334  Emerging Technologies for Use in the Study, Di...   \n",
       "66335  Antiviral RNAi therapy: emerging approaches fo...   \n",
       "\n",
       "                                             corpus-text  \\\n",
       "0      Although primary genomic analysis has revealed...   \n",
       "1      Although primary genomic analysis has revealed...   \n",
       "2      Although primary genomic analysis has revealed...   \n",
       "3      Although primary genomic analysis has revealed...   \n",
       "4      In December 2019, twenty-seven pneumonia patie...   \n",
       "...                                                  ...   \n",
       "66331  Background: We have previously shown that huma...   \n",
       "66332  Abstract Background: Severe acute respiratory ...   \n",
       "66333  The emergence of severe acute respiratory synd...   \n",
       "66334  INTRODUCTION: The COVID-19 pandemic has caused...   \n",
       "66335  The field of directed RNA interference (RNAi) ...   \n",
       "\n",
       "                                          query-metadata  \\\n",
       "0      {'query': 'coronavirus origin', 'narrative': \"...   \n",
       "1      {'query': 'how long does coronavirus survive o...   \n",
       "2      {'query': 'coronavirus subtypes', 'narrative':...   \n",
       "3      {'query': 'SARS-CoV-2 phylogenetic analysis', ...   \n",
       "4      {'query': 'coronavirus origin', 'narrative': \"...   \n",
       "...                                                  ...   \n",
       "66331  {'query': 'mRNA vaccine coronavirus', 'narrati...   \n",
       "66332  {'query': 'mRNA vaccine coronavirus', 'narrati...   \n",
       "66333  {'query': 'mRNA vaccine coronavirus', 'narrati...   \n",
       "66334  {'query': 'mRNA vaccine coronavirus', 'narrati...   \n",
       "66335  {'query': 'mRNA vaccine coronavirus', 'narrati...   \n",
       "\n",
       "                                         corpus-metadata  \n",
       "0      {'url': 'https://www.ncbi.nlm.nih.gov/pubmed/1...  \n",
       "1      {'url': 'https://www.ncbi.nlm.nih.gov/pubmed/1...  \n",
       "2      {'url': 'https://www.ncbi.nlm.nih.gov/pubmed/1...  \n",
       "3      {'url': 'https://www.ncbi.nlm.nih.gov/pubmed/1...  \n",
       "4                           {'url': '', 'pubmed_id': ''}  \n",
       "...                                                  ...  \n",
       "66331  {'url': 'https://www.ncbi.nlm.nih.gov/pmc/arti...  \n",
       "66332  {'url': 'https://api.elsevier.com/content/arti...  \n",
       "66333                       {'url': '', 'pubmed_id': ''}  \n",
       "66334  {'url': 'https://doi.org/10.1007/s12195-020-00...  \n",
       "66335  {'url': 'https://www.ncbi.nlm.nih.gov/pubmed/1...  \n",
       "\n",
       "[66336 rows x 8 columns]"
      ]
     },
     "execution_count": 4,
     "metadata": {},
     "output_type": "execute_result"
    }
   ],
   "source": [
    "merged_df"
   ]
  },
  {
   "cell_type": "code",
   "execution_count": 5,
   "id": "1f3574e6",
   "metadata": {},
   "outputs": [],
   "source": [
    "docs_with_questions = merged_df['corpus-id'].unique()"
   ]
  },
  {
   "cell_type": "code",
   "execution_count": 7,
   "id": "8229162b",
   "metadata": {},
   "outputs": [
    {
     "data": {
      "text/plain": [
       "(35480,)"
      ]
     },
     "execution_count": 7,
     "metadata": {},
     "output_type": "execute_result"
    }
   ],
   "source": [
    "docs_with_questions.shape"
   ]
  },
  {
   "cell_type": "code",
   "execution_count": 304,
   "id": "cd228c9f",
   "metadata": {},
   "outputs": [],
   "source": [
    "which_docs = rng.choice(docs_with_questions, 100, replace=False)"
   ]
  },
  {
   "cell_type": "code",
   "execution_count": 305,
   "id": "6b345130",
   "metadata": {},
   "outputs": [
    {
     "data": {
      "text/plain": [
       "array(['hquc2v2c', '70hskj1o', 'z9rc0ubj', 'yao1vt02', 'qb8zxip9',\n",
       "       'ntx2c04x', 'zu1ojh4e', '6jiltxrf', '5vda46uh', '34m7y2l1',\n",
       "       '8rezgvz0', '1vba9l42', '7my48m8v', '24dtun4u', 'id2btkse',\n",
       "       'x8vzuadu', 'se1rjm27', 'szpktvq4', 'hyk93ons', 'ey1sqch4',\n",
       "       'igxdatq1', 'iq5yuwwv', '467nrx6d', '7lz06a7a', 'maclu8gh',\n",
       "       '10pgl1v3', '7k36owrf', 'vqpmipvk', 'asw56fla', 'ac38yvcn',\n",
       "       'xqmvix1o', 'swwz4kzd', 'gryp0khc', 'k0l4810i', 'jewffjwj',\n",
       "       'ekmuz4ug', 'dvgqouk2', 'dkzqfs7m', 'r0y96ou2', '8w2avwo2',\n",
       "       'nqrtk06s', 'hj0t4wjj', 'h4s25x7x', '0iburamm', 'tcc7e6ls',\n",
       "       '4fu922cp', '3xw4qjoy', '77tww0a8', 't4os33em', 'szr37ovl',\n",
       "       '3d8up3zo', 'ubhntliy', '0sbaxwuf', 'd4yidznm', 'hr3vkjh3',\n",
       "       'jyfcpsu6', 'kimyvw4w', 'fdxmh9uo', '41h59d0g', 'mlwrfkm4',\n",
       "       'tmpidjrp', '7u6tdenk', 'kfx0qvkp', 'fac4ic30', 'krvei97r',\n",
       "       'fy9g02af', '08zf7161', 'nbcjv47q', 'c7khkkcj', 'pn6379q6',\n",
       "       'mp6swq36', 'b8a78ym6', '3zy5dgxz', 'gjkdm90a', '1ycinsg1',\n",
       "       'bljjcfd6', 'hnc8thas', 'k5fh5ujf', 'vhx430l3', '23m11pg9',\n",
       "       'mz1bof2x', 'twhs437h', 'ain6iok3', '4mx9t5td', '6zfmjq9p',\n",
       "       'fzgwfb27', 'ksgypcau', 'ju2xdlc3', '3crjc97b', 'gdtm4d7w',\n",
       "       'vpcaa8u0', '0999t5x0', 'pn9tvu55', 'jpjynk9r', 'q52upndx',\n",
       "       'oz4mvyw8', '9gvdpt61', 'm8iqens3', 'zcdhiyd0', 's9z26fie'],\n",
       "      dtype=object)"
      ]
     },
     "execution_count": 305,
     "metadata": {},
     "output_type": "execute_result"
    }
   ],
   "source": [
    "which_docs"
   ]
  },
  {
   "cell_type": "code",
   "execution_count": 306,
   "id": "194720ce",
   "metadata": {},
   "outputs": [
    {
     "data": {
      "text/html": [
       "<div>\n",
       "<style scoped>\n",
       "    .dataframe tbody tr th:only-of-type {\n",
       "        vertical-align: middle;\n",
       "    }\n",
       "\n",
       "    .dataframe tbody tr th {\n",
       "        vertical-align: top;\n",
       "    }\n",
       "\n",
       "    .dataframe thead th {\n",
       "        text-align: right;\n",
       "    }\n",
       "</style>\n",
       "<table border=\"1\" class=\"dataframe\">\n",
       "  <thead>\n",
       "    <tr style=\"text-align: right;\">\n",
       "      <th></th>\n",
       "      <th>query-id</th>\n",
       "      <th>corpus-id</th>\n",
       "      <th>score</th>\n",
       "      <th>query-text</th>\n",
       "      <th>corpus-title</th>\n",
       "      <th>corpus-text</th>\n",
       "      <th>query-metadata</th>\n",
       "      <th>corpus-metadata</th>\n",
       "    </tr>\n",
       "  </thead>\n",
       "  <tbody>\n",
       "    <tr>\n",
       "      <th>57427</th>\n",
       "      <td>35</td>\n",
       "      <td>hquc2v2c</td>\n",
       "      <td>0</td>\n",
       "      <td>What new public datasets are available related to COVID-19?</td>\n",
       "      <td>A Comprehensive Analysis of COVID-19 Outbreak situation in India</td>\n",
       "      <td>The outbreak of COVID-19 in different parts of the world is a major concern for all the administrative units of respective countries. India is also facing this very tough task for controlling the virus outbreak and has managed its growth rate through some strict measures. This study presents the current situation of coronavirus spread in India along with the impact of various measures taken for it. With the help of data sources (till 7th-8th April 2020) from various state units of India and Ministry of Health and Family Welfare, Government of India, this study presents various trends and patterns. This study answers six different research ques-tions in a comprehensive manner. It has been reported that growth rate of infected cases has been controlled with the help of National Lockdown, however some uncontrolled mass level events had negatively impacted the infected cases. With the help of exponential and polyno-mial regression modelling, the predictions of up to 75000 cases have been done by the end of April 2020. It has also been seen that there are some prominent clusters and patient nodes in the network of patients which are the major influencers for COVID-19 spread. Also, death rate case predictions have been done through multi-class classification models with an accuracy of 75%. At the end, strategies for continuation for lockdown has been discussed and presented. It appears that only essential services should be open for the citizens of India and the national lockdown should be carried on for next 2-4 weeks. This study will be useful for the Government of India and various states of India, Administrative Units of India, Frontline health workforce of India, researchers and scientists. This study will also be favorable for the administrative units of other countries to consider various aspects related to the control of COVID-19 outspread in their respective regions.</td>\n",
       "      <td>{'query': 'coronavirus public datasets', 'narrative': 'Seeking articles that specifically release new data related to SARS-CoV-2 or COVID-19, including genomic data, patient data, public health data, etc. Articles that reference previously existing datasets are not relevant.'}</td>\n",
       "      <td>{'url': 'https://doi.org/10.1101/2020.04.08.20058347', 'pubmed_id': ''}</td>\n",
       "    </tr>\n",
       "  </tbody>\n",
       "</table>\n",
       "</div>"
      ],
      "text/plain": [
       "       query-id corpus-id  score  \\\n",
       "57427        35  hquc2v2c      0   \n",
       "\n",
       "                                                        query-text  \\\n",
       "57427  What new public datasets are available related to COVID-19?   \n",
       "\n",
       "                                                           corpus-title  \\\n",
       "57427  A Comprehensive Analysis of COVID-19 Outbreak situation in India   \n",
       "\n",
       "                                                                                                                                                                                                                                                                                                                                                                                                                                                                                                                                                                                                                                                                                                                                                                                                                                                                                                                                                                                                                                                                                                                                                                                                                                                                                                                                                                                                                                                                                                                                                                                                                                                                                                                                                                                                                                                                                                                                                                          corpus-text  \\\n",
       "57427  The outbreak of COVID-19 in different parts of the world is a major concern for all the administrative units of respective countries. India is also facing this very tough task for controlling the virus outbreak and has managed its growth rate through some strict measures. This study presents the current situation of coronavirus spread in India along with the impact of various measures taken for it. With the help of data sources (till 7th-8th April 2020) from various state units of India and Ministry of Health and Family Welfare, Government of India, this study presents various trends and patterns. This study answers six different research ques-tions in a comprehensive manner. It has been reported that growth rate of infected cases has been controlled with the help of National Lockdown, however some uncontrolled mass level events had negatively impacted the infected cases. With the help of exponential and polyno-mial regression modelling, the predictions of up to 75000 cases have been done by the end of April 2020. It has also been seen that there are some prominent clusters and patient nodes in the network of patients which are the major influencers for COVID-19 spread. Also, death rate case predictions have been done through multi-class classification models with an accuracy of 75%. At the end, strategies for continuation for lockdown has been discussed and presented. It appears that only essential services should be open for the citizens of India and the national lockdown should be carried on for next 2-4 weeks. This study will be useful for the Government of India and various states of India, Administrative Units of India, Frontline health workforce of India, researchers and scientists. This study will also be favorable for the administrative units of other countries to consider various aspects related to the control of COVID-19 outspread in their respective regions.   \n",
       "\n",
       "                                                                                                                                                                                                                                                                              query-metadata  \\\n",
       "57427  {'query': 'coronavirus public datasets', 'narrative': 'Seeking articles that specifically release new data related to SARS-CoV-2 or COVID-19, including genomic data, patient data, public health data, etc. Articles that reference previously existing datasets are not relevant.'}   \n",
       "\n",
       "                                                               corpus-metadata  \n",
       "57427  {'url': 'https://doi.org/10.1101/2020.04.08.20058347', 'pubmed_id': ''}  "
      ]
     },
     "execution_count": 306,
     "metadata": {},
     "output_type": "execute_result"
    }
   ],
   "source": [
    "merged_df[merged_df['corpus-id'] == which_docs[0]]"
   ]
  },
  {
   "cell_type": "code",
   "execution_count": 307,
   "id": "b62eccbf",
   "metadata": {},
   "outputs": [],
   "source": [
    "doc_text = merged_df[merged_df['corpus-id'] == which_docs[0]]['corpus-text'].to_numpy()[0]"
   ]
  },
  {
   "cell_type": "code",
   "execution_count": 308,
   "id": "b85475e2",
   "metadata": {},
   "outputs": [
    {
     "data": {
      "text/plain": [
       "'The outbreak of COVID-19 in different parts of the world is a major concern for all the administrative units of respective countries. India is also facing this very tough task for controlling the virus outbreak and has managed its growth rate through some strict measures. This study presents the current situation of coronavirus spread in India along with the impact of various measures taken for it. With the help of data sources (till 7th-8th April 2020) from various state units of India and Ministry of Health and Family Welfare, Government of India, this study presents various trends and patterns. This study answers six different research ques-tions in a comprehensive manner. It has been reported that growth rate of infected cases has been controlled with the help of National Lockdown, however some uncontrolled mass level events had negatively impacted the infected cases. With the help of exponential and polyno-mial regression modelling, the predictions of up to 75000 cases have been done by the end of April 2020. It has also been seen that there are some prominent clusters and patient nodes in the network of patients which are the major influencers for COVID-19 spread. Also, death rate case predictions have been done through multi-class classification models with an accuracy of 75%. At the end, strategies for continuation for lockdown has been discussed and presented. It appears that only essential services should be open for the citizens of India and the national lockdown should be carried on for next 2-4 weeks. This study will be useful for the Government of India and various states of India, Administrative Units of India, Frontline health workforce of India, researchers and scientists. This study will also be favorable for the administrative units of other countries to consider various aspects related to the control of COVID-19 outspread in their respective regions.'"
      ]
     },
     "execution_count": 308,
     "metadata": {},
     "output_type": "execute_result"
    }
   ],
   "source": [
    "doc_text"
   ]
  },
  {
   "cell_type": "markdown",
   "id": "36f5a2ff",
   "metadata": {},
   "source": [
    "## Generate some questions using OpenAI"
   ]
  },
  {
   "cell_type": "code",
   "execution_count": 40,
   "id": "dca38469",
   "metadata": {},
   "outputs": [
    {
     "name": "stdout",
     "output_type": "stream",
     "text": [
      "\u001b[33mWARNING: You are using pip version 22.0.4; however, version 23.1.2 is available.\r\n",
      "You should consider upgrading via the '/usr/bin/python3.8 -m pip install --upgrade pip' command.\u001b[0m\u001b[33m\r\n",
      "\u001b[0m"
     ]
    }
   ],
   "source": [
    "!python3.8 -m pip install openai -q"
   ]
  },
  {
   "cell_type": "code",
   "execution_count": 75,
   "id": "7f1634ce",
   "metadata": {},
   "outputs": [],
   "source": [
    "import openai"
   ]
  },
  {
   "cell_type": "code",
   "execution_count": 309,
   "id": "b63923ef",
   "metadata": {},
   "outputs": [],
   "source": [
    "OPENAI_API_QUERY_PARAMS={\"model\": None,\n",
    "                         \"prompt\": None,\n",
    "                         \"temperature\": 0.7,\n",
    "                         \"max_tokens\": 512,\n",
    "                         \"top_p\": 1.0,\n",
    "                         \"frequency_penalty\": 0,\n",
    "                         \"presence_penalty\": 0}"
   ]
  },
  {
   "cell_type": "code",
   "execution_count": 310,
   "id": "19200b76",
   "metadata": {},
   "outputs": [],
   "source": [
    "ZERO_SHOT_TEMPLATE=\"Considering the text in quotes below:\\n\\n\\\"{}\\\"\\n\\nWhich questions can you drawn about non-trivial conclusions from the text?\""
   ]
  },
  {
   "cell_type": "code",
   "execution_count": 311,
   "id": "4b908865",
   "metadata": {},
   "outputs": [],
   "source": [
    "OPENAI_RESPONSE_REGEX=\"[\\n\\r]*[0-9\\.]+\\s+(.+)[\\n\\r]?\""
   ]
  },
  {
   "cell_type": "code",
   "execution_count": 312,
   "id": "0f45b59b",
   "metadata": {},
   "outputs": [],
   "source": [
    "with open(API_KEYS_FILE) as inputFile:\n",
    "    api_keys = json.load(inputFile)"
   ]
  },
  {
   "cell_type": "code",
   "execution_count": 313,
   "id": "90d37b85",
   "metadata": {},
   "outputs": [],
   "source": [
    "openai.api_key = api_keys['OPENAI_API_KEY']"
   ]
  },
  {
   "cell_type": "code",
   "execution_count": 314,
   "id": "00bfd965",
   "metadata": {},
   "outputs": [],
   "source": [
    "request_params = OPENAI_API_QUERY_PARAMS"
   ]
  },
  {
   "cell_type": "code",
   "execution_count": 315,
   "id": "fd8f24fa",
   "metadata": {},
   "outputs": [],
   "source": [
    "request_params['prompt'] = ZERO_SHOT_TEMPLATE.format(doc_text)\n",
    "request_params['model'] = 'text-davinci-003'"
   ]
  },
  {
   "cell_type": "code",
   "execution_count": 316,
   "id": "b5ce7ec0",
   "metadata": {},
   "outputs": [
    {
     "data": {
      "text/plain": [
       "'Considering the text in quotes below:\\n\\n\"The outbreak of COVID-19 in different parts of the world is a major concern for all the administrative units of respective countries. India is also facing this very tough task for controlling the virus outbreak and has managed its growth rate through some strict measures. This study presents the current situation of coronavirus spread in India along with the impact of various measures taken for it. With the help of data sources (till 7th-8th April 2020) from various state units of India and Ministry of Health and Family Welfare, Government of India, this study presents various trends and patterns. This study answers six different research ques-tions in a comprehensive manner. It has been reported that growth rate of infected cases has been controlled with the help of National Lockdown, however some uncontrolled mass level events had negatively impacted the infected cases. With the help of exponential and polyno-mial regression modelling, the predictions of up to 75000 cases have been done by the end of April 2020. It has also been seen that there are some prominent clusters and patient nodes in the network of patients which are the major influencers for COVID-19 spread. Also, death rate case predictions have been done through multi-class classification models with an accuracy of 75%. At the end, strategies for continuation for lockdown has been discussed and presented. It appears that only essential services should be open for the citizens of India and the national lockdown should be carried on for next 2-4 weeks. This study will be useful for the Government of India and various states of India, Administrative Units of India, Frontline health workforce of India, researchers and scientists. This study will also be favorable for the administrative units of other countries to consider various aspects related to the control of COVID-19 outspread in their respective regions.\"\\n\\nWhich questions can you drawn about non-trivial conclusions from the text?'"
      ]
     },
     "execution_count": 316,
     "metadata": {},
     "output_type": "execute_result"
    }
   ],
   "source": [
    "request_params['prompt']"
   ]
  },
  {
   "cell_type": "code",
   "execution_count": 317,
   "id": "09d839aa",
   "metadata": {},
   "outputs": [],
   "source": [
    "request_start_time = time.time()\n",
    "\n",
    "response = openai.Completion.create(**request_params)\n",
    "\n",
    "elapsed_time = time.time() - request_start_time"
   ]
  },
  {
   "cell_type": "code",
   "execution_count": 318,
   "id": "8eeefff7",
   "metadata": {},
   "outputs": [
    {
     "name": "stdout",
     "output_type": "stream",
     "text": [
      "4.19231104850769\n"
     ]
    }
   ],
   "source": [
    "print(elapsed_time)"
   ]
  },
  {
   "cell_type": "code",
   "execution_count": 319,
   "id": "9fefbeec",
   "metadata": {},
   "outputs": [
    {
     "name": "stdout",
     "output_type": "stream",
     "text": [
      "\n",
      "\n",
      "1. What measures has India taken to control the spread of COVID-19?\n",
      "2. What trends and patterns are seen in the spread of COVID-19 in India?\n",
      "3. How accurate are the predictions of COVID-19 cases and death rate in India?\n",
      "4. What strategies should India consider for continuation of the national lockdown?\n",
      "5. How can this study be useful for the Government of India and other countries?\n",
      "6. Are there any major influencers for COVID-19 spread in India?\n"
     ]
    }
   ],
   "source": [
    "print(response['choices'][0]['text'])"
   ]
  },
  {
   "cell_type": "code",
   "execution_count": 320,
   "id": "c2584e19",
   "metadata": {},
   "outputs": [],
   "source": [
    "m = re.finditer(OPENAI_RESPONSE_REGEX, response['choices'][0]['text'])"
   ]
  },
  {
   "cell_type": "code",
   "execution_count": 321,
   "id": "57c7a3af",
   "metadata": {},
   "outputs": [],
   "source": [
    "questions = [match.group(1) for match in m]"
   ]
  },
  {
   "cell_type": "code",
   "execution_count": 322,
   "id": "8312a571",
   "metadata": {},
   "outputs": [
    {
     "data": {
      "text/plain": [
       "6"
      ]
     },
     "execution_count": 322,
     "metadata": {},
     "output_type": "execute_result"
    }
   ],
   "source": [
    "len(questions)"
   ]
  },
  {
   "cell_type": "code",
   "execution_count": 323,
   "id": "ff3b63d4",
   "metadata": {},
   "outputs": [
    {
     "data": {
      "text/plain": [
       "['What measures has India taken to control the spread of COVID-19?',\n",
       " 'What trends and patterns are seen in the spread of COVID-19 in India?',\n",
       " 'How accurate are the predictions of COVID-19 cases and death rate in India?',\n",
       " 'What strategies should India consider for continuation of the national lockdown?',\n",
       " 'How can this study be useful for the Government of India and other countries?',\n",
       " 'Are there any major influencers for COVID-19 spread in India?']"
      ]
     },
     "execution_count": 323,
     "metadata": {},
     "output_type": "execute_result"
    }
   ],
   "source": [
    "questions"
   ]
  },
  {
   "cell_type": "code",
   "execution_count": 324,
   "id": "66d1b1da",
   "metadata": {},
   "outputs": [],
   "source": [
    "new_dataset = []\n",
    "\n",
    "for question in questions:\n",
    "    new_dataset.append({'query': question,\n",
    "                        'positive_doc_id': which_doc,\n",
    "                        'negative_doc_ids': []})"
   ]
  },
  {
   "cell_type": "code",
   "execution_count": 325,
   "id": "25872cfc",
   "metadata": {},
   "outputs": [
    {
     "data": {
      "text/html": [
       "<div>\n",
       "<style scoped>\n",
       "    .dataframe tbody tr th:only-of-type {\n",
       "        vertical-align: middle;\n",
       "    }\n",
       "\n",
       "    .dataframe tbody tr th {\n",
       "        vertical-align: top;\n",
       "    }\n",
       "\n",
       "    .dataframe thead th {\n",
       "        text-align: right;\n",
       "    }\n",
       "</style>\n",
       "<table border=\"1\" class=\"dataframe\">\n",
       "  <thead>\n",
       "    <tr style=\"text-align: right;\">\n",
       "      <th></th>\n",
       "      <th>query</th>\n",
       "      <th>positive_doc_id</th>\n",
       "      <th>negative_doc_ids</th>\n",
       "    </tr>\n",
       "  </thead>\n",
       "  <tbody>\n",
       "    <tr>\n",
       "      <th>0</th>\n",
       "      <td>What measures has India taken to control the spread of COVID-19?</td>\n",
       "      <td>[i7scw9mu]</td>\n",
       "      <td>[]</td>\n",
       "    </tr>\n",
       "    <tr>\n",
       "      <th>1</th>\n",
       "      <td>What trends and patterns are seen in the spread of COVID-19 in India?</td>\n",
       "      <td>[i7scw9mu]</td>\n",
       "      <td>[]</td>\n",
       "    </tr>\n",
       "    <tr>\n",
       "      <th>2</th>\n",
       "      <td>How accurate are the predictions of COVID-19 cases and death rate in India?</td>\n",
       "      <td>[i7scw9mu]</td>\n",
       "      <td>[]</td>\n",
       "    </tr>\n",
       "    <tr>\n",
       "      <th>3</th>\n",
       "      <td>What strategies should India consider for continuation of the national lockdown?</td>\n",
       "      <td>[i7scw9mu]</td>\n",
       "      <td>[]</td>\n",
       "    </tr>\n",
       "    <tr>\n",
       "      <th>4</th>\n",
       "      <td>How can this study be useful for the Government of India and other countries?</td>\n",
       "      <td>[i7scw9mu]</td>\n",
       "      <td>[]</td>\n",
       "    </tr>\n",
       "    <tr>\n",
       "      <th>5</th>\n",
       "      <td>Are there any major influencers for COVID-19 spread in India?</td>\n",
       "      <td>[i7scw9mu]</td>\n",
       "      <td>[]</td>\n",
       "    </tr>\n",
       "  </tbody>\n",
       "</table>\n",
       "</div>"
      ],
      "text/plain": [
       "                                                                              query  \\\n",
       "0                  What measures has India taken to control the spread of COVID-19?   \n",
       "1             What trends and patterns are seen in the spread of COVID-19 in India?   \n",
       "2       How accurate are the predictions of COVID-19 cases and death rate in India?   \n",
       "3  What strategies should India consider for continuation of the national lockdown?   \n",
       "4     How can this study be useful for the Government of India and other countries?   \n",
       "5                     Are there any major influencers for COVID-19 spread in India?   \n",
       "\n",
       "  positive_doc_id negative_doc_ids  \n",
       "0      [i7scw9mu]               []  \n",
       "1      [i7scw9mu]               []  \n",
       "2      [i7scw9mu]               []  \n",
       "3      [i7scw9mu]               []  \n",
       "4      [i7scw9mu]               []  \n",
       "5      [i7scw9mu]               []  "
      ]
     },
     "execution_count": 325,
     "metadata": {},
     "output_type": "execute_result"
    }
   ],
   "source": [
    "pd.DataFrame(new_dataset)"
   ]
  },
  {
   "cell_type": "code",
   "execution_count": null,
   "id": "4ee4ce98",
   "metadata": {},
   "outputs": [],
   "source": []
  },
  {
   "cell_type": "code",
   "execution_count": null,
   "id": "a352029e",
   "metadata": {},
   "outputs": [],
   "source": []
  }
 ],
 "metadata": {
  "kernelspec": {
   "display_name": "Python 3",
   "language": "python",
   "name": "python3"
  },
  "language_info": {
   "codemirror_mode": {
    "name": "ipython",
    "version": 3
   },
   "file_extension": ".py",
   "mimetype": "text/x-python",
   "name": "python",
   "nbconvert_exporter": "python",
   "pygments_lexer": "ipython3",
   "version": "3.8.16"
  }
 },
 "nbformat": 4,
 "nbformat_minor": 5
}
