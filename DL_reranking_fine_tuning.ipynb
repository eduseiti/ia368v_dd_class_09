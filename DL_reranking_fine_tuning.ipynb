{
  "cells": [
    {
      "cell_type": "markdown",
      "metadata": {
        "id": "view-in-github",
        "colab_type": "text"
      },
      "source": [
        "<a href=\"https://colab.research.google.com/github/eduseiti/ia368v_dd_class_09/blob/main/DL_reranking_fine_tuning.ipynb\" target=\"_parent\"><img src=\"https://colab.research.google.com/assets/colab-badge.svg\" alt=\"Open In Colab\"/></a>"
      ]
    },
    {
      "cell_type": "markdown",
      "metadata": {
        "id": "NTDHHJj0r1th"
      },
      "source": [
        "# TREC-COVID DL reranking fine tuning\n",
        "\n",
        "This notebook perform reranking model fine tuning using the TREC COVID LLM queries."
      ]
    },
    {
      "cell_type": "markdown",
      "metadata": {
        "id": "Qk1G-QQkbutO"
      },
      "source": [
        "## Prepare the environment"
      ]
    },
    {
      "cell_type": "code",
      "execution_count": 1,
      "metadata": {
        "id": "iFssc_CRr1tj"
      },
      "outputs": [],
      "source": [
        "import os\n",
        "import sys\n",
        "\n",
        "import tqdm"
      ]
    },
    {
      "cell_type": "code",
      "execution_count": 2,
      "metadata": {
        "id": "LO0GDeHAr1tk"
      },
      "outputs": [],
      "source": [
        "IN_COLAB='google.colab' in sys.modules\n",
        "LINK_WITH_COMET=True"
      ]
    },
    {
      "cell_type": "code",
      "execution_count": 3,
      "metadata": {
        "colab": {
          "base_uri": "https://localhost:8080/"
        },
        "id": "m2yeK1Gir1tk",
        "outputId": "57cf089a-3a01-4f6c-9a67-02df60588c93"
      },
      "outputs": [
        {
          "output_type": "stream",
          "name": "stdout",
          "text": [
            "Mounted at /content/drive\n",
            "\u001b[2K     \u001b[90m━━━━━━━━━━━━━━━━━━━━━━━━━━━━━━━━━━━━━━━━\u001b[0m \u001b[32m7.0/7.0 MB\u001b[0m \u001b[31m96.7 MB/s\u001b[0m eta \u001b[36m0:00:00\u001b[0m\n",
            "\u001b[2K     \u001b[90m━━━━━━━━━━━━━━━━━━━━━━━━━━━━━━━━━━━━━━\u001b[0m \u001b[32m224.5/224.5 kB\u001b[0m \u001b[31m28.8 MB/s\u001b[0m eta \u001b[36m0:00:00\u001b[0m\n",
            "\u001b[2K     \u001b[90m━━━━━━━━━━━━━━━━━━━━━━━━━━━━━━━━━━━━━━━━\u001b[0m \u001b[32m7.8/7.8 MB\u001b[0m \u001b[31m110.8 MB/s\u001b[0m eta \u001b[36m0:00:00\u001b[0m\n",
            "\u001b[2K     \u001b[90m━━━━━━━━━━━━━━━━━━━━━━━━━━━━━━━━━━━━━━\u001b[0m \u001b[32m506.5/506.5 kB\u001b[0m \u001b[31m36.6 MB/s\u001b[0m eta \u001b[36m0:00:00\u001b[0m\n",
            "\u001b[2K     \u001b[90m━━━━━━━━━━━━━━━━━━━━━━━━━━━━━━━━━━━━━━\u001b[0m \u001b[32m201.7/201.7 kB\u001b[0m \u001b[31m29.6 MB/s\u001b[0m eta \u001b[36m0:00:00\u001b[0m\n",
            "\u001b[2K     \u001b[90m━━━━━━━━━━━━━━━━━━━━━━━━━━━━━━━━━━━━━━\u001b[0m \u001b[32m510.1/510.1 kB\u001b[0m \u001b[31m52.4 MB/s\u001b[0m eta \u001b[36m0:00:00\u001b[0m\n",
            "\u001b[2K     \u001b[90m━━━━━━━━━━━━━━━━━━━━━━━━━━━━━━━━━━━━━━\u001b[0m \u001b[32m137.9/137.9 kB\u001b[0m \u001b[31m21.5 MB/s\u001b[0m eta \u001b[36m0:00:00\u001b[0m\n",
            "\u001b[2K     \u001b[90m━━━━━━━━━━━━━━━━━━━━━━━━━━━━━━━━━━━━━━━━\u001b[0m \u001b[32m54.3/54.3 kB\u001b[0m \u001b[31m8.4 MB/s\u001b[0m eta \u001b[36m0:00:00\u001b[0m\n",
            "\u001b[2K     \u001b[90m━━━━━━━━━━━━━━━━━━━━━━━━━━━━━━━━━━━━━━━━\u001b[0m \u001b[32m3.3/3.3 MB\u001b[0m \u001b[31m89.7 MB/s\u001b[0m eta \u001b[36m0:00:00\u001b[0m\n",
            "\u001b[2K     \u001b[90m━━━━━━━━━━━━━━━━━━━━━━━━━━━━━━━━━━━━━━━━\u001b[0m \u001b[32m54.5/54.5 kB\u001b[0m \u001b[31m8.6 MB/s\u001b[0m eta \u001b[36m0:00:00\u001b[0m\n",
            "\u001b[?25h"
          ]
        }
      ],
      "source": [
        "if IN_COLAB:\n",
        "    from google.colab import drive\n",
        "\n",
        "    WORKING_FOLDER=\"/content/drive/MyDrive/unicamp/ia368v_dd/aula_09\"\n",
        "\n",
        "    drive.mount('/content/drive', force_remount=True)\n",
        "\n",
        "    os.chdir(WORKING_FOLDER)\n",
        "    \n",
        "    !pip install transformers -q\n",
        "\n",
        "    if LINK_WITH_COMET:\n",
        "        !pip install comet_ml -q\n",
        "else:\n",
        "    WORKING_FOLDER=\"/mnt/0060f889-4c27-409b-b0de-47f5427515e3/unicamp/ia368v_dd/ia368v_dd_class_09/\"\n",
        "    PYSERINI_FOLDER=\"/mnt/0060f889-4c27-409b-b0de-47f5427515e3/unicamp/ia368v_dd/pyserini/\"\n",
        "    \n",
        "    TREC_EVAL_FULLPATH=PYSERINI_FOLDER+\"tools/eval/trec_eval.9.0.4/trec_eval\"\n",
        "    \n",
        "    os.environ[\"ANSERINI_CLASSPATH\"]=\"/media/eduseiti/bigdata01/unicamp/ia368v_dd/anserini/target\""
      ]
    },
    {
      "cell_type": "code",
      "execution_count": 4,
      "metadata": {
        "id": "9TPvBkR9r1tl"
      },
      "outputs": [],
      "source": [
        "import pandas as pd\n",
        "import pickle\n",
        "import numpy as np\n",
        "\n",
        "import json\n",
        "\n",
        "import time\n",
        "\n",
        "import re\n",
        "\n",
        "from datetime import datetime\n",
        "\n",
        "from scipy import stats\n",
        "\n",
        "if LINK_WITH_COMET:\n",
        "    from comet_ml import Experiment"
      ]
    },
    {
      "cell_type": "code",
      "execution_count": 5,
      "metadata": {
        "id": "Ov96Y_gor1tl"
      },
      "outputs": [],
      "source": [
        "TREC_COVID_MERGED_FILE=\"trec_covid_merged_data.tsv\"\n",
        "TREC_COVID_DOCUMENTS_FILE=\"trec_covid_original_title_text_merged.tsv\"\n",
        "\n",
        "TREC_COVID_QUERIES=\"trec_covid_queries.tsv\"\n",
        "TREC_COVID_QRELS=\"trec_covid_qrels.tsv\"\n",
        "\n",
        "API_KEYS_FILE=\"../api_keys_20230324.json\"\n",
        "\n",
        "pd.set_option('display.max_colwidth', None)\n",
        "pd.set_option('display.max_rows', 200)"
      ]
    },
    {
      "cell_type": "code",
      "execution_count": 6,
      "metadata": {
        "id": "znS02wvYr1tl"
      },
      "outputs": [],
      "source": [
        "TREC_COVID_ORIGINAL_FOLDER=\"trec_covid_original\"\n",
        "TREC_COVID_ORIGINAL_INDEX_FOLDER=\"trec_covid_original/index\"\n",
        "TREC_COVID_ORIGINAL_RUNS_FOLDER=\"trec_covid_original/runs\""
      ]
    },
    {
      "cell_type": "code",
      "execution_count": 7,
      "metadata": {
        "id": "1KUtam4nr1tm"
      },
      "outputs": [],
      "source": [
        "TREC_COVID_LLM_0100_QUERIES=\"eduseiti_100_queries_expansion_20230501_01.jsonl\"\n",
        "TREC_COVID_LLM_1000_QUERIES=\"eduseiti_1000_queries_expansion_20230502_02.jsonl\""
      ]
    },
    {
      "cell_type": "code",
      "execution_count": 8,
      "metadata": {
        "id": "f7iQFL1_wmj0"
      },
      "outputs": [],
      "source": [
        "import torch\n",
        "\n",
        "from transformers import get_linear_schedule_with_warmup, get_constant_schedule\n",
        "from transformers import AutoTokenizer, AutoModelForSequenceClassification\n",
        "from torch.utils import data\n",
        "from transformers import BatchEncoding"
      ]
    },
    {
      "cell_type": "markdown",
      "metadata": {
        "id": "C00leIMTr1tm"
      },
      "source": [
        "## Set the random seed"
      ]
    },
    {
      "cell_type": "code",
      "execution_count": 9,
      "metadata": {
        "id": "9SjgTuvYr1tm"
      },
      "outputs": [],
      "source": [
        "RANDOM_SEED = 6\n",
        "\n",
        "rng = np.random.default_rng(RANDOM_SEED)"
      ]
    },
    {
      "cell_type": "markdown",
      "metadata": {
        "id": "bry3_sgrr1tn"
      },
      "source": [
        "### Link with COMET"
      ]
    },
    {
      "cell_type": "code",
      "execution_count": 10,
      "metadata": {
        "id": "oNUclbuhr1tn",
        "colab": {
          "base_uri": "https://localhost:8080/"
        },
        "outputId": "09bafe55-2138-4b8b-e9c4-60510a54da0b"
      },
      "outputs": [
        {
          "output_type": "stream",
          "name": "stderr",
          "text": [
            "\u001b[1;38;5;214mCOMET WARNING:\u001b[0m As you are running in a Jupyter environment, you will need to call `experiment.end()` when finished to ensure all metrics and code are logged before exiting.\n",
            "\u001b[1;38;5;39mCOMET INFO:\u001b[0m Couldn't find a Git repository in '/content/drive/MyDrive/unicamp/ia368v_dd/aula_09' nor in any parent directory. Set `COMET_GIT_DIRECTORY` if your Git Repository is elsewhere.\n",
            "\u001b[1;38;5;39mCOMET INFO:\u001b[0m Experiment is live on comet.com https://www.comet.com/eduseiti/inpars-reraking/a26c235ed0254c2eb71e1876151d549d\n",
            "\n"
          ]
        }
      ],
      "source": [
        "if LINK_WITH_COMET:\n",
        "    with open(API_KEYS_FILE) as inputFile:\n",
        "        api_keys = json.load(inputFile)\n",
        "\n",
        "    experiment = Experiment(api_key=api_keys['comet_ml'], \n",
        "                            project_name=\"InPars reraking\",\n",
        "                            workspace=\"eduseiti\")"
      ]
    },
    {
      "cell_type": "markdown",
      "metadata": {
        "id": "4UPMgJsWr1tn"
      },
      "source": [
        "### Initialize reranking model parameters"
      ]
    },
    {
      "cell_type": "code",
      "execution_count": 11,
      "metadata": {
        "id": "ABemW_-Qr1tn"
      },
      "outputs": [],
      "source": [
        "MODEL_NAME='microsoft/MiniLM-L12-H384-uncased'\n",
        "MS_MARCO_PRETRAINED_MODEL=\"pretrain_20230315_180741\"\n",
        "\n",
        "MAX_TOKENS_LENGTH=512"
      ]
    },
    {
      "cell_type": "code",
      "source": [
        "TRAIN_OUTPUT_FOLDER=\"trained_models\""
      ],
      "metadata": {
        "id": "CrpvrID4yJh2"
      },
      "execution_count": 12,
      "outputs": []
    },
    {
      "cell_type": "code",
      "execution_count": 13,
      "metadata": {
        "id": "PHKTvC64r1tn"
      },
      "outputs": [],
      "source": [
        "TREC_COVID_TOKENIZED_LLM_EXPANSION=\"trec_covid_tokenized_expansion_{}.pkl\""
      ]
    },
    {
      "cell_type": "code",
      "execution_count": 14,
      "metadata": {
        "id": "Xo67godUr1tn"
      },
      "outputs": [],
      "source": [
        "PYSERINI_TEST_RUN_RERANKED_FILENAME_FORMAT=\"run.trec_covid_reranking_{}_{}_{}.txt\""
      ]
    },
    {
      "cell_type": "code",
      "execution_count": 15,
      "metadata": {
        "id": "8-Y6p3mhr1tn",
        "colab": {
          "base_uri": "https://localhost:8080/",
          "height": 145,
          "referenced_widgets": [
            "801bc78967484a5484f7cce558d91e21",
            "0d73d8f2467c4efb8e91fadea050cfeb",
            "ee6b7d54e8e74e4fb5fb43531842f847",
            "af174c4910c7495dad5f7f6ecf28ba84",
            "567a50c4d7754aefbf9fb8886269dcce",
            "16dc03914e924186bdfaa19072f7cfde",
            "c28070f919144188bb16777331d07522",
            "fb0b1fce043543e6a0d0b6413238b8e6",
            "d3df871ac3e14ea0858785fb5fc3c362",
            "30561431bdc74317a1fb6d38455dda59",
            "f43a23c52c33422c8d6d7f9e09ac610d",
            "fe64fd4f6eb54b6d89633c7203bf2b4c",
            "d820f2df20744eb0845aa9f012e09184",
            "bb1a020ffd01428f822ae8124a4e73ac",
            "ab7d4f39a53342a6a7dd9ff5a602c8b7",
            "204db8a21c3d43e6aa5e25ae3cedf17b",
            "59217bdb8e5d4bf28f4e5125ccab3b86",
            "f95291a78eec4f0282fb8e9fd76fbad0",
            "5cb591a54bbc414e9fb926ced7b4c346",
            "e64ec60d779b49378f2e15c76520fd3b",
            "e744729645df4bc188898df29ca06c0c",
            "4e12b90a66e445389b93047a3c019130",
            "fddf8b82aa1b4a40ad19bcf2f7684bcb",
            "e45f4510515743b9bf7b012c3c9b99f9",
            "e7b674471299495a8cc27290f1e8de16",
            "0108382579cd477b8ee82c851a8d80ad",
            "9799443cf16e4d71b14835c804806634",
            "82274359298c4bfaab3fdb2aa8722cc6",
            "96a8300f07ef40f1ad32417f80c2837b",
            "fd94a7bbd87f486998867ad6b74f223d",
            "c3e2fa337a704e95bdd8174571e19924",
            "05e8a14c10a14d0d985aeea20a9f2c05",
            "ec63b0735c7740d3bf39784d1a137d4b",
            "6d7ab1a6926242228d440519c09e40e8",
            "20eb802ee5264184bda4d334bb119a25",
            "a34d849bf34849f1846a64593bc231fb",
            "6e3921274cb74111abfaff84c0b27210",
            "0bbf8d189edc4a27ad4116019db765d0",
            "7c866ff3b5a4479fb28596e9dd18fc11",
            "8b9207b7c1b641dba01845ee0e7fb57f",
            "bddbace0a64e429d89f3ed830732f26e",
            "f6b7fe6e6bd24011905444b65e4430a5",
            "0fe54b6284f44209b3a5e297367e772c",
            "266deefd41c64b1cbb32e28a5ddb2bad"
          ]
        },
        "outputId": "ea925dd3-ccb2-475f-dd92-801029c325eb"
      },
      "outputs": [
        {
          "output_type": "display_data",
          "data": {
            "text/plain": [
              "Downloading (…)okenizer_config.json:   0%|          | 0.00/2.00 [00:00<?, ?B/s]"
            ],
            "application/vnd.jupyter.widget-view+json": {
              "version_major": 2,
              "version_minor": 0,
              "model_id": "801bc78967484a5484f7cce558d91e21"
            }
          },
          "metadata": {}
        },
        {
          "output_type": "display_data",
          "data": {
            "text/plain": [
              "Downloading (…)lve/main/config.json:   0%|          | 0.00/385 [00:00<?, ?B/s]"
            ],
            "application/vnd.jupyter.widget-view+json": {
              "version_major": 2,
              "version_minor": 0,
              "model_id": "fe64fd4f6eb54b6d89633c7203bf2b4c"
            }
          },
          "metadata": {}
        },
        {
          "output_type": "display_data",
          "data": {
            "text/plain": [
              "Downloading (…)solve/main/vocab.txt:   0%|          | 0.00/232k [00:00<?, ?B/s]"
            ],
            "application/vnd.jupyter.widget-view+json": {
              "version_major": 2,
              "version_minor": 0,
              "model_id": "fddf8b82aa1b4a40ad19bcf2f7684bcb"
            }
          },
          "metadata": {}
        },
        {
          "output_type": "display_data",
          "data": {
            "text/plain": [
              "Downloading (…)cial_tokens_map.json:   0%|          | 0.00/112 [00:00<?, ?B/s]"
            ],
            "application/vnd.jupyter.widget-view+json": {
              "version_major": 2,
              "version_minor": 0,
              "model_id": "6d7ab1a6926242228d440519c09e40e8"
            }
          },
          "metadata": {}
        }
      ],
      "source": [
        "tokenizer = AutoTokenizer.from_pretrained(MODEL_NAME)"
      ]
    },
    {
      "cell_type": "code",
      "execution_count": 16,
      "metadata": {
        "id": "DcXd955oJhRE"
      },
      "outputs": [],
      "source": [
        "device = torch.device('cuda' if torch.cuda.is_available() else 'cpu')"
      ]
    },
    {
      "cell_type": "code",
      "execution_count": 17,
      "metadata": {
        "colab": {
          "base_uri": "https://localhost:8080/"
        },
        "id": "Iet6vPCwJhRE",
        "outputId": "a740ef5a-74bf-4370-cf9a-3e529872cee0"
      },
      "outputs": [
        {
          "output_type": "execute_result",
          "data": {
            "text/plain": [
              "device(type='cuda')"
            ]
          },
          "metadata": {},
          "execution_count": 17
        }
      ],
      "source": [
        "device"
      ]
    },
    {
      "cell_type": "markdown",
      "metadata": {
        "id": "EGCtt7Ter1to"
      },
      "source": [
        "## Prepare the fine tuning dataset"
      ]
    },
    {
      "cell_type": "markdown",
      "metadata": {
        "id": "kwqkvA84r1tp"
      },
      "source": [
        "### Load the LLM generated questions"
      ]
    },
    {
      "cell_type": "code",
      "execution_count": 18,
      "metadata": {
        "id": "h50YVqWkr1tp",
        "colab": {
          "base_uri": "https://localhost:8080/"
        },
        "outputId": "93c835e3-d886-47b0-a33d-c210ba9cfde5"
      },
      "outputs": [
        {
          "output_type": "stream",
          "name": "stdout",
          "text": [
            "463\n"
          ]
        }
      ],
      "source": [
        "expanded_queries = []\n",
        "\n",
        "with open(TREC_COVID_LLM_0100_QUERIES, \"r\") as inputFile:\n",
        "    for line in inputFile:\n",
        "        expanded_queries.append(json.loads(line))\n",
        "\n",
        "print(len(expanded_queries))"
      ]
    },
    {
      "cell_type": "code",
      "execution_count": 19,
      "metadata": {
        "id": "3ciWniEsr1tp"
      },
      "outputs": [],
      "source": [
        "expanded_queries_100_df = pd.DataFrame(expanded_queries)"
      ]
    },
    {
      "cell_type": "code",
      "execution_count": 20,
      "metadata": {
        "colab": {
          "base_uri": "https://localhost:8080/",
          "height": 641
        },
        "id": "wAaqVuXGr1tp",
        "outputId": "980839f0-635e-4297-e590-d83c18d4531e"
      },
      "outputs": [
        {
          "output_type": "execute_result",
          "data": {
            "text/plain": [
              "                                                                                                                          query  \\\n",
              "0                                  How can chatbots be designed to effectively share up-to-date information during a pandemic?    \n",
              "1                                 What strategies can be used to encourage desired health impacting behaviors through chatbots?   \n",
              "2                                         What are the risks associated with amplifying misinformation with chatbot technology?   \n",
              "3                                           What research has been conducted on the effectiveness of chatbots during pandemics?   \n",
              "4    How can collaborations between healthcare workers, companies, academics and governments help prepare for future pandemics?   \n",
              "..                                                                                                                          ...   \n",
              "458                                                                        What are some common symptoms of MERS-CoV infection?   \n",
              "459                                            Are there any existing effective anti-MERS-CoV antiviral agents or therapeutics?   \n",
              "460                                             What are some potential Host-Directed Therapies for MERS-CoV infected patients?   \n",
              "461                              Could Host-Directed Therapies improve treatment outcomes for patients with MERS-CoV infection?   \n",
              "462                                                              How can a coordinated global response to MERS-CoV be achieved?   \n",
              "\n",
              "    positive_doc_id  \\\n",
              "0          70hskj1o   \n",
              "1          70hskj1o   \n",
              "2          70hskj1o   \n",
              "3          70hskj1o   \n",
              "4          70hskj1o   \n",
              "..              ...   \n",
              "458        24lzevco   \n",
              "459        24lzevco   \n",
              "460        24lzevco   \n",
              "461        24lzevco   \n",
              "462        24lzevco   \n",
              "\n",
              "                                                                                                                                                                                             negative_doc_ids  \n",
              "0    [mt00852w, x7ol32mz, b54dymlu, h5vh6px7, bza9agzo, eumithb4, zygepxd7, i44s4vqr, 6u1zo0f9, m3a6kl8s, z9r5i0ky, c8s0jn2z, 4fb5xnil, nt7c31ft, f1ch030o, nm30wct0, qcgc2bo3, azkamnpa, enit4rki, e2g1iu39]  \n",
              "1    [et84j0qi, xsfolppr, 5t2o287y, kj2tnw8q, j68x0yd1, 1lobeca0, qwdjb7vk, ue5v55l8, 3eovj63c, 411qyubx, 4qvv1hsq, j8iawzp8, 7bh268mb, gp6gz0bw, 6gc7smqf, ur9t45yc, rgeeld8q, qqsiv6r6, m7cqlzbh, hlymyzcq]  \n",
              "2    [2c1m04je, rd93y7hu, vlmvi0tf, dbq3z982, 848fswtv, uveezi7s, pat3t7ne, aimm65cr, c45feko6, gl6ozx2o, t63ni1qn, rc65rv6r, 27kfciro, pmuo5qpf, t7tjvpxv, ak97kgj5, e0nxkyhc, rh0x9gxf, idhr2upe, u75hks4k]  \n",
              "3    [49zlztqu, amjqr9hr, hpx4723v, e790rxq9, 95bsoea2, k41xro7c, ysa8vb9x, fkv395t5, u4di2tk7, 2swzr52p, oo0z5pb2, lkzo4y8b, i6vfr6um, 8fhpsn4n, au2je08j, mi0pmyo4, fdkbuw6e, 74joo4yr, 6lrawta5, l864lrhx]  \n",
              "4    [eg2lj9zc, prmf9yob, ara8bsws, zjmshwl3, apvc5mml, ridgctn4, 4dv6954b, 1k168vv0, dc6jtcz0, lt67jwyv, 7ftq02ev, hbalyfy3, v9wynk5x, 22ioujwl, 6o50m9si, ti75rrwk, 3dswdn6p, jo7ty7v4, tolikanw, t1hwh3o8]  \n",
              "..                                                                                                                                                                                                        ...  \n",
              "458  [jv3425w1, yz7goivp, heui8rox, optngtwu, n9pqd30o, hkvurb2k, s95ryhiu, fnrir5nh, 4hk736ev, fxck2ain, sphk023v, 345fmq8h, futlnw88, p8luczyk, fa6kbjif, zbqfs77n, 70jg65o2, jvplobgy, 0ejs05e8, m00gcci4]  \n",
              "459  [rigxrvhn, gxyk9fgj, 1mpov118, 08d5cdf4, eld5svt2, mg1eg740, 0wh7x410, inibtytf, rq5gh710, cmor0wkp, mpv025c6, 0lzapk68, 3mh63vjj, qg73804g, cjimyfu4, v7asfaxc, wicc796j, z0h32jyu, klx95l1j, 3fp46sov]  \n",
              "460  [wtvjjc7p, mha7zs08, uwwih8v3, 1intktsf, ysbnv3fb, s8fitxwd, n3f5pihh, 4u0appfs, qexn0nuy, do9r8q84, ipmyfxk5, dkreswvk, eisfz30c, k50qvr4w, vzyrcmu4, bwnvfs8l, 6dzo97ze, n9k0ctn6, lntg6yb8, 1mowsbjy]  \n",
              "461  [g4oku7wp, xnjpe1ss, uqykia6i, o9uk0y2n, j5zlismf, gxi3iwb0, g2phfpbd, 5ftql1b9, k3rqx1x0, hi3fjne4, bm0ldeue, uwwih8v3, c51eyqpi, elmrvpxd, yorqoyn9, wfcyaumm, bnh65bqg, 73xuhvll, pnp8flc3, nmdko4nl]  \n",
              "462  [2zq44poq, cy3pck75, 7an61ouh, 7aj3fx5u, i565p0lw, l6wqi58t, 810fmd8e, t2vl0cw6, pcyscqux, h632ll6u, ebbt95mb, pfamlz3g, uoyy6ckq, 7hw23xae, zbqfs77n, f92w4dld, vo0h0tx3, li7sicts, lzhl9ck4, e4hbz84s]  \n",
              "\n",
              "[463 rows x 3 columns]"
            ],
            "text/html": [
              "\n",
              "  <div id=\"df-97eab122-d964-4371-b04c-a63d741255f1\">\n",
              "    <div class=\"colab-df-container\">\n",
              "      <div>\n",
              "<style scoped>\n",
              "    .dataframe tbody tr th:only-of-type {\n",
              "        vertical-align: middle;\n",
              "    }\n",
              "\n",
              "    .dataframe tbody tr th {\n",
              "        vertical-align: top;\n",
              "    }\n",
              "\n",
              "    .dataframe thead th {\n",
              "        text-align: right;\n",
              "    }\n",
              "</style>\n",
              "<table border=\"1\" class=\"dataframe\">\n",
              "  <thead>\n",
              "    <tr style=\"text-align: right;\">\n",
              "      <th></th>\n",
              "      <th>query</th>\n",
              "      <th>positive_doc_id</th>\n",
              "      <th>negative_doc_ids</th>\n",
              "    </tr>\n",
              "  </thead>\n",
              "  <tbody>\n",
              "    <tr>\n",
              "      <th>0</th>\n",
              "      <td>How can chatbots be designed to effectively share up-to-date information during a pandemic?</td>\n",
              "      <td>70hskj1o</td>\n",
              "      <td>[mt00852w, x7ol32mz, b54dymlu, h5vh6px7, bza9agzo, eumithb4, zygepxd7, i44s4vqr, 6u1zo0f9, m3a6kl8s, z9r5i0ky, c8s0jn2z, 4fb5xnil, nt7c31ft, f1ch030o, nm30wct0, qcgc2bo3, azkamnpa, enit4rki, e2g1iu39]</td>\n",
              "    </tr>\n",
              "    <tr>\n",
              "      <th>1</th>\n",
              "      <td>What strategies can be used to encourage desired health impacting behaviors through chatbots?</td>\n",
              "      <td>70hskj1o</td>\n",
              "      <td>[et84j0qi, xsfolppr, 5t2o287y, kj2tnw8q, j68x0yd1, 1lobeca0, qwdjb7vk, ue5v55l8, 3eovj63c, 411qyubx, 4qvv1hsq, j8iawzp8, 7bh268mb, gp6gz0bw, 6gc7smqf, ur9t45yc, rgeeld8q, qqsiv6r6, m7cqlzbh, hlymyzcq]</td>\n",
              "    </tr>\n",
              "    <tr>\n",
              "      <th>2</th>\n",
              "      <td>What are the risks associated with amplifying misinformation with chatbot technology?</td>\n",
              "      <td>70hskj1o</td>\n",
              "      <td>[2c1m04je, rd93y7hu, vlmvi0tf, dbq3z982, 848fswtv, uveezi7s, pat3t7ne, aimm65cr, c45feko6, gl6ozx2o, t63ni1qn, rc65rv6r, 27kfciro, pmuo5qpf, t7tjvpxv, ak97kgj5, e0nxkyhc, rh0x9gxf, idhr2upe, u75hks4k]</td>\n",
              "    </tr>\n",
              "    <tr>\n",
              "      <th>3</th>\n",
              "      <td>What research has been conducted on the effectiveness of chatbots during pandemics?</td>\n",
              "      <td>70hskj1o</td>\n",
              "      <td>[49zlztqu, amjqr9hr, hpx4723v, e790rxq9, 95bsoea2, k41xro7c, ysa8vb9x, fkv395t5, u4di2tk7, 2swzr52p, oo0z5pb2, lkzo4y8b, i6vfr6um, 8fhpsn4n, au2je08j, mi0pmyo4, fdkbuw6e, 74joo4yr, 6lrawta5, l864lrhx]</td>\n",
              "    </tr>\n",
              "    <tr>\n",
              "      <th>4</th>\n",
              "      <td>How can collaborations between healthcare workers, companies, academics and governments help prepare for future pandemics?</td>\n",
              "      <td>70hskj1o</td>\n",
              "      <td>[eg2lj9zc, prmf9yob, ara8bsws, zjmshwl3, apvc5mml, ridgctn4, 4dv6954b, 1k168vv0, dc6jtcz0, lt67jwyv, 7ftq02ev, hbalyfy3, v9wynk5x, 22ioujwl, 6o50m9si, ti75rrwk, 3dswdn6p, jo7ty7v4, tolikanw, t1hwh3o8]</td>\n",
              "    </tr>\n",
              "    <tr>\n",
              "      <th>...</th>\n",
              "      <td>...</td>\n",
              "      <td>...</td>\n",
              "      <td>...</td>\n",
              "    </tr>\n",
              "    <tr>\n",
              "      <th>458</th>\n",
              "      <td>What are some common symptoms of MERS-CoV infection?</td>\n",
              "      <td>24lzevco</td>\n",
              "      <td>[jv3425w1, yz7goivp, heui8rox, optngtwu, n9pqd30o, hkvurb2k, s95ryhiu, fnrir5nh, 4hk736ev, fxck2ain, sphk023v, 345fmq8h, futlnw88, p8luczyk, fa6kbjif, zbqfs77n, 70jg65o2, jvplobgy, 0ejs05e8, m00gcci4]</td>\n",
              "    </tr>\n",
              "    <tr>\n",
              "      <th>459</th>\n",
              "      <td>Are there any existing effective anti-MERS-CoV antiviral agents or therapeutics?</td>\n",
              "      <td>24lzevco</td>\n",
              "      <td>[rigxrvhn, gxyk9fgj, 1mpov118, 08d5cdf4, eld5svt2, mg1eg740, 0wh7x410, inibtytf, rq5gh710, cmor0wkp, mpv025c6, 0lzapk68, 3mh63vjj, qg73804g, cjimyfu4, v7asfaxc, wicc796j, z0h32jyu, klx95l1j, 3fp46sov]</td>\n",
              "    </tr>\n",
              "    <tr>\n",
              "      <th>460</th>\n",
              "      <td>What are some potential Host-Directed Therapies for MERS-CoV infected patients?</td>\n",
              "      <td>24lzevco</td>\n",
              "      <td>[wtvjjc7p, mha7zs08, uwwih8v3, 1intktsf, ysbnv3fb, s8fitxwd, n3f5pihh, 4u0appfs, qexn0nuy, do9r8q84, ipmyfxk5, dkreswvk, eisfz30c, k50qvr4w, vzyrcmu4, bwnvfs8l, 6dzo97ze, n9k0ctn6, lntg6yb8, 1mowsbjy]</td>\n",
              "    </tr>\n",
              "    <tr>\n",
              "      <th>461</th>\n",
              "      <td>Could Host-Directed Therapies improve treatment outcomes for patients with MERS-CoV infection?</td>\n",
              "      <td>24lzevco</td>\n",
              "      <td>[g4oku7wp, xnjpe1ss, uqykia6i, o9uk0y2n, j5zlismf, gxi3iwb0, g2phfpbd, 5ftql1b9, k3rqx1x0, hi3fjne4, bm0ldeue, uwwih8v3, c51eyqpi, elmrvpxd, yorqoyn9, wfcyaumm, bnh65bqg, 73xuhvll, pnp8flc3, nmdko4nl]</td>\n",
              "    </tr>\n",
              "    <tr>\n",
              "      <th>462</th>\n",
              "      <td>How can a coordinated global response to MERS-CoV be achieved?</td>\n",
              "      <td>24lzevco</td>\n",
              "      <td>[2zq44poq, cy3pck75, 7an61ouh, 7aj3fx5u, i565p0lw, l6wqi58t, 810fmd8e, t2vl0cw6, pcyscqux, h632ll6u, ebbt95mb, pfamlz3g, uoyy6ckq, 7hw23xae, zbqfs77n, f92w4dld, vo0h0tx3, li7sicts, lzhl9ck4, e4hbz84s]</td>\n",
              "    </tr>\n",
              "  </tbody>\n",
              "</table>\n",
              "<p>463 rows × 3 columns</p>\n",
              "</div>\n",
              "      <button class=\"colab-df-convert\" onclick=\"convertToInteractive('df-97eab122-d964-4371-b04c-a63d741255f1')\"\n",
              "              title=\"Convert this dataframe to an interactive table.\"\n",
              "              style=\"display:none;\">\n",
              "        \n",
              "  <svg xmlns=\"http://www.w3.org/2000/svg\" height=\"24px\"viewBox=\"0 0 24 24\"\n",
              "       width=\"24px\">\n",
              "    <path d=\"M0 0h24v24H0V0z\" fill=\"none\"/>\n",
              "    <path d=\"M18.56 5.44l.94 2.06.94-2.06 2.06-.94-2.06-.94-.94-2.06-.94 2.06-2.06.94zm-11 1L8.5 8.5l.94-2.06 2.06-.94-2.06-.94L8.5 2.5l-.94 2.06-2.06.94zm10 10l.94 2.06.94-2.06 2.06-.94-2.06-.94-.94-2.06-.94 2.06-2.06.94z\"/><path d=\"M17.41 7.96l-1.37-1.37c-.4-.4-.92-.59-1.43-.59-.52 0-1.04.2-1.43.59L10.3 9.45l-7.72 7.72c-.78.78-.78 2.05 0 2.83L4 21.41c.39.39.9.59 1.41.59.51 0 1.02-.2 1.41-.59l7.78-7.78 2.81-2.81c.8-.78.8-2.07 0-2.86zM5.41 20L4 18.59l7.72-7.72 1.47 1.35L5.41 20z\"/>\n",
              "  </svg>\n",
              "      </button>\n",
              "      \n",
              "  <style>\n",
              "    .colab-df-container {\n",
              "      display:flex;\n",
              "      flex-wrap:wrap;\n",
              "      gap: 12px;\n",
              "    }\n",
              "\n",
              "    .colab-df-convert {\n",
              "      background-color: #E8F0FE;\n",
              "      border: none;\n",
              "      border-radius: 50%;\n",
              "      cursor: pointer;\n",
              "      display: none;\n",
              "      fill: #1967D2;\n",
              "      height: 32px;\n",
              "      padding: 0 0 0 0;\n",
              "      width: 32px;\n",
              "    }\n",
              "\n",
              "    .colab-df-convert:hover {\n",
              "      background-color: #E2EBFA;\n",
              "      box-shadow: 0px 1px 2px rgba(60, 64, 67, 0.3), 0px 1px 3px 1px rgba(60, 64, 67, 0.15);\n",
              "      fill: #174EA6;\n",
              "    }\n",
              "\n",
              "    [theme=dark] .colab-df-convert {\n",
              "      background-color: #3B4455;\n",
              "      fill: #D2E3FC;\n",
              "    }\n",
              "\n",
              "    [theme=dark] .colab-df-convert:hover {\n",
              "      background-color: #434B5C;\n",
              "      box-shadow: 0px 1px 3px 1px rgba(0, 0, 0, 0.15);\n",
              "      filter: drop-shadow(0px 1px 2px rgba(0, 0, 0, 0.3));\n",
              "      fill: #FFFFFF;\n",
              "    }\n",
              "  </style>\n",
              "\n",
              "      <script>\n",
              "        const buttonEl =\n",
              "          document.querySelector('#df-97eab122-d964-4371-b04c-a63d741255f1 button.colab-df-convert');\n",
              "        buttonEl.style.display =\n",
              "          google.colab.kernel.accessAllowed ? 'block' : 'none';\n",
              "\n",
              "        async function convertToInteractive(key) {\n",
              "          const element = document.querySelector('#df-97eab122-d964-4371-b04c-a63d741255f1');\n",
              "          const dataTable =\n",
              "            await google.colab.kernel.invokeFunction('convertToInteractive',\n",
              "                                                     [key], {});\n",
              "          if (!dataTable) return;\n",
              "\n",
              "          const docLinkHtml = 'Like what you see? Visit the ' +\n",
              "            '<a target=\"_blank\" href=https://colab.research.google.com/notebooks/data_table.ipynb>data table notebook</a>'\n",
              "            + ' to learn more about interactive tables.';\n",
              "          element.innerHTML = '';\n",
              "          dataTable['output_type'] = 'display_data';\n",
              "          await google.colab.output.renderOutput(dataTable, element);\n",
              "          const docLink = document.createElement('div');\n",
              "          docLink.innerHTML = docLinkHtml;\n",
              "          element.appendChild(docLink);\n",
              "        }\n",
              "      </script>\n",
              "    </div>\n",
              "  </div>\n",
              "  "
            ]
          },
          "metadata": {},
          "execution_count": 20
        }
      ],
      "source": [
        "expanded_queries_100_df"
      ]
    },
    {
      "cell_type": "code",
      "execution_count": 21,
      "metadata": {
        "colab": {
          "base_uri": "https://localhost:8080/"
        },
        "id": "viRgUs5LTWbE",
        "outputId": "f0f77b36-e206-4703-bcba-62480dee873d"
      },
      "outputs": [
        {
          "output_type": "stream",
          "name": "stdout",
          "text": [
            "4914\n"
          ]
        }
      ],
      "source": [
        "expanded_queries = []\n",
        "\n",
        "with open(TREC_COVID_LLM_1000_QUERIES, \"r\") as inputFile:\n",
        "    for line in inputFile:\n",
        "        expanded_queries.append(json.loads(line))\n",
        "\n",
        "print(len(expanded_queries))"
      ]
    },
    {
      "cell_type": "code",
      "execution_count": 22,
      "metadata": {
        "id": "HN1Ot_pRTWbF"
      },
      "outputs": [],
      "source": [
        "expanded_queries_1000_df = pd.DataFrame(expanded_queries)"
      ]
    },
    {
      "cell_type": "code",
      "execution_count": 23,
      "metadata": {
        "colab": {
          "base_uri": "https://localhost:8080/",
          "height": 641
        },
        "outputId": "743ccf52-ea74-4b1c-d40e-f47af03c820b",
        "id": "Vr4cq4SfTWbF"
      },
      "outputs": [
        {
          "output_type": "execute_result",
          "data": {
            "text/plain": [
              "                                                                                                                        query  \\\n",
              "0                           What are the benefits of international cooperation in the field of medicine for mass gatherings?    \n",
              "1                               How has progress in mass gathering medicine been achieved through international cooperation?    \n",
              "2     What challenges have been overcome with the help of international cooperation in the field of mass gatherings medicine?   \n",
              "3                  What have been the most successful initiatives in international cooperation for mass gatherings medicine?    \n",
              "4                      How can international cooperation be further improved to promote progress in mass gatherings medicine?   \n",
              "...                                                                                                                       ...   \n",
              "4909                                                                      What is the role of GBF1 in poliovirus replication?   \n",
              "4910                                                                   How does the presence of BFA affect polio replication?   \n",
              "4911                                               Does the N-terminus domain of GBF1 have any role in Arf GTPase activation?   \n",
              "4912                                                 How does the absence of p115 and Rab1b influence poliovirus replication?   \n",
              "4913                                                       Does the Sec7 domain of GBF1 contribute to poliovirus replication?   \n",
              "\n",
              "     positive_doc_id  \\\n",
              "0           pxniqk3i   \n",
              "1           pxniqk3i   \n",
              "2           pxniqk3i   \n",
              "3           pxniqk3i   \n",
              "4           pxniqk3i   \n",
              "...              ...   \n",
              "4909        lxb2otpr   \n",
              "4910        lxb2otpr   \n",
              "4911        lxb2otpr   \n",
              "4912        lxb2otpr   \n",
              "4913        lxb2otpr   \n",
              "\n",
              "                                                                                                                                                                                              negative_doc_ids  \n",
              "0     [nku844kt, xilenqax, cgcuzxdt, ing711rk, dgvhzxlu, fzthd8c0, zvdblh8r, jh34klbg, 79l7wsc0, mvh4ig2g, za6x4reh, do111e5s, 4igvc039, oqmt78e8, gerhoy8w, obph3gup, rd6cqdsf, cakplpzq, fsly6gph, fcuwzpfy]  \n",
              "1     [esggkw4u, y3fhubnc, 60u7muhc, jzyn6swh, j00jj2og, 1e4dzy64, qmcbsqse, uq80ybb0, 3n890yha, 41nebtwm, 4uzf5uue, j1h7b44j, 7lyccvm5, gqjcvxln, 6jgao58w, v3vxhqi4, r71awxo0, qhay7qao, ljjry7gt, hq8dg87u]  \n",
              "2     [271xb1ls, s5b9q5n0, w933g6mm, efkjyd1k, 8ynk9k8r, vltscf9v, q2k2krnm, bljjcfd6, dpsgeko0, hltiva9i, tzgg27ge, s2q6g91b, 22eneg79, qh63b6sy, u592mbw6, blzjj06v, fk7k84n7, sdtiyrab, j2sq9kof, vb4eyjyu]  \n",
              "3     [45k6tp0b, aqgauumt, iec4mvh7, e8yxnh27, 99b09xpi, l346qqwp, z6vddid9, fsojj7m5, vb4eyjyu, 2jd7aa2d, ptfhjlav, mgn5x4f5, j2sq9kof, 8ldkbl2g, aso63o3p, ncr8i4z3, fk7k84n7, 74txzvou, 6qz7bqnb, m5ptobvz]  \n",
              "4     [emnln2ix, pux58dut, aza0pzud, zaz1e2cf, ax3i3d7f, rxzsty8t, 4bh701xz, 1v4frt83, dfb3512i, lvm5ej0c, 7xxcl2ug, hnrlem31, v9y7xpnj, 294aqph9, 74qmy02h, td5xxbsl, 2z32ln7g, jxwyyv9o, trtikw3s, t35n7bk9]  \n",
              "...                                                                                                                                                                                                        ...  \n",
              "4909  [h2cm3cge, d441jam3, 3kmqy07w, tg0tczni, j6zirpyz, dlmx12vt, 9v0z2chz, ue15waq7, kjyuxc3g, 7oat5jiw, 2ec3arfc, 4s0keus5, 4zphlpks, 0u62j7nj, ngxy58tg, 11m9uz3n, jomutdxf, frkb8iso, 00a19z5i, 3q9yr6np]  \n",
              "4910  [0u62j7nj, 8jnrc01n, k9dl79kc, jc4ckqy7, c3g3hrm2, u8otoxn4, ahrrphm8, gzdtdmx6, ync7cwq2, g9ykr72y, m22h669g, jjocpkh9, w1q46y63, w4emoao6, xyo2l9u4, m3dt5kuy, nm8gdeyc, rebll0rk, vori28fm, j6i1hpbj]  \n",
              "4911  [3jxi0dj2, bpnqz1cn, pujlr8uf, ywanv2la, u9u0y5ju, 3tfqtdbg, wrkl39sf, rnkawxrq, 3ury4hnv, 2s3x6sj8, firlsrg9, lfmtmqju, oshi71yw, d2algx16, e2qq4ngq, 0bnfugdm, 5qnayf72, gxe3kwtu, x04w3l3f, 7nh3m8l8]  \n",
              "4912  [dcmz4wcn, 413m7czk, qnntyqud, 8ut2p9p6, 5gp8wg9w, btbv4rq0, r01ii1bu, qsg18lbc, 73sxbpng, 1n127fkf, rsycde29, j2bb6eq8, ejtvvbck, 6vj79mqh, 8detpwvu, ghqtxrvt, 5hm0jr7u, 788zjhkn, 1fp4ck88, ixnafpv7]  \n",
              "4913  [0gtm5ose, ixnafpv7, 4mnaicki, sgjnb8qc, j0g4x18y, faftquww, jb9kg3h0, sxupcor2, ezpjdz55, gag7fwa2, 75ys908n, jjpi5gjm, vxtf5nyw, ll8d5hah, 3oqkdbq0, mfuc4a21, qt130ix6, 7bhfranq, t7yklp8g, vym1o2dp]  \n",
              "\n",
              "[4914 rows x 3 columns]"
            ],
            "text/html": [
              "\n",
              "  <div id=\"df-417bc4d2-69a6-4676-870c-5d45c66423d5\">\n",
              "    <div class=\"colab-df-container\">\n",
              "      <div>\n",
              "<style scoped>\n",
              "    .dataframe tbody tr th:only-of-type {\n",
              "        vertical-align: middle;\n",
              "    }\n",
              "\n",
              "    .dataframe tbody tr th {\n",
              "        vertical-align: top;\n",
              "    }\n",
              "\n",
              "    .dataframe thead th {\n",
              "        text-align: right;\n",
              "    }\n",
              "</style>\n",
              "<table border=\"1\" class=\"dataframe\">\n",
              "  <thead>\n",
              "    <tr style=\"text-align: right;\">\n",
              "      <th></th>\n",
              "      <th>query</th>\n",
              "      <th>positive_doc_id</th>\n",
              "      <th>negative_doc_ids</th>\n",
              "    </tr>\n",
              "  </thead>\n",
              "  <tbody>\n",
              "    <tr>\n",
              "      <th>0</th>\n",
              "      <td>What are the benefits of international cooperation in the field of medicine for mass gatherings?</td>\n",
              "      <td>pxniqk3i</td>\n",
              "      <td>[nku844kt, xilenqax, cgcuzxdt, ing711rk, dgvhzxlu, fzthd8c0, zvdblh8r, jh34klbg, 79l7wsc0, mvh4ig2g, za6x4reh, do111e5s, 4igvc039, oqmt78e8, gerhoy8w, obph3gup, rd6cqdsf, cakplpzq, fsly6gph, fcuwzpfy]</td>\n",
              "    </tr>\n",
              "    <tr>\n",
              "      <th>1</th>\n",
              "      <td>How has progress in mass gathering medicine been achieved through international cooperation?</td>\n",
              "      <td>pxniqk3i</td>\n",
              "      <td>[esggkw4u, y3fhubnc, 60u7muhc, jzyn6swh, j00jj2og, 1e4dzy64, qmcbsqse, uq80ybb0, 3n890yha, 41nebtwm, 4uzf5uue, j1h7b44j, 7lyccvm5, gqjcvxln, 6jgao58w, v3vxhqi4, r71awxo0, qhay7qao, ljjry7gt, hq8dg87u]</td>\n",
              "    </tr>\n",
              "    <tr>\n",
              "      <th>2</th>\n",
              "      <td>What challenges have been overcome with the help of international cooperation in the field of mass gatherings medicine?</td>\n",
              "      <td>pxniqk3i</td>\n",
              "      <td>[271xb1ls, s5b9q5n0, w933g6mm, efkjyd1k, 8ynk9k8r, vltscf9v, q2k2krnm, bljjcfd6, dpsgeko0, hltiva9i, tzgg27ge, s2q6g91b, 22eneg79, qh63b6sy, u592mbw6, blzjj06v, fk7k84n7, sdtiyrab, j2sq9kof, vb4eyjyu]</td>\n",
              "    </tr>\n",
              "    <tr>\n",
              "      <th>3</th>\n",
              "      <td>What have been the most successful initiatives in international cooperation for mass gatherings medicine?</td>\n",
              "      <td>pxniqk3i</td>\n",
              "      <td>[45k6tp0b, aqgauumt, iec4mvh7, e8yxnh27, 99b09xpi, l346qqwp, z6vddid9, fsojj7m5, vb4eyjyu, 2jd7aa2d, ptfhjlav, mgn5x4f5, j2sq9kof, 8ldkbl2g, aso63o3p, ncr8i4z3, fk7k84n7, 74txzvou, 6qz7bqnb, m5ptobvz]</td>\n",
              "    </tr>\n",
              "    <tr>\n",
              "      <th>4</th>\n",
              "      <td>How can international cooperation be further improved to promote progress in mass gatherings medicine?</td>\n",
              "      <td>pxniqk3i</td>\n",
              "      <td>[emnln2ix, pux58dut, aza0pzud, zaz1e2cf, ax3i3d7f, rxzsty8t, 4bh701xz, 1v4frt83, dfb3512i, lvm5ej0c, 7xxcl2ug, hnrlem31, v9y7xpnj, 294aqph9, 74qmy02h, td5xxbsl, 2z32ln7g, jxwyyv9o, trtikw3s, t35n7bk9]</td>\n",
              "    </tr>\n",
              "    <tr>\n",
              "      <th>...</th>\n",
              "      <td>...</td>\n",
              "      <td>...</td>\n",
              "      <td>...</td>\n",
              "    </tr>\n",
              "    <tr>\n",
              "      <th>4909</th>\n",
              "      <td>What is the role of GBF1 in poliovirus replication?</td>\n",
              "      <td>lxb2otpr</td>\n",
              "      <td>[h2cm3cge, d441jam3, 3kmqy07w, tg0tczni, j6zirpyz, dlmx12vt, 9v0z2chz, ue15waq7, kjyuxc3g, 7oat5jiw, 2ec3arfc, 4s0keus5, 4zphlpks, 0u62j7nj, ngxy58tg, 11m9uz3n, jomutdxf, frkb8iso, 00a19z5i, 3q9yr6np]</td>\n",
              "    </tr>\n",
              "    <tr>\n",
              "      <th>4910</th>\n",
              "      <td>How does the presence of BFA affect polio replication?</td>\n",
              "      <td>lxb2otpr</td>\n",
              "      <td>[0u62j7nj, 8jnrc01n, k9dl79kc, jc4ckqy7, c3g3hrm2, u8otoxn4, ahrrphm8, gzdtdmx6, ync7cwq2, g9ykr72y, m22h669g, jjocpkh9, w1q46y63, w4emoao6, xyo2l9u4, m3dt5kuy, nm8gdeyc, rebll0rk, vori28fm, j6i1hpbj]</td>\n",
              "    </tr>\n",
              "    <tr>\n",
              "      <th>4911</th>\n",
              "      <td>Does the N-terminus domain of GBF1 have any role in Arf GTPase activation?</td>\n",
              "      <td>lxb2otpr</td>\n",
              "      <td>[3jxi0dj2, bpnqz1cn, pujlr8uf, ywanv2la, u9u0y5ju, 3tfqtdbg, wrkl39sf, rnkawxrq, 3ury4hnv, 2s3x6sj8, firlsrg9, lfmtmqju, oshi71yw, d2algx16, e2qq4ngq, 0bnfugdm, 5qnayf72, gxe3kwtu, x04w3l3f, 7nh3m8l8]</td>\n",
              "    </tr>\n",
              "    <tr>\n",
              "      <th>4912</th>\n",
              "      <td>How does the absence of p115 and Rab1b influence poliovirus replication?</td>\n",
              "      <td>lxb2otpr</td>\n",
              "      <td>[dcmz4wcn, 413m7czk, qnntyqud, 8ut2p9p6, 5gp8wg9w, btbv4rq0, r01ii1bu, qsg18lbc, 73sxbpng, 1n127fkf, rsycde29, j2bb6eq8, ejtvvbck, 6vj79mqh, 8detpwvu, ghqtxrvt, 5hm0jr7u, 788zjhkn, 1fp4ck88, ixnafpv7]</td>\n",
              "    </tr>\n",
              "    <tr>\n",
              "      <th>4913</th>\n",
              "      <td>Does the Sec7 domain of GBF1 contribute to poliovirus replication?</td>\n",
              "      <td>lxb2otpr</td>\n",
              "      <td>[0gtm5ose, ixnafpv7, 4mnaicki, sgjnb8qc, j0g4x18y, faftquww, jb9kg3h0, sxupcor2, ezpjdz55, gag7fwa2, 75ys908n, jjpi5gjm, vxtf5nyw, ll8d5hah, 3oqkdbq0, mfuc4a21, qt130ix6, 7bhfranq, t7yklp8g, vym1o2dp]</td>\n",
              "    </tr>\n",
              "  </tbody>\n",
              "</table>\n",
              "<p>4914 rows × 3 columns</p>\n",
              "</div>\n",
              "      <button class=\"colab-df-convert\" onclick=\"convertToInteractive('df-417bc4d2-69a6-4676-870c-5d45c66423d5')\"\n",
              "              title=\"Convert this dataframe to an interactive table.\"\n",
              "              style=\"display:none;\">\n",
              "        \n",
              "  <svg xmlns=\"http://www.w3.org/2000/svg\" height=\"24px\"viewBox=\"0 0 24 24\"\n",
              "       width=\"24px\">\n",
              "    <path d=\"M0 0h24v24H0V0z\" fill=\"none\"/>\n",
              "    <path d=\"M18.56 5.44l.94 2.06.94-2.06 2.06-.94-2.06-.94-.94-2.06-.94 2.06-2.06.94zm-11 1L8.5 8.5l.94-2.06 2.06-.94-2.06-.94L8.5 2.5l-.94 2.06-2.06.94zm10 10l.94 2.06.94-2.06 2.06-.94-2.06-.94-.94-2.06-.94 2.06-2.06.94z\"/><path d=\"M17.41 7.96l-1.37-1.37c-.4-.4-.92-.59-1.43-.59-.52 0-1.04.2-1.43.59L10.3 9.45l-7.72 7.72c-.78.78-.78 2.05 0 2.83L4 21.41c.39.39.9.59 1.41.59.51 0 1.02-.2 1.41-.59l7.78-7.78 2.81-2.81c.8-.78.8-2.07 0-2.86zM5.41 20L4 18.59l7.72-7.72 1.47 1.35L5.41 20z\"/>\n",
              "  </svg>\n",
              "      </button>\n",
              "      \n",
              "  <style>\n",
              "    .colab-df-container {\n",
              "      display:flex;\n",
              "      flex-wrap:wrap;\n",
              "      gap: 12px;\n",
              "    }\n",
              "\n",
              "    .colab-df-convert {\n",
              "      background-color: #E8F0FE;\n",
              "      border: none;\n",
              "      border-radius: 50%;\n",
              "      cursor: pointer;\n",
              "      display: none;\n",
              "      fill: #1967D2;\n",
              "      height: 32px;\n",
              "      padding: 0 0 0 0;\n",
              "      width: 32px;\n",
              "    }\n",
              "\n",
              "    .colab-df-convert:hover {\n",
              "      background-color: #E2EBFA;\n",
              "      box-shadow: 0px 1px 2px rgba(60, 64, 67, 0.3), 0px 1px 3px 1px rgba(60, 64, 67, 0.15);\n",
              "      fill: #174EA6;\n",
              "    }\n",
              "\n",
              "    [theme=dark] .colab-df-convert {\n",
              "      background-color: #3B4455;\n",
              "      fill: #D2E3FC;\n",
              "    }\n",
              "\n",
              "    [theme=dark] .colab-df-convert:hover {\n",
              "      background-color: #434B5C;\n",
              "      box-shadow: 0px 1px 3px 1px rgba(0, 0, 0, 0.15);\n",
              "      filter: drop-shadow(0px 1px 2px rgba(0, 0, 0, 0.3));\n",
              "      fill: #FFFFFF;\n",
              "    }\n",
              "  </style>\n",
              "\n",
              "      <script>\n",
              "        const buttonEl =\n",
              "          document.querySelector('#df-417bc4d2-69a6-4676-870c-5d45c66423d5 button.colab-df-convert');\n",
              "        buttonEl.style.display =\n",
              "          google.colab.kernel.accessAllowed ? 'block' : 'none';\n",
              "\n",
              "        async function convertToInteractive(key) {\n",
              "          const element = document.querySelector('#df-417bc4d2-69a6-4676-870c-5d45c66423d5');\n",
              "          const dataTable =\n",
              "            await google.colab.kernel.invokeFunction('convertToInteractive',\n",
              "                                                     [key], {});\n",
              "          if (!dataTable) return;\n",
              "\n",
              "          const docLinkHtml = 'Like what you see? Visit the ' +\n",
              "            '<a target=\"_blank\" href=https://colab.research.google.com/notebooks/data_table.ipynb>data table notebook</a>'\n",
              "            + ' to learn more about interactive tables.';\n",
              "          element.innerHTML = '';\n",
              "          dataTable['output_type'] = 'display_data';\n",
              "          await google.colab.output.renderOutput(dataTable, element);\n",
              "          const docLink = document.createElement('div');\n",
              "          docLink.innerHTML = docLinkHtml;\n",
              "          element.appendChild(docLink);\n",
              "        }\n",
              "      </script>\n",
              "    </div>\n",
              "  </div>\n",
              "  "
            ]
          },
          "metadata": {},
          "execution_count": 23
        }
      ],
      "source": [
        "expanded_queries_1000_df"
      ]
    },
    {
      "cell_type": "markdown",
      "metadata": {
        "id": "crTAwyfEr1tp"
      },
      "source": [
        "### Load the TREC COVID documents"
      ]
    },
    {
      "cell_type": "code",
      "execution_count": 24,
      "metadata": {
        "colab": {
          "base_uri": "https://localhost:8080/",
          "height": 771
        },
        "id": "ue6Orntur1tq",
        "outputId": "83ced46c-2edd-4ece-db11-3008349b927c"
      },
      "outputs": [
        {
          "output_type": "display_data",
          "data": {
            "text/plain": [
              "  corpus-id  \\\n",
              "0  ug7v899j   \n",
              "1  02tnwd4m   \n",
              "2  ejv2xln0   \n",
              "3  2b73a28n   \n",
              "4  9785vg6d   \n",
              "\n",
              "                                                                                                                                                                                                                                                                                                                                                                                                                                                                                                                                                                                                                                                                                                                                                                                                                                                                                                                                                                                                                                                                                                                                                                                                                                                                                                                                                                                                                                                                                                                                                                                                                                                                                                                                                                                                                                                                                                                                                                                                                                         corpus-title-text  \n",
              "0  Clinical features of culture-proven Mycoplasma pneumoniae infections at King Abdulaziz University Hospital, Jeddah, Saudi ArabiaOBJECTIVE: This retrospective chart review describes the epidemiology and clinical features of 40 patients with culture-proven Mycoplasma pneumoniae infections at King Abdulaziz University Hospital, Jeddah, Saudi Arabia. METHODS: Patients with positive M. pneumoniae cultures from respiratory specimens from January 1997 through December 1998 were identified through the Microbiology records. Charts of patients were reviewed. RESULTS: 40 patients were identified, 33 (82.5%) of whom required admission. Most infections (92.5%) were community-acquired. The infection affected all age groups but was most common in infants (32.5%) and pre-school children (22.5%). It occurred year-round but was most common in the fall (35%) and spring (30%). More than three-quarters of patients (77.5%) had comorbidities. Twenty-four isolates (60%) were associated with pneumonia, 14 (35%) with upper respiratory tract infections, and 2 (5%) with bronchiolitis. Cough (82.5%), fever (75%), and malaise (58.8%) were the most common symptoms, and crepitations (60%), and wheezes (40%) were the most common signs. Most patients with pneumonia had crepitations (79.2%) but only 25% had bronchial breathing. Immunocompromised patients were more likely than non-immunocompromised patients to present with pneumonia (8/9 versus 16/31, P = 0.05). Of the 24 patients with pneumonia, 14 (58.3%) had uneventful recovery, 4 (16.7%) recovered following some complications, 3 (12.5%) died because of M pneumoniae infection, and 3 (12.5%) died due to underlying comorbidities. The 3 patients who died of M pneumoniae pneumonia had other comorbidities. CONCLUSION: our results were similar to published data except for the finding that infections were more common in infants and preschool children and that the mortality rate of pneumonia in patients with comorbidities was high.  \n",
              "1                                                                                                                                                                                                                                                                                                                                                                                                                                                                                                                                                                                                                                                                                                                                                                                                                                                                                                                                                      Nitric oxide: a pro-inflammatory mediator in lung disease?Inflammatory diseases of the respiratory tract are commonly associated with elevated production of nitric oxide (NO•) and increased indices of NO• -dependent oxidative stress. Although NO• is known to have anti-microbial, anti-inflammatory and anti-oxidant properties, various lines of evidence support the contribution of NO• to lung injury in several disease models. On the basis of biochemical evidence, it is often presumed that such NO• -dependent oxidations are due to the formation of the oxidant peroxynitrite, although alternative mechanisms involving the phagocyte-derived heme proteins myeloperoxidase and eosinophil peroxidase might be operative during conditions of inflammation. Because of the overwhelming literature on NO• generation and activities in the respiratory tract, it would be beyond the scope of this commentary to review this area comprehensively. Instead, it focuses on recent evidence and concepts of the presumed contribution of NO• to inflammatory diseases of the lung.  \n",
              "2                                                                                                                                                                                                                                                                                           Surfactant protein-D and pulmonary host defenseSurfactant protein-D (SP-D) participates in the innate response to inhaled microorganisms and organic antigens, and contributes to immune and inflammatory regulation within the lung. SP-D is synthesized and secreted by alveolar and bronchiolar epithelial cells, but is also expressed by epithelial cells lining various exocrine ducts and the mucosa of the gastrointestinal and genitourinary tracts. SP-D, a collagenous calcium-dependent lectin (or collectin), binds to surface glycoconjugates expressed by a wide variety of microorganisms, and to oligosaccharides associated with the surface of various complex organic antigens. SP-D also specifically interacts with glycoconjugates and other molecules expressed on the surface of macrophages, neutrophils, and lymphocytes. In addition, SP-D binds to specific surfactant-associated lipids and can influence the organization of lipid mixtures containing phosphatidylinositol in vitro. Consistent with these diverse in vitro activities is the observation that SP-D-deficient transgenic mice show abnormal accumulations of surfactant lipids, and respond abnormally to challenge with respiratory viruses and bacterial lipopolysaccharides. The phenotype of macrophages isolated from the lungs of SP-D-deficient mice is altered, and there is circumstantial evidence that abnormal oxidant metabolism and/or increased metalloproteinase expression contributes to the development of emphysema. The expression of SP-D is increased in response to many forms of lung injury, and deficient accumulation of appropriately oligomerized SP-D might contribute to the pathogenesis of a variety of human lung diseases.  \n",
              "3                                                                                                                                                                                                                                                                                                                                                                                                                                                                                                                                                                                                                                                                                                                                                                                                                                                                                                                                                                                                                                                                                                                                                                                                                                                                                                                                                                                                                                                                                                                                                                                   Role of endothelin-1 in lung diseaseEndothelin-1 (ET-1) is a 21 amino acid peptide with diverse biological activity that has been implicated in numerous diseases. ET-1 is a potent mitogen regulator of smooth muscle tone, and inflammatory mediator that may play a key role in diseases of the airways, pulmonary circulation, and inflammatory lung diseases, both acute and chronic. This review will focus on the biology of ET-1 and its role in lung disease.  \n",
              "4                                                                                                                                                                                                                                                                                                                                                                                                                                                                                                                                                                                                                                                                                                                                                                                                                                                                                                                                                                                                                                                                                                               Gene expression in epithelial cells in response to pneumovirus infectionRespiratory syncytial virus (RSV) and pneumonia virus of mice (PVM) are viruses of the family Paramyxoviridae, subfamily pneumovirus, which cause clinically important respiratory infections in humans and rodents, respectively. The respiratory epithelial target cells respond to viral infection with specific alterations in gene expression, including production of chemoattractant cytokines, adhesion molecules, elements that are related to the apoptosis response, and others that remain incompletely understood. Here we review our current understanding of these mucosal responses and discuss several genomic approaches, including differential display reverse transcription-polymerase chain reaction (PCR) and gene array strategies, that will permit us to unravel the nature of these responses in a more complete and systematic manner.  "
            ],
            "text/html": [
              "\n",
              "  <div id=\"df-7c8e3b26-8416-41bd-a69d-ffa58f63d848\">\n",
              "    <div class=\"colab-df-container\">\n",
              "      <div>\n",
              "<style scoped>\n",
              "    .dataframe tbody tr th:only-of-type {\n",
              "        vertical-align: middle;\n",
              "    }\n",
              "\n",
              "    .dataframe tbody tr th {\n",
              "        vertical-align: top;\n",
              "    }\n",
              "\n",
              "    .dataframe thead th {\n",
              "        text-align: right;\n",
              "    }\n",
              "</style>\n",
              "<table border=\"1\" class=\"dataframe\">\n",
              "  <thead>\n",
              "    <tr style=\"text-align: right;\">\n",
              "      <th></th>\n",
              "      <th>corpus-id</th>\n",
              "      <th>corpus-title-text</th>\n",
              "    </tr>\n",
              "  </thead>\n",
              "  <tbody>\n",
              "    <tr>\n",
              "      <th>0</th>\n",
              "      <td>ug7v899j</td>\n",
              "      <td>Clinical features of culture-proven Mycoplasma pneumoniae infections at King Abdulaziz University Hospital, Jeddah, Saudi ArabiaOBJECTIVE: This retrospective chart review describes the epidemiology and clinical features of 40 patients with culture-proven Mycoplasma pneumoniae infections at King Abdulaziz University Hospital, Jeddah, Saudi Arabia. METHODS: Patients with positive M. pneumoniae cultures from respiratory specimens from January 1997 through December 1998 were identified through the Microbiology records. Charts of patients were reviewed. RESULTS: 40 patients were identified, 33 (82.5%) of whom required admission. Most infections (92.5%) were community-acquired. The infection affected all age groups but was most common in infants (32.5%) and pre-school children (22.5%). It occurred year-round but was most common in the fall (35%) and spring (30%). More than three-quarters of patients (77.5%) had comorbidities. Twenty-four isolates (60%) were associated with pneumonia, 14 (35%) with upper respiratory tract infections, and 2 (5%) with bronchiolitis. Cough (82.5%), fever (75%), and malaise (58.8%) were the most common symptoms, and crepitations (60%), and wheezes (40%) were the most common signs. Most patients with pneumonia had crepitations (79.2%) but only 25% had bronchial breathing. Immunocompromised patients were more likely than non-immunocompromised patients to present with pneumonia (8/9 versus 16/31, P = 0.05). Of the 24 patients with pneumonia, 14 (58.3%) had uneventful recovery, 4 (16.7%) recovered following some complications, 3 (12.5%) died because of M pneumoniae infection, and 3 (12.5%) died due to underlying comorbidities. The 3 patients who died of M pneumoniae pneumonia had other comorbidities. CONCLUSION: our results were similar to published data except for the finding that infections were more common in infants and preschool children and that the mortality rate of pneumonia in patients with comorbidities was high.</td>\n",
              "    </tr>\n",
              "    <tr>\n",
              "      <th>1</th>\n",
              "      <td>02tnwd4m</td>\n",
              "      <td>Nitric oxide: a pro-inflammatory mediator in lung disease?Inflammatory diseases of the respiratory tract are commonly associated with elevated production of nitric oxide (NO•) and increased indices of NO• -dependent oxidative stress. Although NO• is known to have anti-microbial, anti-inflammatory and anti-oxidant properties, various lines of evidence support the contribution of NO• to lung injury in several disease models. On the basis of biochemical evidence, it is often presumed that such NO• -dependent oxidations are due to the formation of the oxidant peroxynitrite, although alternative mechanisms involving the phagocyte-derived heme proteins myeloperoxidase and eosinophil peroxidase might be operative during conditions of inflammation. Because of the overwhelming literature on NO• generation and activities in the respiratory tract, it would be beyond the scope of this commentary to review this area comprehensively. Instead, it focuses on recent evidence and concepts of the presumed contribution of NO• to inflammatory diseases of the lung.</td>\n",
              "    </tr>\n",
              "    <tr>\n",
              "      <th>2</th>\n",
              "      <td>ejv2xln0</td>\n",
              "      <td>Surfactant protein-D and pulmonary host defenseSurfactant protein-D (SP-D) participates in the innate response to inhaled microorganisms and organic antigens, and contributes to immune and inflammatory regulation within the lung. SP-D is synthesized and secreted by alveolar and bronchiolar epithelial cells, but is also expressed by epithelial cells lining various exocrine ducts and the mucosa of the gastrointestinal and genitourinary tracts. SP-D, a collagenous calcium-dependent lectin (or collectin), binds to surface glycoconjugates expressed by a wide variety of microorganisms, and to oligosaccharides associated with the surface of various complex organic antigens. SP-D also specifically interacts with glycoconjugates and other molecules expressed on the surface of macrophages, neutrophils, and lymphocytes. In addition, SP-D binds to specific surfactant-associated lipids and can influence the organization of lipid mixtures containing phosphatidylinositol in vitro. Consistent with these diverse in vitro activities is the observation that SP-D-deficient transgenic mice show abnormal accumulations of surfactant lipids, and respond abnormally to challenge with respiratory viruses and bacterial lipopolysaccharides. The phenotype of macrophages isolated from the lungs of SP-D-deficient mice is altered, and there is circumstantial evidence that abnormal oxidant metabolism and/or increased metalloproteinase expression contributes to the development of emphysema. The expression of SP-D is increased in response to many forms of lung injury, and deficient accumulation of appropriately oligomerized SP-D might contribute to the pathogenesis of a variety of human lung diseases.</td>\n",
              "    </tr>\n",
              "    <tr>\n",
              "      <th>3</th>\n",
              "      <td>2b73a28n</td>\n",
              "      <td>Role of endothelin-1 in lung diseaseEndothelin-1 (ET-1) is a 21 amino acid peptide with diverse biological activity that has been implicated in numerous diseases. ET-1 is a potent mitogen regulator of smooth muscle tone, and inflammatory mediator that may play a key role in diseases of the airways, pulmonary circulation, and inflammatory lung diseases, both acute and chronic. This review will focus on the biology of ET-1 and its role in lung disease.</td>\n",
              "    </tr>\n",
              "    <tr>\n",
              "      <th>4</th>\n",
              "      <td>9785vg6d</td>\n",
              "      <td>Gene expression in epithelial cells in response to pneumovirus infectionRespiratory syncytial virus (RSV) and pneumonia virus of mice (PVM) are viruses of the family Paramyxoviridae, subfamily pneumovirus, which cause clinically important respiratory infections in humans and rodents, respectively. The respiratory epithelial target cells respond to viral infection with specific alterations in gene expression, including production of chemoattractant cytokines, adhesion molecules, elements that are related to the apoptosis response, and others that remain incompletely understood. Here we review our current understanding of these mucosal responses and discuss several genomic approaches, including differential display reverse transcription-polymerase chain reaction (PCR) and gene array strategies, that will permit us to unravel the nature of these responses in a more complete and systematic manner.</td>\n",
              "    </tr>\n",
              "  </tbody>\n",
              "</table>\n",
              "</div>\n",
              "      <button class=\"colab-df-convert\" onclick=\"convertToInteractive('df-7c8e3b26-8416-41bd-a69d-ffa58f63d848')\"\n",
              "              title=\"Convert this dataframe to an interactive table.\"\n",
              "              style=\"display:none;\">\n",
              "        \n",
              "  <svg xmlns=\"http://www.w3.org/2000/svg\" height=\"24px\"viewBox=\"0 0 24 24\"\n",
              "       width=\"24px\">\n",
              "    <path d=\"M0 0h24v24H0V0z\" fill=\"none\"/>\n",
              "    <path d=\"M18.56 5.44l.94 2.06.94-2.06 2.06-.94-2.06-.94-.94-2.06-.94 2.06-2.06.94zm-11 1L8.5 8.5l.94-2.06 2.06-.94-2.06-.94L8.5 2.5l-.94 2.06-2.06.94zm10 10l.94 2.06.94-2.06 2.06-.94-2.06-.94-.94-2.06-.94 2.06-2.06.94z\"/><path d=\"M17.41 7.96l-1.37-1.37c-.4-.4-.92-.59-1.43-.59-.52 0-1.04.2-1.43.59L10.3 9.45l-7.72 7.72c-.78.78-.78 2.05 0 2.83L4 21.41c.39.39.9.59 1.41.59.51 0 1.02-.2 1.41-.59l7.78-7.78 2.81-2.81c.8-.78.8-2.07 0-2.86zM5.41 20L4 18.59l7.72-7.72 1.47 1.35L5.41 20z\"/>\n",
              "  </svg>\n",
              "      </button>\n",
              "      \n",
              "  <style>\n",
              "    .colab-df-container {\n",
              "      display:flex;\n",
              "      flex-wrap:wrap;\n",
              "      gap: 12px;\n",
              "    }\n",
              "\n",
              "    .colab-df-convert {\n",
              "      background-color: #E8F0FE;\n",
              "      border: none;\n",
              "      border-radius: 50%;\n",
              "      cursor: pointer;\n",
              "      display: none;\n",
              "      fill: #1967D2;\n",
              "      height: 32px;\n",
              "      padding: 0 0 0 0;\n",
              "      width: 32px;\n",
              "    }\n",
              "\n",
              "    .colab-df-convert:hover {\n",
              "      background-color: #E2EBFA;\n",
              "      box-shadow: 0px 1px 2px rgba(60, 64, 67, 0.3), 0px 1px 3px 1px rgba(60, 64, 67, 0.15);\n",
              "      fill: #174EA6;\n",
              "    }\n",
              "\n",
              "    [theme=dark] .colab-df-convert {\n",
              "      background-color: #3B4455;\n",
              "      fill: #D2E3FC;\n",
              "    }\n",
              "\n",
              "    [theme=dark] .colab-df-convert:hover {\n",
              "      background-color: #434B5C;\n",
              "      box-shadow: 0px 1px 3px 1px rgba(0, 0, 0, 0.15);\n",
              "      filter: drop-shadow(0px 1px 2px rgba(0, 0, 0, 0.3));\n",
              "      fill: #FFFFFF;\n",
              "    }\n",
              "  </style>\n",
              "\n",
              "      <script>\n",
              "        const buttonEl =\n",
              "          document.querySelector('#df-7c8e3b26-8416-41bd-a69d-ffa58f63d848 button.colab-df-convert');\n",
              "        buttonEl.style.display =\n",
              "          google.colab.kernel.accessAllowed ? 'block' : 'none';\n",
              "\n",
              "        async function convertToInteractive(key) {\n",
              "          const element = document.querySelector('#df-7c8e3b26-8416-41bd-a69d-ffa58f63d848');\n",
              "          const dataTable =\n",
              "            await google.colab.kernel.invokeFunction('convertToInteractive',\n",
              "                                                     [key], {});\n",
              "          if (!dataTable) return;\n",
              "\n",
              "          const docLinkHtml = 'Like what you see? Visit the ' +\n",
              "            '<a target=\"_blank\" href=https://colab.research.google.com/notebooks/data_table.ipynb>data table notebook</a>'\n",
              "            + ' to learn more about interactive tables.';\n",
              "          element.innerHTML = '';\n",
              "          dataTable['output_type'] = 'display_data';\n",
              "          await google.colab.output.renderOutput(dataTable, element);\n",
              "          const docLink = document.createElement('div');\n",
              "          docLink.innerHTML = docLinkHtml;\n",
              "          element.appendChild(docLink);\n",
              "        }\n",
              "      </script>\n",
              "    </div>\n",
              "  </div>\n",
              "  "
            ]
          },
          "metadata": {}
        },
        {
          "output_type": "stream",
          "name": "stdout",
          "text": [
            "(171325, 2)\n"
          ]
        }
      ],
      "source": [
        "trec_covid_docs_df = pd.read_csv(TREC_COVID_DOCUMENTS_FILE, sep='\\t', header=None, names=['corpus-id', 'corpus-title-text'])\n",
        "\n",
        "display(trec_covid_docs_df.head())\n",
        "\n",
        "print(trec_covid_docs_df.shape)"
      ]
    },
    {
      "cell_type": "markdown",
      "source": [
        "### Tokenization functions"
      ],
      "metadata": {
        "id": "86Mp_lYHSvfb"
      }
    },
    {
      "cell_type": "code",
      "source": [
        "def select_trec_covid_documents(expanded_queries_df, trec_covid_docs_df):\n",
        "\n",
        "    selected_docs = expanded_queries_df['positive_doc_id'].unique()\n",
        "\n",
        "    for i, row in expanded_queries_df.iterrows():\n",
        "        selected_docs = np.union1d(selected_docs, row['negative_doc_ids'])\n",
        "\n",
        "    print(\"selected_docs.shape: {}\".format(selected_docs.shape))\n",
        "\n",
        "    trec_covid_selected_docs_df = trec_covid_docs_df.merge(pd.DataFrame(selected_docs, columns=['doc-id']), \n",
        "                                                           left_on='corpus-id', \n",
        "                                                           right_on='doc-id', how='inner')[['corpus-id', 'corpus-title-text']]\n",
        "\n",
        "    print(\"trec_covid_selected_docs_df.shape: {}\".format(trec_covid_selected_docs_df.shape))\n",
        "\n",
        "    return trec_covid_selected_docs_df"
      ],
      "metadata": {
        "id": "QyPU26YZR2u9"
      },
      "execution_count": 25,
      "outputs": []
    },
    {
      "cell_type": "code",
      "source": [
        "def tokenize_queries_and_selected_docs(expanded_queries_df, trec_covid_selected_docs_df, tokenizer, tokenized_data_filename):\n",
        "\n",
        "    trec_queries_tokens = tokenizer(expanded_queries_df['query'].tolist(), \n",
        "                                    truncation=True, \n",
        "                                    max_length=MAX_TOKENS_LENGTH, \n",
        "                                    return_length=True)\n",
        "\n",
        "    print(stats.describe(trec_queries_tokens['length']))\n",
        "\n",
        "    trec_docs_tokens = tokenizer(trec_covid_selected_docs_df['corpus-title-text'].tolist(), \n",
        "                                 truncation=True,\n",
        "#                                  return_overflowing_tokens=True, \n",
        "                                 max_length=MAX_TOKENS_LENGTH - np.max(trec_queries_tokens['length']), \n",
        "                                 return_length=True)\n",
        "\n",
        "    print(stats.describe(trec_docs_tokens['length']))\n",
        "\n",
        "    #### Check if has truncated documents\n",
        "\n",
        "    if 'overflow_to_sample_mapping' in trec_docs_tokens:    \n",
        "        original_length = trec_covid_selected_docs_df.shape[0]\n",
        "\n",
        "        if original_length < len(trec_docs_tokens['overflow_to_sample_mapping']):\n",
        "            print(\"Added {} overflowing texts...\".format(len(trec_docs_tokens['overflow_to_sample_mapping']) - original_length))\n",
        "\n",
        "\n",
        "    #### Save the tokenized data\n",
        "\n",
        "    with open(tokenized_data_filename, \"wb\") as outputFile:\n",
        "        pickle.dump({'trec_queries_tokens': trec_queries_tokens,\n",
        "                     'trec_docs_tokens': trec_docs_tokens,\n",
        "                     'trec_covid_selected_docs_df': trec_covid_selected_docs_df}, outputFile, pickle.HIGHEST_PROTOCOL)    \n",
        "\n",
        "    return trec_queries_tokens, trec_docs_tokens"
      ],
      "metadata": {
        "id": "lgOV0QFoSJjy"
      },
      "execution_count": 26,
      "outputs": []
    },
    {
      "cell_type": "markdown",
      "metadata": {
        "id": "UBXVJax0r1tq"
      },
      "source": [
        "### Check if hasn't already tokenized the data"
      ]
    },
    {
      "cell_type": "code",
      "execution_count": 27,
      "metadata": {
        "id": "SJtwh0Tnr1tq"
      },
      "outputs": [],
      "source": [
        "if os.path.exists(TREC_COVID_TOKENIZED_LLM_EXPANSION.format(TREC_COVID_LLM_0100_QUERIES)):\n",
        "    with open(TREC_COVID_TOKENIZED_LLM_EXPANSION.format(TREC_COVID_LLM_0100_QUERIES), \"rb\") as inputFile:\n",
        "        \n",
        "        tokenized_data = pickle.load(inputFile)\n",
        "\n",
        "    eval_trec_queries_tokens = tokenized_data['trec_queries_tokens']\n",
        "    eval_trec_docs_tokens = tokenized_data['trec_docs_tokens']\n",
        "    eval_trec_covid_selected_docs_df = tokenized_data['trec_covid_selected_docs_df']\n",
        "    \n",
        "    tokenized_validation_data_read=True\n",
        "else:\n",
        "    tokenized_validation_data_read=False\n",
        "    \n",
        "    print(\"Need to create the tokenized LLM queries validation data...\")"
      ]
    },
    {
      "cell_type": "code",
      "source": [
        "if os.path.exists(TREC_COVID_TOKENIZED_LLM_EXPANSION.format(TREC_COVID_LLM_1000_QUERIES)):\n",
        "    with open(TREC_COVID_TOKENIZED_LLM_EXPANSION.format(TREC_COVID_LLM_1000_QUERIES), \"rb\") as inputFile:\n",
        "        \n",
        "        tokenized_data = pickle.load(inputFile)\n",
        "\n",
        "    train_trec_queries_tokens = tokenized_data['trec_queries_tokens']\n",
        "    train_trec_docs_tokens = tokenized_data['trec_docs_tokens']\n",
        "    train_trec_covid_selected_docs_df = tokenized_data['trec_covid_selected_docs_df']\n",
        "    \n",
        "    tokenized_train_data_read=True\n",
        "else:\n",
        "    tokenized_train_data_read=False\n",
        "    \n",
        "    print(\"Need to create the tokenized LLM queries train data...\")"
      ],
      "metadata": {
        "id": "zP9vPm25T5hH"
      },
      "execution_count": 28,
      "outputs": []
    },
    {
      "cell_type": "markdown",
      "metadata": {
        "id": "DEUWJIUAr1tq"
      },
      "source": [
        "### Build the test data to be tokenized, if needed"
      ]
    },
    {
      "cell_type": "code",
      "source": [
        "if not tokenized_validation_data_read:\n",
        "    eval_trec_covid_selected_docs_df = select_trec_covid_documents(expanded_queries_100_df, trec_covid_docs_df)\n",
        "\n",
        "    eval_trec_queries_tokens, eval_trec_docs_tokens = tokenize_queries_and_selected_docs(expanded_queries_100_df, \n",
        "                                                                                         eval_trec_covid_selected_docs_df, \n",
        "                                                                                         tokenizer, \n",
        "                                                                                         TREC_COVID_TOKENIZED_LLM_EXPANSION.format(TREC_COVID_LLM_0100_QUERIES))\n",
        "else:\n",
        "    print(\"Validation data already tokenized...\")"
      ],
      "metadata": {
        "colab": {
          "base_uri": "https://localhost:8080/"
        },
        "id": "lgE906eKUGv7",
        "outputId": "49ac4d53-8d55-4846-8009-6910ca9d10c9"
      },
      "execution_count": 29,
      "outputs": [
        {
          "output_type": "stream",
          "name": "stdout",
          "text": [
            "Validation data already tokenized...\n"
          ]
        }
      ]
    },
    {
      "cell_type": "code",
      "source": [
        "if not tokenized_train_data_read:\n",
        "    train_trec_covid_selected_docs_df = select_trec_covid_documents(expanded_queries_1000_df, trec_covid_docs_df)\n",
        "\n",
        "    train_trec_queries_tokens, train_trec_docs_tokens = tokenize_queries_and_selected_docs(expanded_queries_1000_df, \n",
        "                                                                                           train_trec_covid_selected_docs_df, \n",
        "                                                                                           tokenizer, \n",
        "                                                                                           TREC_COVID_TOKENIZED_LLM_EXPANSION.format(TREC_COVID_LLM_1000_QUERIES))\n",
        "else:\n",
        "    print(\"Train data already tokenized...\")"
      ],
      "metadata": {
        "colab": {
          "base_uri": "https://localhost:8080/"
        },
        "id": "cyrBmsN2UnSn",
        "outputId": "3bc0161f-c828-4c85-bae9-d4f38b1d8222"
      },
      "execution_count": 30,
      "outputs": [
        {
          "output_type": "stream",
          "name": "stdout",
          "text": [
            "Train data already tokenized...\n"
          ]
        }
      ]
    },
    {
      "cell_type": "markdown",
      "metadata": {
        "id": "Fw8mKX5Dr1tr"
      },
      "source": [
        "### Build the training dataset"
      ]
    },
    {
      "cell_type": "code",
      "execution_count": 31,
      "metadata": {
        "id": "CmG9S6bsr1tr"
      },
      "outputs": [],
      "source": [
        "class InParsTrainingDataset(data.Dataset):\n",
        "    def __init__(self, generated_queries_df, selected_docs_df, tokenized_queries, tokenized_documents, rng, max_pairs=None, verbose=True):\n",
        "        self.generated_queries_df = generated_queries_df\n",
        "        self.selected_docs_df = selected_docs_df\n",
        "        self.tokenized_queries = tokenized_queries\n",
        "        self.tokenized_documents = tokenized_documents\n",
        "        \n",
        "        self.rng = rng\n",
        "\n",
        "        self.max_pairs = max_pairs\n",
        "        \n",
        "        self.rebuild_dataset(verbose)\n",
        "        \n",
        "        \n",
        "    def rebuild_dataset(self, verbose=True):\n",
        "        \n",
        "        self.test_input_ids = []\n",
        "        self.test_token_type_ids = []\n",
        "        self.test_attention_mask = []\n",
        "        self.labels =[]\n",
        "        \n",
        "        for i, row in self.generated_queries_df.iterrows():\n",
        "            \n",
        "            if verbose:\n",
        "                print(i)\n",
        "            \n",
        "            selected_negative = self.rng.choice(row['negative_doc_ids'], 1)[0]\n",
        "\n",
        "            if verbose:\n",
        "                print(\"negative_doc_ids: {}\".format(row['negative_doc_ids']))\n",
        "                print(\"selected_negative: {}\".format(selected_negative))\n",
        "            \n",
        "            positive_doc_index = self.selected_docs_df[self.selected_docs_df['corpus-id'] == row['positive_doc_id']].index[0]\n",
        "            negative_doc_index = self.selected_docs_df[self.selected_docs_df['corpus-id'] == selected_negative].index[0]\n",
        "            \n",
        "            if verbose:\n",
        "                print(\"positive_doc_index={}\".format(positive_doc_index))\n",
        "                print(\"negative_doc_index={}\".format(negative_doc_index))\n",
        "            \n",
        "            \n",
        "            self.test_input_ids.append(self.tokenized_queries['input_ids'][i] + self.tokenized_documents['input_ids'][positive_doc_index][1:])\n",
        "            self.test_token_type_ids.append(self.tokenized_queries['token_type_ids'][i] + self.tokenized_documents['token_type_ids'][positive_doc_index][1:])\n",
        "            self.test_attention_mask.append(self.tokenized_queries['attention_mask'][i] + self.tokenized_documents['attention_mask'][positive_doc_index][1:])\n",
        "            \n",
        "            self.test_input_ids.append(self.tokenized_queries['input_ids'][i] + self.tokenized_documents['input_ids'][negative_doc_index][1:])\n",
        "            self.test_token_type_ids.append(self.tokenized_queries['token_type_ids'][i] + self.tokenized_documents['token_type_ids'][negative_doc_index][1:])\n",
        "            self.test_attention_mask.append(self.tokenized_queries['attention_mask'][i] + self.tokenized_documents['attention_mask'][negative_doc_index][1:])\n",
        "            \n",
        "            self.labels.append(True)\n",
        "            self.labels.append(False)\n",
        "\n",
        "            if (self.max_pairs is not None) and (i >= self.max_pairs):\n",
        "                break\n",
        "        \n",
        "    \n",
        "    def __len__(self):\n",
        "        return len(self.test_input_ids)\n",
        "    \n",
        "    \n",
        "    def __getitem__(self, idx):\n",
        "        return {'input_ids': self.test_input_ids[idx],\n",
        "                'attention_mask': self.test_attention_mask[idx],\n",
        "                'labels': int(self.labels[idx])}"
      ]
    },
    {
      "cell_type": "code",
      "execution_count": 32,
      "metadata": {
        "id": "T7euXIKeMFxQ"
      },
      "outputs": [],
      "source": [
        "def collate_fn(batch):\n",
        "\n",
        "    # print(len(batch[0]['input_ids']))\n",
        "\n",
        "    r1 = tokenizer.pad(batch, return_tensors='pt')\n",
        "\n",
        "    # print(len(r1['input_ids'][0]))\n",
        "\n",
        "    return BatchEncoding(r1)"
      ]
    },
    {
      "cell_type": "markdown",
      "metadata": {
        "id": "fN-qjxweM17D"
      },
      "source": [
        "### Create the dataset and the dataloader"
      ]
    },
    {
      "cell_type": "code",
      "execution_count": 33,
      "metadata": {
        "id": "c7-QGvM-0nvB"
      },
      "outputs": [],
      "source": [
        "train_dataset = InParsTrainingDataset(expanded_queries_1000_df,\n",
        "                                      train_trec_covid_selected_docs_df,\n",
        "                                      train_trec_queries_tokens,\n",
        "                                      train_trec_docs_tokens,\n",
        "                                      rng,\n",
        "                                      verbose=False)"
      ]
    },
    {
      "cell_type": "code",
      "source": [
        "eval_dataset = InParsTrainingDataset(expanded_queries_100_df,\n",
        "                                     eval_trec_covid_selected_docs_df,\n",
        "                                     eval_trec_queries_tokens,\n",
        "                                     eval_trec_docs_tokens,\n",
        "                                     rng,\n",
        "                                     max_pairs=500,\n",
        "                                     verbose=False)"
      ],
      "metadata": {
        "id": "D4Ou8JOvVvzy"
      },
      "execution_count": 34,
      "outputs": []
    },
    {
      "cell_type": "code",
      "source": [
        "def evaluate(model, dataloader, set_name, min_valid_loss, current_training_step, current_epoch):\n",
        "    losses = []\n",
        "    correct = 0\n",
        "    model.eval()\n",
        "    with torch.no_grad():\n",
        "\n",
        "        tqdm_batches = tqdm.tqdm(dataloader, mininterval=0.5, desc=set_name, disable=False, bar_format='{l_bar}{bar:20}{r_bar}{bar:-20b}', colour='GREEN', file=sys.stdout, position=0, leave=True)\n",
        "\n",
        "        for batch in tqdm_batches:\n",
        "            outputs = model(**batch.to(device))\n",
        "            loss_val = outputs.loss\n",
        "            losses.append(loss_val.cpu().item())\n",
        "            preds = outputs.logits.argmax(dim=1)\n",
        "            correct += (preds == batch['labels']).sum().item()\n",
        "\n",
        "            tqdm_batches.set_description(\"Loss {:0.4f}\".format(losses[-1]))\n",
        "\n",
        "    print(\"Eval loss: {:0.4f}; accuracy: {}\".format(np.mean(losses), correct / len(dataloader.dataset)))\n",
        "\n",
        "    if LINK_WITH_COMET:\n",
        "        experiment.log_metrics({'eval loss': np.mean(losses)},\n",
        "                                step=current_training_step)\n",
        "\n",
        "\n",
        "    if min_valid_loss['loss'] > np.mean(losses):\n",
        "        print(\"New minimal validation loss; saving model...\")\n",
        "\n",
        "        training_timestamp = datetime.now().strftime(\"%Y%m%d_%H%M%S\")\n",
        "\n",
        "        checkpoint_name = \"checkpoint_{}_{}_{}_eval_{:.4f}\".format(TREC_COVID_LLM_1000_QUERIES, \"{:02d}_epoch\".format(current_epoch), training_timestamp, np.mean(losses))\n",
        "        model.save_pretrained(os.path.join(TRAIN_OUTPUT_FOLDER, checkpoint_name))\n",
        "\n",
        "        min_valid_loss['checkpoint_name'] = checkpoint_name\n",
        "        min_valid_loss['loss'] = np.mean(losses)"
      ],
      "metadata": {
        "id": "qLbzzw-TWj4S"
      },
      "execution_count": 35,
      "outputs": []
    },
    {
      "cell_type": "code",
      "execution_count": 36,
      "metadata": {
        "id": "_ZFZNsdgr1ts"
      },
      "outputs": [],
      "source": [
        "hyperparameters = {\n",
        "    'batch_size': 16,\n",
        "    'epochs': 50,\n",
        "    'num_warmup_steps': 0,\n",
        "    'learning_rate': 1e-8,\n",
        "}"
      ]
    },
    {
      "cell_type": "code",
      "execution_count": 37,
      "metadata": {
        "id": "XOQpwbHdr1ts"
      },
      "outputs": [],
      "source": [
        "hyperparameters['num_training_steps'] = hyperparameters['epochs'] * int(len(train_dataset) // hyperparameters['batch_size'])"
      ]
    },
    {
      "cell_type": "code",
      "execution_count": 38,
      "metadata": {
        "id": "MbKdDBf_1CXK"
      },
      "outputs": [],
      "source": [
        "train_dataloader = data.DataLoader(train_dataset, batch_size=hyperparameters['batch_size'], shuffle=False, collate_fn=collate_fn)"
      ]
    },
    {
      "cell_type": "code",
      "source": [
        "eval_dataloader = data.DataLoader(eval_dataset, batch_size=hyperparameters['batch_size'], shuffle=False, collate_fn=collate_fn)"
      ],
      "metadata": {
        "id": "8SWwtNwmV8e7"
      },
      "execution_count": 39,
      "outputs": []
    },
    {
      "cell_type": "code",
      "execution_count": 40,
      "metadata": {
        "colab": {
          "base_uri": "https://localhost:8080/"
        },
        "id": "jIhIMFRL1746",
        "outputId": "f2a91319-c97f-4c66-946e-9bba83b8d669"
      },
      "outputs": [
        {
          "output_type": "stream",
          "name": "stdout",
          "text": [
            "Parameters 33360770\n"
          ]
        }
      ],
      "source": [
        "model = AutoModelForSequenceClassification.from_pretrained(os.path.join(TRAIN_OUTPUT_FOLDER, \"checkpoint_eduseiti_1000_queries_expansion_20230502_02.jsonl_08_epoch_20230504_000728_0.2839\")).to(device)\n",
        "# model = AutoModelForSequenceClassification.from_pretrained(os.path.join(TRAIN_OUTPUT_FOLDER, MS_MARCO_PRETRAINED_MODEL)).to(device)\n",
        "# model = AutoModelForSequenceClassification.from_pretrained(MODEL_NAME).to(device)\n",
        "\n",
        "print('Parameters', model.num_parameters())"
      ]
    },
    {
      "cell_type": "code",
      "execution_count": 41,
      "metadata": {
        "id": "xdBmfj4qr1tt"
      },
      "outputs": [],
      "source": [
        "optimizer = torch.optim.AdamW(model.parameters(), lr=hyperparameters['learning_rate'])\n",
        "scheduler = get_constant_schedule(optimizer)"
      ]
    },
    {
      "cell_type": "code",
      "source": [
        "min_valid_loss = {\"loss\": 1000,\n",
        "                  \"checkpoint_name\": None}\n",
        "\n",
        "min_training_loss = {\"loss\": 1000,\n",
        "                     \"checkpoint_name\": None}                  "
      ],
      "metadata": {
        "id": "4uIxI9t7YBBh"
      },
      "execution_count": 42,
      "outputs": []
    },
    {
      "cell_type": "code",
      "execution_count": 43,
      "metadata": {
        "id": "kH29fQpOr1tt"
      },
      "outputs": [],
      "source": [
        "if LINK_WITH_COMET:\n",
        "    experiment.log_parameters(hyperparameters)"
      ]
    },
    {
      "cell_type": "code",
      "execution_count": 44,
      "metadata": {
        "scrolled": false,
        "colab": {
          "base_uri": "https://localhost:8080/",
          "height": 1000
        },
        "id": "WgslQug7r1tt",
        "outputId": "955d682a-85c9-41e4-c930-fb71cd9414bf"
      },
      "outputs": [
        {
          "output_type": "stream",
          "name": "stdout",
          "text": [
            "Train:   0%|\u001b[32m                    \u001b[0m| 0/615 [00:00<?, ?it/s]\u001b[32m\u001b[0m"
          ]
        },
        {
          "output_type": "stream",
          "name": "stderr",
          "text": [
            "You're using a BertTokenizerFast tokenizer. Please note that with a fast tokenizer, using the `__call__` method is faster than using a method to encode the text followed by a call to the `pad` method to get a padded encoding.\n"
          ]
        },
        {
          "output_type": "stream",
          "name": "stdout",
          "text": [
            "Loss 0.0502: 100%|\u001b[32m████████████████████\u001b[0m| 615/615 [01:36<00:00,  6.39it/s]\u001b[32m\u001b[0m\n",
            "Epoch: 0, Training loss: 0.2834\n",
            "New minimal training loss; saving model...\n",
            "Loss 0.2636: 100%|\u001b[32m████████████████████\u001b[0m| 58/58 [00:02<00:00, 19.70it/s]\u001b[32m\u001b[0m\n",
            "Eval loss: 0.3104; accuracy: 0.8725701943844493\n",
            "New minimal validation loss; saving model...\n",
            "Loss 0.0505: 100%|\u001b[32m████████████████████\u001b[0m| 615/615 [01:34<00:00,  6.54it/s]\u001b[32m\u001b[0m\n",
            "Epoch: 1, Training loss: 0.2785\n",
            "New minimal training loss; saving model...\n",
            "Loss 0.2625: 100%|\u001b[32m████████████████████\u001b[0m| 58/58 [00:02<00:00, 19.72it/s]\u001b[32m\u001b[0m\n",
            "Eval loss: 0.3080; accuracy: 0.8736501079913607\n",
            "New minimal validation loss; saving model...\n",
            "Loss 0.0484: 100%|\u001b[32m████████████████████\u001b[0m| 615/615 [01:34<00:00,  6.53it/s]\u001b[32m\u001b[0m\n",
            "Epoch: 2, Training loss: 0.2775\n",
            "New minimal training loss; saving model...\n",
            "Loss 0.2608: 100%|\u001b[32m████████████████████\u001b[0m| 58/58 [00:02<00:00, 19.64it/s]\u001b[32m\u001b[0m\n",
            "Eval loss: 0.3054; accuracy: 0.8736501079913607\n",
            "New minimal validation loss; saving model...\n",
            "Loss 0.0571: 100%|\u001b[32m████████████████████\u001b[0m| 615/615 [01:34<00:00,  6.54it/s]\u001b[32m\u001b[0m\n",
            "Epoch: 3, Training loss: 0.2703\n",
            "New minimal training loss; saving model...\n",
            "Loss 0.2600: 100%|\u001b[32m████████████████████\u001b[0m| 58/58 [00:02<00:00, 19.84it/s]\u001b[32m\u001b[0m\n",
            "Eval loss: 0.3032; accuracy: 0.8758099352051836\n",
            "New minimal validation loss; saving model...\n",
            "Loss 0.0324: 100%|\u001b[32m████████████████████\u001b[0m| 615/615 [01:34<00:00,  6.53it/s]\u001b[32m\u001b[0m\n",
            "Epoch: 4, Training loss: 0.2678\n",
            "New minimal training loss; saving model...\n",
            "Loss 0.2584: 100%|\u001b[32m████████████████████\u001b[0m| 58/58 [00:02<00:00, 19.81it/s]\u001b[32m\u001b[0m\n",
            "Eval loss: 0.3008; accuracy: 0.8779697624190065\n",
            "New minimal validation loss; saving model...\n",
            "Loss 0.0223: 100%|\u001b[32m████████████████████\u001b[0m| 615/615 [01:34<00:00,  6.53it/s]\u001b[32m\u001b[0m\n",
            "Epoch: 5, Training loss: 0.2626\n",
            "New minimal training loss; saving model...\n",
            "Loss 0.2574: 100%|\u001b[32m████████████████████\u001b[0m| 58/58 [00:02<00:00, 19.63it/s]\u001b[32m\u001b[0m\n",
            "Eval loss: 0.2986; accuracy: 0.8779697624190065\n",
            "New minimal validation loss; saving model...\n",
            "Loss 0.0430: 100%|\u001b[32m████████████████████\u001b[0m| 615/615 [01:33<00:00,  6.55it/s]\u001b[32m\u001b[0m\n",
            "Epoch: 6, Training loss: 0.2629\n",
            "Loss 0.2562: 100%|\u001b[32m████████████████████\u001b[0m| 58/58 [00:02<00:00, 19.56it/s]\u001b[32m\u001b[0m\n",
            "Eval loss: 0.2962; accuracy: 0.8779697624190065\n",
            "New minimal validation loss; saving model...\n",
            "Loss 0.0310: 100%|\u001b[32m████████████████████\u001b[0m| 615/615 [01:35<00:00,  6.47it/s]\u001b[32m\u001b[0m\n",
            "Epoch: 7, Training loss: 0.2600\n",
            "New minimal training loss; saving model...\n",
            "Loss 0.2547: 100%|\u001b[32m████████████████████\u001b[0m| 58/58 [00:02<00:00, 19.70it/s]\u001b[32m\u001b[0m\n",
            "Eval loss: 0.2939; accuracy: 0.8812095032397408\n",
            "New minimal validation loss; saving model...\n",
            "Loss 0.0310: 100%|\u001b[32m████████████████████\u001b[0m| 615/615 [01:34<00:00,  6.53it/s]\u001b[32m\u001b[0m\n",
            "Epoch: 8, Training loss: 0.2581\n",
            "New minimal training loss; saving model...\n",
            "Loss 0.2538: 100%|\u001b[32m████████████████████\u001b[0m| 58/58 [00:02<00:00, 19.82it/s]\u001b[32m\u001b[0m\n",
            "Eval loss: 0.2918; accuracy: 0.8833693304535637\n",
            "New minimal validation loss; saving model...\n",
            "Loss 0.0250: 100%|\u001b[32m████████████████████\u001b[0m| 615/615 [01:34<00:00,  6.52it/s]\u001b[32m\u001b[0m\n",
            "Epoch: 9, Training loss: 0.2564\n",
            "New minimal training loss; saving model...\n",
            "Loss 0.2525: 100%|\u001b[32m████████████████████\u001b[0m| 58/58 [00:02<00:00, 19.71it/s]\u001b[32m\u001b[0m\n",
            "Eval loss: 0.2895; accuracy: 0.8833693304535637\n",
            "New minimal validation loss; saving model...\n",
            "Loss 0.0337: 100%|\u001b[32m████████████████████\u001b[0m| 615/615 [01:34<00:00,  6.53it/s]\u001b[32m\u001b[0m\n",
            "Epoch: 10, Training loss: 0.2475\n",
            "New minimal training loss; saving model...\n",
            "Loss 0.2519: 100%|\u001b[32m████████████████████\u001b[0m| 58/58 [00:02<00:00, 19.74it/s]\u001b[32m\u001b[0m\n",
            "Eval loss: 0.2876; accuracy: 0.8833693304535637\n",
            "New minimal validation loss; saving model...\n",
            "Loss 0.0559: 100%|\u001b[32m████████████████████\u001b[0m| 615/615 [01:34<00:00,  6.53it/s]\u001b[32m\u001b[0m\n",
            "Epoch: 11, Training loss: 0.2509\n",
            "Loss 0.2507: 100%|\u001b[32m████████████████████\u001b[0m| 58/58 [00:02<00:00, 19.76it/s]\u001b[32m\u001b[0m\n",
            "Eval loss: 0.2854; accuracy: 0.8866090712742981\n",
            "New minimal validation loss; saving model...\n",
            "Loss 0.0452: 100%|\u001b[32m████████████████████\u001b[0m| 615/615 [01:34<00:00,  6.51it/s]\u001b[32m\u001b[0m\n",
            "Epoch: 12, Training loss: 0.2451\n",
            "New minimal training loss; saving model...\n",
            "Loss 0.2498: 100%|\u001b[32m████████████████████\u001b[0m| 58/58 [00:02<00:00, 19.72it/s]\u001b[32m\u001b[0m\n",
            "Eval loss: 0.2834; accuracy: 0.8876889848812095\n",
            "New minimal validation loss; saving model...\n",
            "Loss 0.0389: 100%|\u001b[32m████████████████████\u001b[0m| 615/615 [01:34<00:00,  6.53it/s]\u001b[32m\u001b[0m\n",
            "Epoch: 13, Training loss: 0.2427\n",
            "New minimal training loss; saving model...\n",
            "Loss 0.2492: 100%|\u001b[32m████████████████████\u001b[0m| 58/58 [00:02<00:00, 19.64it/s]\u001b[32m\u001b[0m\n",
            "Eval loss: 0.2816; accuracy: 0.8887688984881209\n",
            "New minimal validation loss; saving model...\n",
            "Loss 0.0235: 100%|\u001b[32m████████████████████\u001b[0m| 615/615 [01:34<00:00,  6.51it/s]\u001b[32m\u001b[0m\n",
            "Epoch: 14, Training loss: 0.2433\n",
            "Loss 0.2483: 100%|\u001b[32m████████████████████\u001b[0m| 58/58 [00:02<00:00, 19.63it/s]\u001b[32m\u001b[0m\n",
            "Eval loss: 0.2796; accuracy: 0.8876889848812095\n",
            "New minimal validation loss; saving model...\n",
            "Loss 0.0304: 100%|\u001b[32m████████████████████\u001b[0m| 615/615 [01:34<00:00,  6.52it/s]\u001b[32m\u001b[0m\n",
            "Epoch: 15, Training loss: 0.2386\n",
            "New minimal training loss; saving model...\n",
            "Loss 0.2475: 100%|\u001b[32m████████████████████\u001b[0m| 58/58 [00:02<00:00, 19.64it/s]\u001b[32m\u001b[0m\n",
            "Eval loss: 0.2777; accuracy: 0.8876889848812095\n",
            "New minimal validation loss; saving model...\n",
            "Loss 0.0413: 100%|\u001b[32m████████████████████\u001b[0m| 615/615 [01:34<00:00,  6.51it/s]\u001b[32m\u001b[0m\n",
            "Epoch: 16, Training loss: 0.2360\n",
            "New minimal training loss; saving model...\n",
            "Loss 0.2465: 100%|\u001b[32m████████████████████\u001b[0m| 58/58 [00:02<00:00, 19.73it/s]\u001b[32m\u001b[0m\n",
            "Eval loss: 0.2757; accuracy: 0.8876889848812095\n",
            "New minimal validation loss; saving model...\n",
            "Loss 0.0326: 100%|\u001b[32m████████████████████\u001b[0m| 615/615 [01:34<00:00,  6.51it/s]\u001b[32m\u001b[0m\n",
            "Epoch: 17, Training loss: 0.2319\n",
            "New minimal training loss; saving model...\n",
            "Loss 0.2458: 100%|\u001b[32m████████████████████\u001b[0m| 58/58 [00:02<00:00, 19.73it/s]\u001b[32m\u001b[0m\n",
            "Eval loss: 0.2740; accuracy: 0.8876889848812095\n",
            "New minimal validation loss; saving model...\n",
            "Loss 0.0323: 100%|\u001b[32m████████████████████\u001b[0m| 615/615 [01:34<00:00,  6.52it/s]\u001b[32m\u001b[0m\n",
            "Epoch: 18, Training loss: 0.2341\n",
            "Loss 0.2451: 100%|\u001b[32m████████████████████\u001b[0m| 58/58 [00:02<00:00, 19.78it/s]\u001b[32m\u001b[0m\n",
            "Eval loss: 0.2722; accuracy: 0.8887688984881209\n",
            "New minimal validation loss; saving model...\n",
            "Loss 0.0376: 100%|\u001b[32m████████████████████\u001b[0m| 615/615 [01:34<00:00,  6.53it/s]\u001b[32m\u001b[0m\n",
            "Epoch: 19, Training loss: 0.2366\n",
            "Loss 0.2443: 100%|\u001b[32m████████████████████\u001b[0m| 58/58 [00:02<00:00, 19.69it/s]\u001b[32m\u001b[0m\n",
            "Eval loss: 0.2703; accuracy: 0.8887688984881209\n",
            "New minimal validation loss; saving model...\n",
            "Loss 0.0452: 100%|\u001b[32m████████████████████\u001b[0m| 615/615 [01:34<00:00,  6.52it/s]\u001b[32m\u001b[0m\n",
            "Epoch: 20, Training loss: 0.2287\n",
            "New minimal training loss; saving model...\n",
            "Loss 0.2437: 100%|\u001b[32m████████████████████\u001b[0m| 58/58 [00:02<00:00, 19.69it/s]\u001b[32m\u001b[0m\n",
            "Eval loss: 0.2687; accuracy: 0.8909287257019438\n",
            "New minimal validation loss; saving model...\n",
            "Loss 0.0284: 100%|\u001b[32m████████████████████\u001b[0m| 615/615 [01:34<00:00,  6.53it/s]\u001b[32m\u001b[0m\n",
            "Epoch: 21, Training loss: 0.2285\n",
            "New minimal training loss; saving model...\n",
            "Loss 0.2427: 100%|\u001b[32m████████████████████\u001b[0m| 58/58 [00:02<00:00, 19.74it/s]\u001b[32m\u001b[0m\n",
            "Eval loss: 0.2668; accuracy: 0.8920086393088553\n",
            "New minimal validation loss; saving model...\n",
            "Loss 0.0262: 100%|\u001b[32m████████████████████\u001b[0m| 615/615 [01:33<00:00,  6.55it/s]\u001b[32m\u001b[0m\n",
            "Epoch: 22, Training loss: 0.2298\n",
            "Loss 0.2422: 100%|\u001b[32m████████████████████\u001b[0m| 58/58 [00:02<00:00, 19.69it/s]\u001b[32m\u001b[0m\n",
            "Eval loss: 0.2652; accuracy: 0.8930885529157667\n",
            "New minimal validation loss; saving model...\n",
            "Loss 0.0359: 100%|\u001b[32m████████████████████\u001b[0m| 615/615 [01:34<00:00,  6.52it/s]\u001b[32m\u001b[0m\n",
            "Epoch: 23, Training loss: 0.2231\n",
            "New minimal training loss; saving model...\n",
            "Loss 0.2417: 100%|\u001b[32m████████████████████\u001b[0m| 58/58 [00:02<00:00, 19.73it/s]\u001b[32m\u001b[0m\n",
            "Eval loss: 0.2636; accuracy: 0.8930885529157667\n",
            "New minimal validation loss; saving model...\n",
            "Loss 0.0329: 100%|\u001b[32m████████████████████\u001b[0m| 615/615 [01:34<00:00,  6.53it/s]\u001b[32m\u001b[0m\n",
            "Epoch: 24, Training loss: 0.2249\n",
            "Loss 0.2407: 100%|\u001b[32m████████████████████\u001b[0m| 58/58 [00:02<00:00, 19.77it/s]\u001b[32m\u001b[0m\n",
            "Eval loss: 0.2618; accuracy: 0.8930885529157667\n",
            "New minimal validation loss; saving model...\n",
            "Loss 0.0285: 100%|\u001b[32m████████████████████\u001b[0m| 615/615 [01:34<00:00,  6.53it/s]\u001b[32m\u001b[0m\n",
            "Epoch: 25, Training loss: 0.2221\n",
            "New minimal training loss; saving model...\n",
            "Loss 0.2400: 100%|\u001b[32m████████████████████\u001b[0m| 58/58 [00:02<00:00, 19.88it/s]\u001b[32m\u001b[0m\n",
            "Eval loss: 0.2602; accuracy: 0.8930885529157667\n",
            "New minimal validation loss; saving model...\n",
            "Loss 0.0263: 100%|\u001b[32m████████████████████\u001b[0m| 615/615 [01:34<00:00,  6.52it/s]\u001b[32m\u001b[0m\n",
            "Epoch: 26, Training loss: 0.2158\n",
            "New minimal training loss; saving model...\n",
            "Loss 0.2396: 100%|\u001b[32m████████████████████\u001b[0m| 58/58 [00:02<00:00, 19.83it/s]\u001b[32m\u001b[0m\n",
            "Eval loss: 0.2587; accuracy: 0.8930885529157667\n",
            "New minimal validation loss; saving model...\n",
            "Loss 0.0336: 100%|\u001b[32m████████████████████\u001b[0m| 615/615 [01:34<00:00,  6.51it/s]\u001b[32m\u001b[0m\n",
            "Epoch: 27, Training loss: 0.2100\n",
            "New minimal training loss; saving model...\n",
            "Loss 0.2393: 100%|\u001b[32m████████████████████\u001b[0m| 58/58 [00:02<00:00, 19.68it/s]\u001b[32m\u001b[0m\n",
            "Eval loss: 0.2573; accuracy: 0.8941684665226782\n",
            "New minimal validation loss; saving model...\n",
            "Loss 0.0281: 100%|\u001b[32m████████████████████\u001b[0m| 615/615 [01:34<00:00,  6.52it/s]\u001b[32m\u001b[0m\n",
            "Epoch: 28, Training loss: 0.2134\n",
            "Loss 0.2387: 100%|\u001b[32m████████████████████\u001b[0m| 58/58 [00:02<00:00, 19.73it/s]\u001b[32m\u001b[0m\n",
            "Eval loss: 0.2558; accuracy: 0.8941684665226782\n",
            "New minimal validation loss; saving model...\n",
            "Loss 0.0370: 100%|\u001b[32m████████████████████\u001b[0m| 615/615 [01:34<00:00,  6.52it/s]\u001b[32m\u001b[0m\n",
            "Epoch: 29, Training loss: 0.2144\n",
            "Loss 0.2380: 100%|\u001b[32m████████████████████\u001b[0m| 58/58 [00:02<00:00, 19.76it/s]\u001b[32m\u001b[0m\n",
            "Eval loss: 0.2543; accuracy: 0.8941684665226782\n",
            "New minimal validation loss; saving model...\n",
            "Epochs:  58%|\u001b[32m███████████▌        \u001b[0m| 29/50 [1:09:12<50:06, 143.18s/it]\u001b[32m\u001b[0m\n"
          ]
        },
        {
          "output_type": "error",
          "ename": "KeyboardInterrupt",
          "evalue": "ignored",
          "traceback": [
            "\u001b[0;31m---------------------------------------------------------------------------\u001b[0m",
            "\u001b[0;31mKeyboardInterrupt\u001b[0m                         Traceback (most recent call last)",
            "\u001b[0;32m<ipython-input-44-a07d7ee8ba7d>\u001b[0m in \u001b[0;36m<cell line: 3>\u001b[0;34m()\u001b[0m\n\u001b[1;32m     51\u001b[0m              current_epoch=epoch)\n\u001b[1;32m     52\u001b[0m \u001b[0;34m\u001b[0m\u001b[0m\n\u001b[0;32m---> 53\u001b[0;31m     \u001b[0mtrain_dataset\u001b[0m\u001b[0;34m.\u001b[0m\u001b[0mrebuild_dataset\u001b[0m\u001b[0;34m(\u001b[0m\u001b[0mverbose\u001b[0m\u001b[0;34m=\u001b[0m\u001b[0;32mFalse\u001b[0m\u001b[0;34m)\u001b[0m\u001b[0;34m\u001b[0m\u001b[0;34m\u001b[0m\u001b[0m\n\u001b[0m",
            "\u001b[0;32m<ipython-input-31-cd7193fd6816>\u001b[0m in \u001b[0;36mrebuild_dataset\u001b[0;34m(self, verbose)\u001b[0m\n\u001b[1;32m     31\u001b[0m                 \u001b[0mprint\u001b[0m\u001b[0;34m(\u001b[0m\u001b[0;34m\"selected_negative: {}\"\u001b[0m\u001b[0;34m.\u001b[0m\u001b[0mformat\u001b[0m\u001b[0;34m(\u001b[0m\u001b[0mselected_negative\u001b[0m\u001b[0;34m)\u001b[0m\u001b[0;34m)\u001b[0m\u001b[0;34m\u001b[0m\u001b[0;34m\u001b[0m\u001b[0m\n\u001b[1;32m     32\u001b[0m \u001b[0;34m\u001b[0m\u001b[0m\n\u001b[0;32m---> 33\u001b[0;31m             \u001b[0mpositive_doc_index\u001b[0m \u001b[0;34m=\u001b[0m \u001b[0mself\u001b[0m\u001b[0;34m.\u001b[0m\u001b[0mselected_docs_df\u001b[0m\u001b[0;34m[\u001b[0m\u001b[0mself\u001b[0m\u001b[0;34m.\u001b[0m\u001b[0mselected_docs_df\u001b[0m\u001b[0;34m[\u001b[0m\u001b[0;34m'corpus-id'\u001b[0m\u001b[0;34m]\u001b[0m \u001b[0;34m==\u001b[0m \u001b[0mrow\u001b[0m\u001b[0;34m[\u001b[0m\u001b[0;34m'positive_doc_id'\u001b[0m\u001b[0;34m]\u001b[0m\u001b[0;34m]\u001b[0m\u001b[0;34m.\u001b[0m\u001b[0mindex\u001b[0m\u001b[0;34m[\u001b[0m\u001b[0;36m0\u001b[0m\u001b[0;34m]\u001b[0m\u001b[0;34m\u001b[0m\u001b[0;34m\u001b[0m\u001b[0m\n\u001b[0m\u001b[1;32m     34\u001b[0m             \u001b[0mnegative_doc_index\u001b[0m \u001b[0;34m=\u001b[0m \u001b[0mself\u001b[0m\u001b[0;34m.\u001b[0m\u001b[0mselected_docs_df\u001b[0m\u001b[0;34m[\u001b[0m\u001b[0mself\u001b[0m\u001b[0;34m.\u001b[0m\u001b[0mselected_docs_df\u001b[0m\u001b[0;34m[\u001b[0m\u001b[0;34m'corpus-id'\u001b[0m\u001b[0;34m]\u001b[0m \u001b[0;34m==\u001b[0m \u001b[0mselected_negative\u001b[0m\u001b[0;34m]\u001b[0m\u001b[0;34m.\u001b[0m\u001b[0mindex\u001b[0m\u001b[0;34m[\u001b[0m\u001b[0;36m0\u001b[0m\u001b[0;34m]\u001b[0m\u001b[0;34m\u001b[0m\u001b[0;34m\u001b[0m\u001b[0m\n\u001b[1;32m     35\u001b[0m \u001b[0;34m\u001b[0m\u001b[0m\n",
            "\u001b[0;32m/usr/local/lib/python3.10/dist-packages/pandas/core/ops/common.py\u001b[0m in \u001b[0;36mnew_method\u001b[0;34m(self, other)\u001b[0m\n\u001b[1;32m     70\u001b[0m         \u001b[0mother\u001b[0m \u001b[0;34m=\u001b[0m \u001b[0mitem_from_zerodim\u001b[0m\u001b[0;34m(\u001b[0m\u001b[0mother\u001b[0m\u001b[0;34m)\u001b[0m\u001b[0;34m\u001b[0m\u001b[0;34m\u001b[0m\u001b[0m\n\u001b[1;32m     71\u001b[0m \u001b[0;34m\u001b[0m\u001b[0m\n\u001b[0;32m---> 72\u001b[0;31m         \u001b[0;32mreturn\u001b[0m \u001b[0mmethod\u001b[0m\u001b[0;34m(\u001b[0m\u001b[0mself\u001b[0m\u001b[0;34m,\u001b[0m \u001b[0mother\u001b[0m\u001b[0;34m)\u001b[0m\u001b[0;34m\u001b[0m\u001b[0;34m\u001b[0m\u001b[0m\n\u001b[0m\u001b[1;32m     73\u001b[0m \u001b[0;34m\u001b[0m\u001b[0m\n\u001b[1;32m     74\u001b[0m     \u001b[0;32mreturn\u001b[0m \u001b[0mnew_method\u001b[0m\u001b[0;34m\u001b[0m\u001b[0;34m\u001b[0m\u001b[0m\n",
            "\u001b[0;32m/usr/local/lib/python3.10/dist-packages/pandas/core/arraylike.py\u001b[0m in \u001b[0;36m__eq__\u001b[0;34m(self, other)\u001b[0m\n\u001b[1;32m     40\u001b[0m     \u001b[0;34m@\u001b[0m\u001b[0munpack_zerodim_and_defer\u001b[0m\u001b[0;34m(\u001b[0m\u001b[0;34m\"__eq__\"\u001b[0m\u001b[0;34m)\u001b[0m\u001b[0;34m\u001b[0m\u001b[0;34m\u001b[0m\u001b[0m\n\u001b[1;32m     41\u001b[0m     \u001b[0;32mdef\u001b[0m \u001b[0m__eq__\u001b[0m\u001b[0;34m(\u001b[0m\u001b[0mself\u001b[0m\u001b[0;34m,\u001b[0m \u001b[0mother\u001b[0m\u001b[0;34m)\u001b[0m\u001b[0;34m:\u001b[0m\u001b[0;34m\u001b[0m\u001b[0;34m\u001b[0m\u001b[0m\n\u001b[0;32m---> 42\u001b[0;31m         \u001b[0;32mreturn\u001b[0m \u001b[0mself\u001b[0m\u001b[0;34m.\u001b[0m\u001b[0m_cmp_method\u001b[0m\u001b[0;34m(\u001b[0m\u001b[0mother\u001b[0m\u001b[0;34m,\u001b[0m \u001b[0moperator\u001b[0m\u001b[0;34m.\u001b[0m\u001b[0meq\u001b[0m\u001b[0;34m)\u001b[0m\u001b[0;34m\u001b[0m\u001b[0;34m\u001b[0m\u001b[0m\n\u001b[0m\u001b[1;32m     43\u001b[0m \u001b[0;34m\u001b[0m\u001b[0m\n\u001b[1;32m     44\u001b[0m     \u001b[0;34m@\u001b[0m\u001b[0munpack_zerodim_and_defer\u001b[0m\u001b[0;34m(\u001b[0m\u001b[0;34m\"__ne__\"\u001b[0m\u001b[0;34m)\u001b[0m\u001b[0;34m\u001b[0m\u001b[0;34m\u001b[0m\u001b[0m\n",
            "\u001b[0;32m/usr/local/lib/python3.10/dist-packages/pandas/core/series.py\u001b[0m in \u001b[0;36m_cmp_method\u001b[0;34m(self, other, op)\u001b[0m\n\u001b[1;32m   6241\u001b[0m \u001b[0;34m\u001b[0m\u001b[0m\n\u001b[1;32m   6242\u001b[0m         \u001b[0;32mwith\u001b[0m \u001b[0mnp\u001b[0m\u001b[0;34m.\u001b[0m\u001b[0merrstate\u001b[0m\u001b[0;34m(\u001b[0m\u001b[0mall\u001b[0m\u001b[0;34m=\u001b[0m\u001b[0;34m\"ignore\"\u001b[0m\u001b[0;34m)\u001b[0m\u001b[0;34m:\u001b[0m\u001b[0;34m\u001b[0m\u001b[0;34m\u001b[0m\u001b[0m\n\u001b[0;32m-> 6243\u001b[0;31m             \u001b[0mres_values\u001b[0m \u001b[0;34m=\u001b[0m \u001b[0mops\u001b[0m\u001b[0;34m.\u001b[0m\u001b[0mcomparison_op\u001b[0m\u001b[0;34m(\u001b[0m\u001b[0mlvalues\u001b[0m\u001b[0;34m,\u001b[0m \u001b[0mrvalues\u001b[0m\u001b[0;34m,\u001b[0m \u001b[0mop\u001b[0m\u001b[0;34m)\u001b[0m\u001b[0;34m\u001b[0m\u001b[0;34m\u001b[0m\u001b[0m\n\u001b[0m\u001b[1;32m   6244\u001b[0m \u001b[0;34m\u001b[0m\u001b[0m\n\u001b[1;32m   6245\u001b[0m         \u001b[0;32mreturn\u001b[0m \u001b[0mself\u001b[0m\u001b[0;34m.\u001b[0m\u001b[0m_construct_result\u001b[0m\u001b[0;34m(\u001b[0m\u001b[0mres_values\u001b[0m\u001b[0;34m,\u001b[0m \u001b[0mname\u001b[0m\u001b[0;34m=\u001b[0m\u001b[0mres_name\u001b[0m\u001b[0;34m)\u001b[0m\u001b[0;34m\u001b[0m\u001b[0;34m\u001b[0m\u001b[0m\n",
            "\u001b[0;32m/usr/local/lib/python3.10/dist-packages/pandas/core/ops/array_ops.py\u001b[0m in \u001b[0;36mcomparison_op\u001b[0;34m(left, right, op)\u001b[0m\n\u001b[1;32m    285\u001b[0m \u001b[0;34m\u001b[0m\u001b[0m\n\u001b[1;32m    286\u001b[0m     \u001b[0;32melif\u001b[0m \u001b[0mis_object_dtype\u001b[0m\u001b[0;34m(\u001b[0m\u001b[0mlvalues\u001b[0m\u001b[0;34m.\u001b[0m\u001b[0mdtype\u001b[0m\u001b[0;34m)\u001b[0m \u001b[0;32mor\u001b[0m \u001b[0misinstance\u001b[0m\u001b[0;34m(\u001b[0m\u001b[0mrvalues\u001b[0m\u001b[0;34m,\u001b[0m \u001b[0mstr\u001b[0m\u001b[0;34m)\u001b[0m\u001b[0;34m:\u001b[0m\u001b[0;34m\u001b[0m\u001b[0;34m\u001b[0m\u001b[0m\n\u001b[0;32m--> 287\u001b[0;31m         \u001b[0mres_values\u001b[0m \u001b[0;34m=\u001b[0m \u001b[0mcomp_method_OBJECT_ARRAY\u001b[0m\u001b[0;34m(\u001b[0m\u001b[0mop\u001b[0m\u001b[0;34m,\u001b[0m \u001b[0mlvalues\u001b[0m\u001b[0;34m,\u001b[0m \u001b[0mrvalues\u001b[0m\u001b[0;34m)\u001b[0m\u001b[0;34m\u001b[0m\u001b[0;34m\u001b[0m\u001b[0m\n\u001b[0m\u001b[1;32m    288\u001b[0m \u001b[0;34m\u001b[0m\u001b[0m\n\u001b[1;32m    289\u001b[0m     \u001b[0;32melse\u001b[0m\u001b[0;34m:\u001b[0m\u001b[0;34m\u001b[0m\u001b[0;34m\u001b[0m\u001b[0m\n",
            "\u001b[0;32m/usr/local/lib/python3.10/dist-packages/pandas/core/ops/array_ops.py\u001b[0m in \u001b[0;36mcomp_method_OBJECT_ARRAY\u001b[0;34m(op, x, y)\u001b[0m\n\u001b[1;32m     73\u001b[0m         \u001b[0mresult\u001b[0m \u001b[0;34m=\u001b[0m \u001b[0mlibops\u001b[0m\u001b[0;34m.\u001b[0m\u001b[0mvec_compare\u001b[0m\u001b[0;34m(\u001b[0m\u001b[0mx\u001b[0m\u001b[0;34m.\u001b[0m\u001b[0mravel\u001b[0m\u001b[0;34m(\u001b[0m\u001b[0;34m)\u001b[0m\u001b[0;34m,\u001b[0m \u001b[0my\u001b[0m\u001b[0;34m.\u001b[0m\u001b[0mravel\u001b[0m\u001b[0;34m(\u001b[0m\u001b[0;34m)\u001b[0m\u001b[0;34m,\u001b[0m \u001b[0mop\u001b[0m\u001b[0;34m)\u001b[0m\u001b[0;34m\u001b[0m\u001b[0;34m\u001b[0m\u001b[0m\n\u001b[1;32m     74\u001b[0m     \u001b[0;32melse\u001b[0m\u001b[0;34m:\u001b[0m\u001b[0;34m\u001b[0m\u001b[0;34m\u001b[0m\u001b[0m\n\u001b[0;32m---> 75\u001b[0;31m         \u001b[0mresult\u001b[0m \u001b[0;34m=\u001b[0m \u001b[0mlibops\u001b[0m\u001b[0;34m.\u001b[0m\u001b[0mscalar_compare\u001b[0m\u001b[0;34m(\u001b[0m\u001b[0mx\u001b[0m\u001b[0;34m.\u001b[0m\u001b[0mravel\u001b[0m\u001b[0;34m(\u001b[0m\u001b[0;34m)\u001b[0m\u001b[0;34m,\u001b[0m \u001b[0my\u001b[0m\u001b[0;34m,\u001b[0m \u001b[0mop\u001b[0m\u001b[0;34m)\u001b[0m\u001b[0;34m\u001b[0m\u001b[0;34m\u001b[0m\u001b[0m\n\u001b[0m\u001b[1;32m     76\u001b[0m     \u001b[0;32mreturn\u001b[0m \u001b[0mresult\u001b[0m\u001b[0;34m.\u001b[0m\u001b[0mreshape\u001b[0m\u001b[0;34m(\u001b[0m\u001b[0mx\u001b[0m\u001b[0;34m.\u001b[0m\u001b[0mshape\u001b[0m\u001b[0;34m)\u001b[0m\u001b[0;34m\u001b[0m\u001b[0;34m\u001b[0m\u001b[0m\n\u001b[1;32m     77\u001b[0m \u001b[0;34m\u001b[0m\u001b[0m\n",
            "\u001b[0;31mKeyboardInterrupt\u001b[0m: "
          ]
        }
      ],
      "source": [
        "current_training_step = 0\n",
        "\n",
        "for epoch in tqdm.tqdm(range(hyperparameters['epochs']), desc='Epochs', bar_format='{l_bar}{bar:20}{r_bar}{bar:-20b}', colour='GREEN', file=sys.stdout):\n",
        "    model.train()\n",
        "    train_losses = []\n",
        "    \n",
        "    tqdm_batches = tqdm.tqdm(train_dataloader, mininterval=0.5, desc='Train', disable=False, bar_format='{l_bar}{bar:20}{r_bar}{bar:-20b}', colour='GREEN', file=sys.stdout, position=0, leave=True)\n",
        "    # tqdm_batches = tqdm.tqdm(train_dataloader, mininterval=0.5, desc='Train', disable=False)\n",
        "    \n",
        "    for batch in tqdm_batches:\n",
        "        optimizer.zero_grad()\n",
        "        outputs = model(**batch.to(device))\n",
        "        loss = outputs.loss\n",
        "        loss.backward()\n",
        "        optimizer.step()\n",
        "        scheduler.step()\n",
        "        train_losses.append(loss.cpu().item())\n",
        "\n",
        "        tqdm_batches.set_description(\"Loss {:0.4f}\".format(train_losses[-1]))\n",
        "\n",
        "        if LINK_WITH_COMET:\n",
        "            experiment.log_metrics({'train loss': train_losses[-1],\n",
        "                                    'learning_rate': scheduler.get_last_lr()},\n",
        "                                    step=current_training_step)\n",
        "            \n",
        "        current_training_step += 1\n",
        "        \n",
        "        \n",
        "    print(\"Epoch: {}, Training loss: {:0.4f}\".format(epoch, np.mean(train_losses)))\n",
        "\n",
        "    if min_training_loss['loss'] > np.mean(train_losses):\n",
        "        print(\"New minimal training loss; saving model...\")\n",
        "\n",
        "        training_timestamp = datetime.now().strftime(\"%Y%m%d_%H%M%S\")\n",
        "\n",
        "        checkpoint_name = \"checkpoint_{}_{}_{}_{:.4f}\".format(TREC_COVID_LLM_1000_QUERIES, \"{:02d}_epoch\".format(epoch), training_timestamp, np.mean(train_losses))\n",
        "        model.save_pretrained(os.path.join(TRAIN_OUTPUT_FOLDER, checkpoint_name))\n",
        "\n",
        "        min_training_loss['checkpoint_name'] = checkpoint_name\n",
        "        min_training_loss['loss'] = np.mean(train_losses)\n",
        "\n",
        "    if LINK_WITH_COMET:\n",
        "        experiment.log_metrics({'train loss': np.mean(train_losses)},\n",
        "                               epoch=epoch)\n",
        "\n",
        "    evaluate(model=model, \n",
        "             dataloader=eval_dataloader, \n",
        "             set_name='Eval', \n",
        "             min_valid_loss=min_valid_loss, \n",
        "             current_training_step=current_training_step, \n",
        "             current_epoch=epoch)\n",
        "\n",
        "    train_dataset.rebuild_dataset(verbose=False)"
      ]
    },
    {
      "cell_type": "code",
      "source": [
        "if LINK_WITH_COMET:\n",
        "    experiment.end() "
      ],
      "metadata": {
        "id": "L51TVwQ9OS0Q",
        "colab": {
          "base_uri": "https://localhost:8080/"
        },
        "outputId": "0f3a871d-ee22-4225-e364-7bfae3153572"
      },
      "execution_count": 45,
      "outputs": [
        {
          "output_type": "stream",
          "name": "stderr",
          "text": [
            "\u001b[1;38;5;39mCOMET INFO:\u001b[0m ---------------------------------------------------------------------------------------\n",
            "\u001b[1;38;5;39mCOMET INFO:\u001b[0m Comet.ml Experiment Summary\n",
            "\u001b[1;38;5;39mCOMET INFO:\u001b[0m ---------------------------------------------------------------------------------------\n",
            "\u001b[1;38;5;39mCOMET INFO:\u001b[0m   Data:\n",
            "\u001b[1;38;5;39mCOMET INFO:\u001b[0m     display_summary_level : 1\n",
            "\u001b[1;38;5;39mCOMET INFO:\u001b[0m     url                   : https://www.comet.com/eduseiti/inpars-reraking/a26c235ed0254c2eb71e1876151d549d\n",
            "\u001b[1;38;5;39mCOMET INFO:\u001b[0m   Metrics [count] (min, max):\n",
            "\u001b[1;38;5;39mCOMET INFO:\u001b[0m     eval loss [30]     : (0.2542881483918634, 0.3104252854426359)\n",
            "\u001b[1;38;5;39mCOMET INFO:\u001b[0m     learning_rate      : 1e-08\n",
            "\u001b[1;38;5;39mCOMET INFO:\u001b[0m     loss [1831]        : (0.015924062579870224, 1.668872594833374)\n",
            "\u001b[1;38;5;39mCOMET INFO:\u001b[0m     train loss [18480] : (0.012990033254027367, 1.67180335521698)\n",
            "\u001b[1;38;5;39mCOMET INFO:\u001b[0m   Parameters:\n",
            "\u001b[1;38;5;39mCOMET INFO:\u001b[0m     batch_size         : 16\n",
            "\u001b[1;38;5;39mCOMET INFO:\u001b[0m     epochs             : 50\n",
            "\u001b[1;38;5;39mCOMET INFO:\u001b[0m     learning_rate      : 1e-08\n",
            "\u001b[1;38;5;39mCOMET INFO:\u001b[0m     num_training_steps : 30700\n",
            "\u001b[1;38;5;39mCOMET INFO:\u001b[0m     num_warmup_steps   : 0\n",
            "\u001b[1;38;5;39mCOMET INFO:\u001b[0m   Uploads:\n",
            "\u001b[1;38;5;39mCOMET INFO:\u001b[0m     environment details : 1\n",
            "\u001b[1;38;5;39mCOMET INFO:\u001b[0m     filename            : 1\n",
            "\u001b[1;38;5;39mCOMET INFO:\u001b[0m     installed packages  : 1\n",
            "\u001b[1;38;5;39mCOMET INFO:\u001b[0m     model graph         : 1\n",
            "\u001b[1;38;5;39mCOMET INFO:\u001b[0m     notebook            : 2\n",
            "\u001b[1;38;5;39mCOMET INFO:\u001b[0m     os packages         : 1\n",
            "\u001b[1;38;5;39mCOMET INFO:\u001b[0m     source_code         : 1\n",
            "\u001b[1;38;5;39mCOMET INFO:\u001b[0m \n",
            "\u001b[1;38;5;39mCOMET INFO:\u001b[0m Please wait for metadata to finish uploading (timeout is 3600 seconds)\n"
          ]
        }
      ]
    },
    {
      "cell_type": "code",
      "execution_count": null,
      "metadata": {
        "id": "OCwQdh_8r1tt"
      },
      "outputs": [],
      "source": [
        "training_timestamp = datetime.now().strftime(\"%Y%m%d_%H%M%S\")"
      ]
    },
    {
      "cell_type": "code",
      "source": [
        "checkpoint_name = \"checkpoint_{}_{}_{}_{:.4f}\".format(TREC_COVID_LLM_1000_QUERIES, \"{:02d}_epochs\".format(hyperparameters['epochs']), training_timestamp, np.mean(train_losses))\n",
        "model.save_pretrained(os.path.join(TRAIN_OUTPUT_FOLDER, checkpoint_name))"
      ],
      "metadata": {
        "id": "-YYlyGjox28T"
      },
      "execution_count": null,
      "outputs": []
    },
    {
      "cell_type": "code",
      "source": [],
      "metadata": {
        "id": "SWv4bMbg6q0K"
      },
      "execution_count": 47,
      "outputs": []
    }
  ],
  "metadata": {
    "accelerator": "GPU",
    "colab": {
      "provenance": [],
      "include_colab_link": true
    },
    "gpuClass": "premium",
    "kernelspec": {
      "display_name": "Python 3",
      "language": "python",
      "name": "python3"
    },
    "language_info": {
      "codemirror_mode": {
        "name": "ipython",
        "version": 3
      },
      "file_extension": ".py",
      "mimetype": "text/x-python",
      "name": "python",
      "nbconvert_exporter": "python",
      "pygments_lexer": "ipython3",
      "version": "3.8.16"
    },
    "widgets": {
      "application/vnd.jupyter.widget-state+json": {
        "801bc78967484a5484f7cce558d91e21": {
          "model_module": "@jupyter-widgets/controls",
          "model_name": "HBoxModel",
          "model_module_version": "1.5.0",
          "state": {
            "_dom_classes": [],
            "_model_module": "@jupyter-widgets/controls",
            "_model_module_version": "1.5.0",
            "_model_name": "HBoxModel",
            "_view_count": null,
            "_view_module": "@jupyter-widgets/controls",
            "_view_module_version": "1.5.0",
            "_view_name": "HBoxView",
            "box_style": "",
            "children": [
              "IPY_MODEL_0d73d8f2467c4efb8e91fadea050cfeb",
              "IPY_MODEL_ee6b7d54e8e74e4fb5fb43531842f847",
              "IPY_MODEL_af174c4910c7495dad5f7f6ecf28ba84"
            ],
            "layout": "IPY_MODEL_567a50c4d7754aefbf9fb8886269dcce"
          }
        },
        "0d73d8f2467c4efb8e91fadea050cfeb": {
          "model_module": "@jupyter-widgets/controls",
          "model_name": "HTMLModel",
          "model_module_version": "1.5.0",
          "state": {
            "_dom_classes": [],
            "_model_module": "@jupyter-widgets/controls",
            "_model_module_version": "1.5.0",
            "_model_name": "HTMLModel",
            "_view_count": null,
            "_view_module": "@jupyter-widgets/controls",
            "_view_module_version": "1.5.0",
            "_view_name": "HTMLView",
            "description": "",
            "description_tooltip": null,
            "layout": "IPY_MODEL_16dc03914e924186bdfaa19072f7cfde",
            "placeholder": "​",
            "style": "IPY_MODEL_c28070f919144188bb16777331d07522",
            "value": "Downloading (…)okenizer_config.json: 100%"
          }
        },
        "ee6b7d54e8e74e4fb5fb43531842f847": {
          "model_module": "@jupyter-widgets/controls",
          "model_name": "FloatProgressModel",
          "model_module_version": "1.5.0",
          "state": {
            "_dom_classes": [],
            "_model_module": "@jupyter-widgets/controls",
            "_model_module_version": "1.5.0",
            "_model_name": "FloatProgressModel",
            "_view_count": null,
            "_view_module": "@jupyter-widgets/controls",
            "_view_module_version": "1.5.0",
            "_view_name": "ProgressView",
            "bar_style": "success",
            "description": "",
            "description_tooltip": null,
            "layout": "IPY_MODEL_fb0b1fce043543e6a0d0b6413238b8e6",
            "max": 2,
            "min": 0,
            "orientation": "horizontal",
            "style": "IPY_MODEL_d3df871ac3e14ea0858785fb5fc3c362",
            "value": 2
          }
        },
        "af174c4910c7495dad5f7f6ecf28ba84": {
          "model_module": "@jupyter-widgets/controls",
          "model_name": "HTMLModel",
          "model_module_version": "1.5.0",
          "state": {
            "_dom_classes": [],
            "_model_module": "@jupyter-widgets/controls",
            "_model_module_version": "1.5.0",
            "_model_name": "HTMLModel",
            "_view_count": null,
            "_view_module": "@jupyter-widgets/controls",
            "_view_module_version": "1.5.0",
            "_view_name": "HTMLView",
            "description": "",
            "description_tooltip": null,
            "layout": "IPY_MODEL_30561431bdc74317a1fb6d38455dda59",
            "placeholder": "​",
            "style": "IPY_MODEL_f43a23c52c33422c8d6d7f9e09ac610d",
            "value": " 2.00/2.00 [00:00&lt;00:00, 170B/s]"
          }
        },
        "567a50c4d7754aefbf9fb8886269dcce": {
          "model_module": "@jupyter-widgets/base",
          "model_name": "LayoutModel",
          "model_module_version": "1.2.0",
          "state": {
            "_model_module": "@jupyter-widgets/base",
            "_model_module_version": "1.2.0",
            "_model_name": "LayoutModel",
            "_view_count": null,
            "_view_module": "@jupyter-widgets/base",
            "_view_module_version": "1.2.0",
            "_view_name": "LayoutView",
            "align_content": null,
            "align_items": null,
            "align_self": null,
            "border": null,
            "bottom": null,
            "display": null,
            "flex": null,
            "flex_flow": null,
            "grid_area": null,
            "grid_auto_columns": null,
            "grid_auto_flow": null,
            "grid_auto_rows": null,
            "grid_column": null,
            "grid_gap": null,
            "grid_row": null,
            "grid_template_areas": null,
            "grid_template_columns": null,
            "grid_template_rows": null,
            "height": null,
            "justify_content": null,
            "justify_items": null,
            "left": null,
            "margin": null,
            "max_height": null,
            "max_width": null,
            "min_height": null,
            "min_width": null,
            "object_fit": null,
            "object_position": null,
            "order": null,
            "overflow": null,
            "overflow_x": null,
            "overflow_y": null,
            "padding": null,
            "right": null,
            "top": null,
            "visibility": null,
            "width": null
          }
        },
        "16dc03914e924186bdfaa19072f7cfde": {
          "model_module": "@jupyter-widgets/base",
          "model_name": "LayoutModel",
          "model_module_version": "1.2.0",
          "state": {
            "_model_module": "@jupyter-widgets/base",
            "_model_module_version": "1.2.0",
            "_model_name": "LayoutModel",
            "_view_count": null,
            "_view_module": "@jupyter-widgets/base",
            "_view_module_version": "1.2.0",
            "_view_name": "LayoutView",
            "align_content": null,
            "align_items": null,
            "align_self": null,
            "border": null,
            "bottom": null,
            "display": null,
            "flex": null,
            "flex_flow": null,
            "grid_area": null,
            "grid_auto_columns": null,
            "grid_auto_flow": null,
            "grid_auto_rows": null,
            "grid_column": null,
            "grid_gap": null,
            "grid_row": null,
            "grid_template_areas": null,
            "grid_template_columns": null,
            "grid_template_rows": null,
            "height": null,
            "justify_content": null,
            "justify_items": null,
            "left": null,
            "margin": null,
            "max_height": null,
            "max_width": null,
            "min_height": null,
            "min_width": null,
            "object_fit": null,
            "object_position": null,
            "order": null,
            "overflow": null,
            "overflow_x": null,
            "overflow_y": null,
            "padding": null,
            "right": null,
            "top": null,
            "visibility": null,
            "width": null
          }
        },
        "c28070f919144188bb16777331d07522": {
          "model_module": "@jupyter-widgets/controls",
          "model_name": "DescriptionStyleModel",
          "model_module_version": "1.5.0",
          "state": {
            "_model_module": "@jupyter-widgets/controls",
            "_model_module_version": "1.5.0",
            "_model_name": "DescriptionStyleModel",
            "_view_count": null,
            "_view_module": "@jupyter-widgets/base",
            "_view_module_version": "1.2.0",
            "_view_name": "StyleView",
            "description_width": ""
          }
        },
        "fb0b1fce043543e6a0d0b6413238b8e6": {
          "model_module": "@jupyter-widgets/base",
          "model_name": "LayoutModel",
          "model_module_version": "1.2.0",
          "state": {
            "_model_module": "@jupyter-widgets/base",
            "_model_module_version": "1.2.0",
            "_model_name": "LayoutModel",
            "_view_count": null,
            "_view_module": "@jupyter-widgets/base",
            "_view_module_version": "1.2.0",
            "_view_name": "LayoutView",
            "align_content": null,
            "align_items": null,
            "align_self": null,
            "border": null,
            "bottom": null,
            "display": null,
            "flex": null,
            "flex_flow": null,
            "grid_area": null,
            "grid_auto_columns": null,
            "grid_auto_flow": null,
            "grid_auto_rows": null,
            "grid_column": null,
            "grid_gap": null,
            "grid_row": null,
            "grid_template_areas": null,
            "grid_template_columns": null,
            "grid_template_rows": null,
            "height": null,
            "justify_content": null,
            "justify_items": null,
            "left": null,
            "margin": null,
            "max_height": null,
            "max_width": null,
            "min_height": null,
            "min_width": null,
            "object_fit": null,
            "object_position": null,
            "order": null,
            "overflow": null,
            "overflow_x": null,
            "overflow_y": null,
            "padding": null,
            "right": null,
            "top": null,
            "visibility": null,
            "width": null
          }
        },
        "d3df871ac3e14ea0858785fb5fc3c362": {
          "model_module": "@jupyter-widgets/controls",
          "model_name": "ProgressStyleModel",
          "model_module_version": "1.5.0",
          "state": {
            "_model_module": "@jupyter-widgets/controls",
            "_model_module_version": "1.5.0",
            "_model_name": "ProgressStyleModel",
            "_view_count": null,
            "_view_module": "@jupyter-widgets/base",
            "_view_module_version": "1.2.0",
            "_view_name": "StyleView",
            "bar_color": null,
            "description_width": ""
          }
        },
        "30561431bdc74317a1fb6d38455dda59": {
          "model_module": "@jupyter-widgets/base",
          "model_name": "LayoutModel",
          "model_module_version": "1.2.0",
          "state": {
            "_model_module": "@jupyter-widgets/base",
            "_model_module_version": "1.2.0",
            "_model_name": "LayoutModel",
            "_view_count": null,
            "_view_module": "@jupyter-widgets/base",
            "_view_module_version": "1.2.0",
            "_view_name": "LayoutView",
            "align_content": null,
            "align_items": null,
            "align_self": null,
            "border": null,
            "bottom": null,
            "display": null,
            "flex": null,
            "flex_flow": null,
            "grid_area": null,
            "grid_auto_columns": null,
            "grid_auto_flow": null,
            "grid_auto_rows": null,
            "grid_column": null,
            "grid_gap": null,
            "grid_row": null,
            "grid_template_areas": null,
            "grid_template_columns": null,
            "grid_template_rows": null,
            "height": null,
            "justify_content": null,
            "justify_items": null,
            "left": null,
            "margin": null,
            "max_height": null,
            "max_width": null,
            "min_height": null,
            "min_width": null,
            "object_fit": null,
            "object_position": null,
            "order": null,
            "overflow": null,
            "overflow_x": null,
            "overflow_y": null,
            "padding": null,
            "right": null,
            "top": null,
            "visibility": null,
            "width": null
          }
        },
        "f43a23c52c33422c8d6d7f9e09ac610d": {
          "model_module": "@jupyter-widgets/controls",
          "model_name": "DescriptionStyleModel",
          "model_module_version": "1.5.0",
          "state": {
            "_model_module": "@jupyter-widgets/controls",
            "_model_module_version": "1.5.0",
            "_model_name": "DescriptionStyleModel",
            "_view_count": null,
            "_view_module": "@jupyter-widgets/base",
            "_view_module_version": "1.2.0",
            "_view_name": "StyleView",
            "description_width": ""
          }
        },
        "fe64fd4f6eb54b6d89633c7203bf2b4c": {
          "model_module": "@jupyter-widgets/controls",
          "model_name": "HBoxModel",
          "model_module_version": "1.5.0",
          "state": {
            "_dom_classes": [],
            "_model_module": "@jupyter-widgets/controls",
            "_model_module_version": "1.5.0",
            "_model_name": "HBoxModel",
            "_view_count": null,
            "_view_module": "@jupyter-widgets/controls",
            "_view_module_version": "1.5.0",
            "_view_name": "HBoxView",
            "box_style": "",
            "children": [
              "IPY_MODEL_d820f2df20744eb0845aa9f012e09184",
              "IPY_MODEL_bb1a020ffd01428f822ae8124a4e73ac",
              "IPY_MODEL_ab7d4f39a53342a6a7dd9ff5a602c8b7"
            ],
            "layout": "IPY_MODEL_204db8a21c3d43e6aa5e25ae3cedf17b"
          }
        },
        "d820f2df20744eb0845aa9f012e09184": {
          "model_module": "@jupyter-widgets/controls",
          "model_name": "HTMLModel",
          "model_module_version": "1.5.0",
          "state": {
            "_dom_classes": [],
            "_model_module": "@jupyter-widgets/controls",
            "_model_module_version": "1.5.0",
            "_model_name": "HTMLModel",
            "_view_count": null,
            "_view_module": "@jupyter-widgets/controls",
            "_view_module_version": "1.5.0",
            "_view_name": "HTMLView",
            "description": "",
            "description_tooltip": null,
            "layout": "IPY_MODEL_59217bdb8e5d4bf28f4e5125ccab3b86",
            "placeholder": "​",
            "style": "IPY_MODEL_f95291a78eec4f0282fb8e9fd76fbad0",
            "value": "Downloading (…)lve/main/config.json: 100%"
          }
        },
        "bb1a020ffd01428f822ae8124a4e73ac": {
          "model_module": "@jupyter-widgets/controls",
          "model_name": "FloatProgressModel",
          "model_module_version": "1.5.0",
          "state": {
            "_dom_classes": [],
            "_model_module": "@jupyter-widgets/controls",
            "_model_module_version": "1.5.0",
            "_model_name": "FloatProgressModel",
            "_view_count": null,
            "_view_module": "@jupyter-widgets/controls",
            "_view_module_version": "1.5.0",
            "_view_name": "ProgressView",
            "bar_style": "success",
            "description": "",
            "description_tooltip": null,
            "layout": "IPY_MODEL_5cb591a54bbc414e9fb926ced7b4c346",
            "max": 385,
            "min": 0,
            "orientation": "horizontal",
            "style": "IPY_MODEL_e64ec60d779b49378f2e15c76520fd3b",
            "value": 385
          }
        },
        "ab7d4f39a53342a6a7dd9ff5a602c8b7": {
          "model_module": "@jupyter-widgets/controls",
          "model_name": "HTMLModel",
          "model_module_version": "1.5.0",
          "state": {
            "_dom_classes": [],
            "_model_module": "@jupyter-widgets/controls",
            "_model_module_version": "1.5.0",
            "_model_name": "HTMLModel",
            "_view_count": null,
            "_view_module": "@jupyter-widgets/controls",
            "_view_module_version": "1.5.0",
            "_view_name": "HTMLView",
            "description": "",
            "description_tooltip": null,
            "layout": "IPY_MODEL_e744729645df4bc188898df29ca06c0c",
            "placeholder": "​",
            "style": "IPY_MODEL_4e12b90a66e445389b93047a3c019130",
            "value": " 385/385 [00:00&lt;00:00, 34.0kB/s]"
          }
        },
        "204db8a21c3d43e6aa5e25ae3cedf17b": {
          "model_module": "@jupyter-widgets/base",
          "model_name": "LayoutModel",
          "model_module_version": "1.2.0",
          "state": {
            "_model_module": "@jupyter-widgets/base",
            "_model_module_version": "1.2.0",
            "_model_name": "LayoutModel",
            "_view_count": null,
            "_view_module": "@jupyter-widgets/base",
            "_view_module_version": "1.2.0",
            "_view_name": "LayoutView",
            "align_content": null,
            "align_items": null,
            "align_self": null,
            "border": null,
            "bottom": null,
            "display": null,
            "flex": null,
            "flex_flow": null,
            "grid_area": null,
            "grid_auto_columns": null,
            "grid_auto_flow": null,
            "grid_auto_rows": null,
            "grid_column": null,
            "grid_gap": null,
            "grid_row": null,
            "grid_template_areas": null,
            "grid_template_columns": null,
            "grid_template_rows": null,
            "height": null,
            "justify_content": null,
            "justify_items": null,
            "left": null,
            "margin": null,
            "max_height": null,
            "max_width": null,
            "min_height": null,
            "min_width": null,
            "object_fit": null,
            "object_position": null,
            "order": null,
            "overflow": null,
            "overflow_x": null,
            "overflow_y": null,
            "padding": null,
            "right": null,
            "top": null,
            "visibility": null,
            "width": null
          }
        },
        "59217bdb8e5d4bf28f4e5125ccab3b86": {
          "model_module": "@jupyter-widgets/base",
          "model_name": "LayoutModel",
          "model_module_version": "1.2.0",
          "state": {
            "_model_module": "@jupyter-widgets/base",
            "_model_module_version": "1.2.0",
            "_model_name": "LayoutModel",
            "_view_count": null,
            "_view_module": "@jupyter-widgets/base",
            "_view_module_version": "1.2.0",
            "_view_name": "LayoutView",
            "align_content": null,
            "align_items": null,
            "align_self": null,
            "border": null,
            "bottom": null,
            "display": null,
            "flex": null,
            "flex_flow": null,
            "grid_area": null,
            "grid_auto_columns": null,
            "grid_auto_flow": null,
            "grid_auto_rows": null,
            "grid_column": null,
            "grid_gap": null,
            "grid_row": null,
            "grid_template_areas": null,
            "grid_template_columns": null,
            "grid_template_rows": null,
            "height": null,
            "justify_content": null,
            "justify_items": null,
            "left": null,
            "margin": null,
            "max_height": null,
            "max_width": null,
            "min_height": null,
            "min_width": null,
            "object_fit": null,
            "object_position": null,
            "order": null,
            "overflow": null,
            "overflow_x": null,
            "overflow_y": null,
            "padding": null,
            "right": null,
            "top": null,
            "visibility": null,
            "width": null
          }
        },
        "f95291a78eec4f0282fb8e9fd76fbad0": {
          "model_module": "@jupyter-widgets/controls",
          "model_name": "DescriptionStyleModel",
          "model_module_version": "1.5.0",
          "state": {
            "_model_module": "@jupyter-widgets/controls",
            "_model_module_version": "1.5.0",
            "_model_name": "DescriptionStyleModel",
            "_view_count": null,
            "_view_module": "@jupyter-widgets/base",
            "_view_module_version": "1.2.0",
            "_view_name": "StyleView",
            "description_width": ""
          }
        },
        "5cb591a54bbc414e9fb926ced7b4c346": {
          "model_module": "@jupyter-widgets/base",
          "model_name": "LayoutModel",
          "model_module_version": "1.2.0",
          "state": {
            "_model_module": "@jupyter-widgets/base",
            "_model_module_version": "1.2.0",
            "_model_name": "LayoutModel",
            "_view_count": null,
            "_view_module": "@jupyter-widgets/base",
            "_view_module_version": "1.2.0",
            "_view_name": "LayoutView",
            "align_content": null,
            "align_items": null,
            "align_self": null,
            "border": null,
            "bottom": null,
            "display": null,
            "flex": null,
            "flex_flow": null,
            "grid_area": null,
            "grid_auto_columns": null,
            "grid_auto_flow": null,
            "grid_auto_rows": null,
            "grid_column": null,
            "grid_gap": null,
            "grid_row": null,
            "grid_template_areas": null,
            "grid_template_columns": null,
            "grid_template_rows": null,
            "height": null,
            "justify_content": null,
            "justify_items": null,
            "left": null,
            "margin": null,
            "max_height": null,
            "max_width": null,
            "min_height": null,
            "min_width": null,
            "object_fit": null,
            "object_position": null,
            "order": null,
            "overflow": null,
            "overflow_x": null,
            "overflow_y": null,
            "padding": null,
            "right": null,
            "top": null,
            "visibility": null,
            "width": null
          }
        },
        "e64ec60d779b49378f2e15c76520fd3b": {
          "model_module": "@jupyter-widgets/controls",
          "model_name": "ProgressStyleModel",
          "model_module_version": "1.5.0",
          "state": {
            "_model_module": "@jupyter-widgets/controls",
            "_model_module_version": "1.5.0",
            "_model_name": "ProgressStyleModel",
            "_view_count": null,
            "_view_module": "@jupyter-widgets/base",
            "_view_module_version": "1.2.0",
            "_view_name": "StyleView",
            "bar_color": null,
            "description_width": ""
          }
        },
        "e744729645df4bc188898df29ca06c0c": {
          "model_module": "@jupyter-widgets/base",
          "model_name": "LayoutModel",
          "model_module_version": "1.2.0",
          "state": {
            "_model_module": "@jupyter-widgets/base",
            "_model_module_version": "1.2.0",
            "_model_name": "LayoutModel",
            "_view_count": null,
            "_view_module": "@jupyter-widgets/base",
            "_view_module_version": "1.2.0",
            "_view_name": "LayoutView",
            "align_content": null,
            "align_items": null,
            "align_self": null,
            "border": null,
            "bottom": null,
            "display": null,
            "flex": null,
            "flex_flow": null,
            "grid_area": null,
            "grid_auto_columns": null,
            "grid_auto_flow": null,
            "grid_auto_rows": null,
            "grid_column": null,
            "grid_gap": null,
            "grid_row": null,
            "grid_template_areas": null,
            "grid_template_columns": null,
            "grid_template_rows": null,
            "height": null,
            "justify_content": null,
            "justify_items": null,
            "left": null,
            "margin": null,
            "max_height": null,
            "max_width": null,
            "min_height": null,
            "min_width": null,
            "object_fit": null,
            "object_position": null,
            "order": null,
            "overflow": null,
            "overflow_x": null,
            "overflow_y": null,
            "padding": null,
            "right": null,
            "top": null,
            "visibility": null,
            "width": null
          }
        },
        "4e12b90a66e445389b93047a3c019130": {
          "model_module": "@jupyter-widgets/controls",
          "model_name": "DescriptionStyleModel",
          "model_module_version": "1.5.0",
          "state": {
            "_model_module": "@jupyter-widgets/controls",
            "_model_module_version": "1.5.0",
            "_model_name": "DescriptionStyleModel",
            "_view_count": null,
            "_view_module": "@jupyter-widgets/base",
            "_view_module_version": "1.2.0",
            "_view_name": "StyleView",
            "description_width": ""
          }
        },
        "fddf8b82aa1b4a40ad19bcf2f7684bcb": {
          "model_module": "@jupyter-widgets/controls",
          "model_name": "HBoxModel",
          "model_module_version": "1.5.0",
          "state": {
            "_dom_classes": [],
            "_model_module": "@jupyter-widgets/controls",
            "_model_module_version": "1.5.0",
            "_model_name": "HBoxModel",
            "_view_count": null,
            "_view_module": "@jupyter-widgets/controls",
            "_view_module_version": "1.5.0",
            "_view_name": "HBoxView",
            "box_style": "",
            "children": [
              "IPY_MODEL_e45f4510515743b9bf7b012c3c9b99f9",
              "IPY_MODEL_e7b674471299495a8cc27290f1e8de16",
              "IPY_MODEL_0108382579cd477b8ee82c851a8d80ad"
            ],
            "layout": "IPY_MODEL_9799443cf16e4d71b14835c804806634"
          }
        },
        "e45f4510515743b9bf7b012c3c9b99f9": {
          "model_module": "@jupyter-widgets/controls",
          "model_name": "HTMLModel",
          "model_module_version": "1.5.0",
          "state": {
            "_dom_classes": [],
            "_model_module": "@jupyter-widgets/controls",
            "_model_module_version": "1.5.0",
            "_model_name": "HTMLModel",
            "_view_count": null,
            "_view_module": "@jupyter-widgets/controls",
            "_view_module_version": "1.5.0",
            "_view_name": "HTMLView",
            "description": "",
            "description_tooltip": null,
            "layout": "IPY_MODEL_82274359298c4bfaab3fdb2aa8722cc6",
            "placeholder": "​",
            "style": "IPY_MODEL_96a8300f07ef40f1ad32417f80c2837b",
            "value": "Downloading (…)solve/main/vocab.txt: 100%"
          }
        },
        "e7b674471299495a8cc27290f1e8de16": {
          "model_module": "@jupyter-widgets/controls",
          "model_name": "FloatProgressModel",
          "model_module_version": "1.5.0",
          "state": {
            "_dom_classes": [],
            "_model_module": "@jupyter-widgets/controls",
            "_model_module_version": "1.5.0",
            "_model_name": "FloatProgressModel",
            "_view_count": null,
            "_view_module": "@jupyter-widgets/controls",
            "_view_module_version": "1.5.0",
            "_view_name": "ProgressView",
            "bar_style": "success",
            "description": "",
            "description_tooltip": null,
            "layout": "IPY_MODEL_fd94a7bbd87f486998867ad6b74f223d",
            "max": 231508,
            "min": 0,
            "orientation": "horizontal",
            "style": "IPY_MODEL_c3e2fa337a704e95bdd8174571e19924",
            "value": 231508
          }
        },
        "0108382579cd477b8ee82c851a8d80ad": {
          "model_module": "@jupyter-widgets/controls",
          "model_name": "HTMLModel",
          "model_module_version": "1.5.0",
          "state": {
            "_dom_classes": [],
            "_model_module": "@jupyter-widgets/controls",
            "_model_module_version": "1.5.0",
            "_model_name": "HTMLModel",
            "_view_count": null,
            "_view_module": "@jupyter-widgets/controls",
            "_view_module_version": "1.5.0",
            "_view_name": "HTMLView",
            "description": "",
            "description_tooltip": null,
            "layout": "IPY_MODEL_05e8a14c10a14d0d985aeea20a9f2c05",
            "placeholder": "​",
            "style": "IPY_MODEL_ec63b0735c7740d3bf39784d1a137d4b",
            "value": " 232k/232k [00:00&lt;00:00, 502kB/s]"
          }
        },
        "9799443cf16e4d71b14835c804806634": {
          "model_module": "@jupyter-widgets/base",
          "model_name": "LayoutModel",
          "model_module_version": "1.2.0",
          "state": {
            "_model_module": "@jupyter-widgets/base",
            "_model_module_version": "1.2.0",
            "_model_name": "LayoutModel",
            "_view_count": null,
            "_view_module": "@jupyter-widgets/base",
            "_view_module_version": "1.2.0",
            "_view_name": "LayoutView",
            "align_content": null,
            "align_items": null,
            "align_self": null,
            "border": null,
            "bottom": null,
            "display": null,
            "flex": null,
            "flex_flow": null,
            "grid_area": null,
            "grid_auto_columns": null,
            "grid_auto_flow": null,
            "grid_auto_rows": null,
            "grid_column": null,
            "grid_gap": null,
            "grid_row": null,
            "grid_template_areas": null,
            "grid_template_columns": null,
            "grid_template_rows": null,
            "height": null,
            "justify_content": null,
            "justify_items": null,
            "left": null,
            "margin": null,
            "max_height": null,
            "max_width": null,
            "min_height": null,
            "min_width": null,
            "object_fit": null,
            "object_position": null,
            "order": null,
            "overflow": null,
            "overflow_x": null,
            "overflow_y": null,
            "padding": null,
            "right": null,
            "top": null,
            "visibility": null,
            "width": null
          }
        },
        "82274359298c4bfaab3fdb2aa8722cc6": {
          "model_module": "@jupyter-widgets/base",
          "model_name": "LayoutModel",
          "model_module_version": "1.2.0",
          "state": {
            "_model_module": "@jupyter-widgets/base",
            "_model_module_version": "1.2.0",
            "_model_name": "LayoutModel",
            "_view_count": null,
            "_view_module": "@jupyter-widgets/base",
            "_view_module_version": "1.2.0",
            "_view_name": "LayoutView",
            "align_content": null,
            "align_items": null,
            "align_self": null,
            "border": null,
            "bottom": null,
            "display": null,
            "flex": null,
            "flex_flow": null,
            "grid_area": null,
            "grid_auto_columns": null,
            "grid_auto_flow": null,
            "grid_auto_rows": null,
            "grid_column": null,
            "grid_gap": null,
            "grid_row": null,
            "grid_template_areas": null,
            "grid_template_columns": null,
            "grid_template_rows": null,
            "height": null,
            "justify_content": null,
            "justify_items": null,
            "left": null,
            "margin": null,
            "max_height": null,
            "max_width": null,
            "min_height": null,
            "min_width": null,
            "object_fit": null,
            "object_position": null,
            "order": null,
            "overflow": null,
            "overflow_x": null,
            "overflow_y": null,
            "padding": null,
            "right": null,
            "top": null,
            "visibility": null,
            "width": null
          }
        },
        "96a8300f07ef40f1ad32417f80c2837b": {
          "model_module": "@jupyter-widgets/controls",
          "model_name": "DescriptionStyleModel",
          "model_module_version": "1.5.0",
          "state": {
            "_model_module": "@jupyter-widgets/controls",
            "_model_module_version": "1.5.0",
            "_model_name": "DescriptionStyleModel",
            "_view_count": null,
            "_view_module": "@jupyter-widgets/base",
            "_view_module_version": "1.2.0",
            "_view_name": "StyleView",
            "description_width": ""
          }
        },
        "fd94a7bbd87f486998867ad6b74f223d": {
          "model_module": "@jupyter-widgets/base",
          "model_name": "LayoutModel",
          "model_module_version": "1.2.0",
          "state": {
            "_model_module": "@jupyter-widgets/base",
            "_model_module_version": "1.2.0",
            "_model_name": "LayoutModel",
            "_view_count": null,
            "_view_module": "@jupyter-widgets/base",
            "_view_module_version": "1.2.0",
            "_view_name": "LayoutView",
            "align_content": null,
            "align_items": null,
            "align_self": null,
            "border": null,
            "bottom": null,
            "display": null,
            "flex": null,
            "flex_flow": null,
            "grid_area": null,
            "grid_auto_columns": null,
            "grid_auto_flow": null,
            "grid_auto_rows": null,
            "grid_column": null,
            "grid_gap": null,
            "grid_row": null,
            "grid_template_areas": null,
            "grid_template_columns": null,
            "grid_template_rows": null,
            "height": null,
            "justify_content": null,
            "justify_items": null,
            "left": null,
            "margin": null,
            "max_height": null,
            "max_width": null,
            "min_height": null,
            "min_width": null,
            "object_fit": null,
            "object_position": null,
            "order": null,
            "overflow": null,
            "overflow_x": null,
            "overflow_y": null,
            "padding": null,
            "right": null,
            "top": null,
            "visibility": null,
            "width": null
          }
        },
        "c3e2fa337a704e95bdd8174571e19924": {
          "model_module": "@jupyter-widgets/controls",
          "model_name": "ProgressStyleModel",
          "model_module_version": "1.5.0",
          "state": {
            "_model_module": "@jupyter-widgets/controls",
            "_model_module_version": "1.5.0",
            "_model_name": "ProgressStyleModel",
            "_view_count": null,
            "_view_module": "@jupyter-widgets/base",
            "_view_module_version": "1.2.0",
            "_view_name": "StyleView",
            "bar_color": null,
            "description_width": ""
          }
        },
        "05e8a14c10a14d0d985aeea20a9f2c05": {
          "model_module": "@jupyter-widgets/base",
          "model_name": "LayoutModel",
          "model_module_version": "1.2.0",
          "state": {
            "_model_module": "@jupyter-widgets/base",
            "_model_module_version": "1.2.0",
            "_model_name": "LayoutModel",
            "_view_count": null,
            "_view_module": "@jupyter-widgets/base",
            "_view_module_version": "1.2.0",
            "_view_name": "LayoutView",
            "align_content": null,
            "align_items": null,
            "align_self": null,
            "border": null,
            "bottom": null,
            "display": null,
            "flex": null,
            "flex_flow": null,
            "grid_area": null,
            "grid_auto_columns": null,
            "grid_auto_flow": null,
            "grid_auto_rows": null,
            "grid_column": null,
            "grid_gap": null,
            "grid_row": null,
            "grid_template_areas": null,
            "grid_template_columns": null,
            "grid_template_rows": null,
            "height": null,
            "justify_content": null,
            "justify_items": null,
            "left": null,
            "margin": null,
            "max_height": null,
            "max_width": null,
            "min_height": null,
            "min_width": null,
            "object_fit": null,
            "object_position": null,
            "order": null,
            "overflow": null,
            "overflow_x": null,
            "overflow_y": null,
            "padding": null,
            "right": null,
            "top": null,
            "visibility": null,
            "width": null
          }
        },
        "ec63b0735c7740d3bf39784d1a137d4b": {
          "model_module": "@jupyter-widgets/controls",
          "model_name": "DescriptionStyleModel",
          "model_module_version": "1.5.0",
          "state": {
            "_model_module": "@jupyter-widgets/controls",
            "_model_module_version": "1.5.0",
            "_model_name": "DescriptionStyleModel",
            "_view_count": null,
            "_view_module": "@jupyter-widgets/base",
            "_view_module_version": "1.2.0",
            "_view_name": "StyleView",
            "description_width": ""
          }
        },
        "6d7ab1a6926242228d440519c09e40e8": {
          "model_module": "@jupyter-widgets/controls",
          "model_name": "HBoxModel",
          "model_module_version": "1.5.0",
          "state": {
            "_dom_classes": [],
            "_model_module": "@jupyter-widgets/controls",
            "_model_module_version": "1.5.0",
            "_model_name": "HBoxModel",
            "_view_count": null,
            "_view_module": "@jupyter-widgets/controls",
            "_view_module_version": "1.5.0",
            "_view_name": "HBoxView",
            "box_style": "",
            "children": [
              "IPY_MODEL_20eb802ee5264184bda4d334bb119a25",
              "IPY_MODEL_a34d849bf34849f1846a64593bc231fb",
              "IPY_MODEL_6e3921274cb74111abfaff84c0b27210"
            ],
            "layout": "IPY_MODEL_0bbf8d189edc4a27ad4116019db765d0"
          }
        },
        "20eb802ee5264184bda4d334bb119a25": {
          "model_module": "@jupyter-widgets/controls",
          "model_name": "HTMLModel",
          "model_module_version": "1.5.0",
          "state": {
            "_dom_classes": [],
            "_model_module": "@jupyter-widgets/controls",
            "_model_module_version": "1.5.0",
            "_model_name": "HTMLModel",
            "_view_count": null,
            "_view_module": "@jupyter-widgets/controls",
            "_view_module_version": "1.5.0",
            "_view_name": "HTMLView",
            "description": "",
            "description_tooltip": null,
            "layout": "IPY_MODEL_7c866ff3b5a4479fb28596e9dd18fc11",
            "placeholder": "​",
            "style": "IPY_MODEL_8b9207b7c1b641dba01845ee0e7fb57f",
            "value": "Downloading (…)cial_tokens_map.json: 100%"
          }
        },
        "a34d849bf34849f1846a64593bc231fb": {
          "model_module": "@jupyter-widgets/controls",
          "model_name": "FloatProgressModel",
          "model_module_version": "1.5.0",
          "state": {
            "_dom_classes": [],
            "_model_module": "@jupyter-widgets/controls",
            "_model_module_version": "1.5.0",
            "_model_name": "FloatProgressModel",
            "_view_count": null,
            "_view_module": "@jupyter-widgets/controls",
            "_view_module_version": "1.5.0",
            "_view_name": "ProgressView",
            "bar_style": "success",
            "description": "",
            "description_tooltip": null,
            "layout": "IPY_MODEL_bddbace0a64e429d89f3ed830732f26e",
            "max": 112,
            "min": 0,
            "orientation": "horizontal",
            "style": "IPY_MODEL_f6b7fe6e6bd24011905444b65e4430a5",
            "value": 112
          }
        },
        "6e3921274cb74111abfaff84c0b27210": {
          "model_module": "@jupyter-widgets/controls",
          "model_name": "HTMLModel",
          "model_module_version": "1.5.0",
          "state": {
            "_dom_classes": [],
            "_model_module": "@jupyter-widgets/controls",
            "_model_module_version": "1.5.0",
            "_model_name": "HTMLModel",
            "_view_count": null,
            "_view_module": "@jupyter-widgets/controls",
            "_view_module_version": "1.5.0",
            "_view_name": "HTMLView",
            "description": "",
            "description_tooltip": null,
            "layout": "IPY_MODEL_0fe54b6284f44209b3a5e297367e772c",
            "placeholder": "​",
            "style": "IPY_MODEL_266deefd41c64b1cbb32e28a5ddb2bad",
            "value": " 112/112 [00:00&lt;00:00, 8.75kB/s]"
          }
        },
        "0bbf8d189edc4a27ad4116019db765d0": {
          "model_module": "@jupyter-widgets/base",
          "model_name": "LayoutModel",
          "model_module_version": "1.2.0",
          "state": {
            "_model_module": "@jupyter-widgets/base",
            "_model_module_version": "1.2.0",
            "_model_name": "LayoutModel",
            "_view_count": null,
            "_view_module": "@jupyter-widgets/base",
            "_view_module_version": "1.2.0",
            "_view_name": "LayoutView",
            "align_content": null,
            "align_items": null,
            "align_self": null,
            "border": null,
            "bottom": null,
            "display": null,
            "flex": null,
            "flex_flow": null,
            "grid_area": null,
            "grid_auto_columns": null,
            "grid_auto_flow": null,
            "grid_auto_rows": null,
            "grid_column": null,
            "grid_gap": null,
            "grid_row": null,
            "grid_template_areas": null,
            "grid_template_columns": null,
            "grid_template_rows": null,
            "height": null,
            "justify_content": null,
            "justify_items": null,
            "left": null,
            "margin": null,
            "max_height": null,
            "max_width": null,
            "min_height": null,
            "min_width": null,
            "object_fit": null,
            "object_position": null,
            "order": null,
            "overflow": null,
            "overflow_x": null,
            "overflow_y": null,
            "padding": null,
            "right": null,
            "top": null,
            "visibility": null,
            "width": null
          }
        },
        "7c866ff3b5a4479fb28596e9dd18fc11": {
          "model_module": "@jupyter-widgets/base",
          "model_name": "LayoutModel",
          "model_module_version": "1.2.0",
          "state": {
            "_model_module": "@jupyter-widgets/base",
            "_model_module_version": "1.2.0",
            "_model_name": "LayoutModel",
            "_view_count": null,
            "_view_module": "@jupyter-widgets/base",
            "_view_module_version": "1.2.0",
            "_view_name": "LayoutView",
            "align_content": null,
            "align_items": null,
            "align_self": null,
            "border": null,
            "bottom": null,
            "display": null,
            "flex": null,
            "flex_flow": null,
            "grid_area": null,
            "grid_auto_columns": null,
            "grid_auto_flow": null,
            "grid_auto_rows": null,
            "grid_column": null,
            "grid_gap": null,
            "grid_row": null,
            "grid_template_areas": null,
            "grid_template_columns": null,
            "grid_template_rows": null,
            "height": null,
            "justify_content": null,
            "justify_items": null,
            "left": null,
            "margin": null,
            "max_height": null,
            "max_width": null,
            "min_height": null,
            "min_width": null,
            "object_fit": null,
            "object_position": null,
            "order": null,
            "overflow": null,
            "overflow_x": null,
            "overflow_y": null,
            "padding": null,
            "right": null,
            "top": null,
            "visibility": null,
            "width": null
          }
        },
        "8b9207b7c1b641dba01845ee0e7fb57f": {
          "model_module": "@jupyter-widgets/controls",
          "model_name": "DescriptionStyleModel",
          "model_module_version": "1.5.0",
          "state": {
            "_model_module": "@jupyter-widgets/controls",
            "_model_module_version": "1.5.0",
            "_model_name": "DescriptionStyleModel",
            "_view_count": null,
            "_view_module": "@jupyter-widgets/base",
            "_view_module_version": "1.2.0",
            "_view_name": "StyleView",
            "description_width": ""
          }
        },
        "bddbace0a64e429d89f3ed830732f26e": {
          "model_module": "@jupyter-widgets/base",
          "model_name": "LayoutModel",
          "model_module_version": "1.2.0",
          "state": {
            "_model_module": "@jupyter-widgets/base",
            "_model_module_version": "1.2.0",
            "_model_name": "LayoutModel",
            "_view_count": null,
            "_view_module": "@jupyter-widgets/base",
            "_view_module_version": "1.2.0",
            "_view_name": "LayoutView",
            "align_content": null,
            "align_items": null,
            "align_self": null,
            "border": null,
            "bottom": null,
            "display": null,
            "flex": null,
            "flex_flow": null,
            "grid_area": null,
            "grid_auto_columns": null,
            "grid_auto_flow": null,
            "grid_auto_rows": null,
            "grid_column": null,
            "grid_gap": null,
            "grid_row": null,
            "grid_template_areas": null,
            "grid_template_columns": null,
            "grid_template_rows": null,
            "height": null,
            "justify_content": null,
            "justify_items": null,
            "left": null,
            "margin": null,
            "max_height": null,
            "max_width": null,
            "min_height": null,
            "min_width": null,
            "object_fit": null,
            "object_position": null,
            "order": null,
            "overflow": null,
            "overflow_x": null,
            "overflow_y": null,
            "padding": null,
            "right": null,
            "top": null,
            "visibility": null,
            "width": null
          }
        },
        "f6b7fe6e6bd24011905444b65e4430a5": {
          "model_module": "@jupyter-widgets/controls",
          "model_name": "ProgressStyleModel",
          "model_module_version": "1.5.0",
          "state": {
            "_model_module": "@jupyter-widgets/controls",
            "_model_module_version": "1.5.0",
            "_model_name": "ProgressStyleModel",
            "_view_count": null,
            "_view_module": "@jupyter-widgets/base",
            "_view_module_version": "1.2.0",
            "_view_name": "StyleView",
            "bar_color": null,
            "description_width": ""
          }
        },
        "0fe54b6284f44209b3a5e297367e772c": {
          "model_module": "@jupyter-widgets/base",
          "model_name": "LayoutModel",
          "model_module_version": "1.2.0",
          "state": {
            "_model_module": "@jupyter-widgets/base",
            "_model_module_version": "1.2.0",
            "_model_name": "LayoutModel",
            "_view_count": null,
            "_view_module": "@jupyter-widgets/base",
            "_view_module_version": "1.2.0",
            "_view_name": "LayoutView",
            "align_content": null,
            "align_items": null,
            "align_self": null,
            "border": null,
            "bottom": null,
            "display": null,
            "flex": null,
            "flex_flow": null,
            "grid_area": null,
            "grid_auto_columns": null,
            "grid_auto_flow": null,
            "grid_auto_rows": null,
            "grid_column": null,
            "grid_gap": null,
            "grid_row": null,
            "grid_template_areas": null,
            "grid_template_columns": null,
            "grid_template_rows": null,
            "height": null,
            "justify_content": null,
            "justify_items": null,
            "left": null,
            "margin": null,
            "max_height": null,
            "max_width": null,
            "min_height": null,
            "min_width": null,
            "object_fit": null,
            "object_position": null,
            "order": null,
            "overflow": null,
            "overflow_x": null,
            "overflow_y": null,
            "padding": null,
            "right": null,
            "top": null,
            "visibility": null,
            "width": null
          }
        },
        "266deefd41c64b1cbb32e28a5ddb2bad": {
          "model_module": "@jupyter-widgets/controls",
          "model_name": "DescriptionStyleModel",
          "model_module_version": "1.5.0",
          "state": {
            "_model_module": "@jupyter-widgets/controls",
            "_model_module_version": "1.5.0",
            "_model_name": "DescriptionStyleModel",
            "_view_count": null,
            "_view_module": "@jupyter-widgets/base",
            "_view_module_version": "1.2.0",
            "_view_name": "StyleView",
            "description_width": ""
          }
        }
      }
    }
  },
  "nbformat": 4,
  "nbformat_minor": 0
}